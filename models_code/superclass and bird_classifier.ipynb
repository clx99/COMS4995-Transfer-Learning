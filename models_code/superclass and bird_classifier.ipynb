{
 "cells": [
  {
   "cell_type": "code",
   "execution_count": 1,
   "id": "ffa261e6-5515-4d87-b8ac-24f417074c7d",
   "metadata": {},
   "outputs": [],
   "source": [
    "import torchvision.models as models\n",
    "from torchvision.models import EfficientNet_B5_Weights\n",
    "import torch\n",
    "import torch.nn as nn\n",
    "from torchvision import models\n",
    "import pandas as pd"
   ]
  },
  {
   "cell_type": "markdown",
   "id": "860255e3-134e-44c2-87b7-46d29952db36",
   "metadata": {},
   "source": [
    "# Superclass CNNMLP"
   ]
  },
  {
   "cell_type": "code",
   "execution_count": 21,
   "id": "18d3ebe8-b945-483b-9144-54664f2ad431",
   "metadata": {},
   "outputs": [],
   "source": [
    "class SuperClassCNNMLP(nn.Module):\n",
    "    def __init__(self, input_dim, hidden_dim1=128, hidden_dim2=64, output_dim=4):\n",
    "        super(SuperClassCNNMLP, self).__init__()\n",
    "        \n",
    "        self.conv_layers = nn.Sequential(\n",
    "            nn.Conv2d(3, 16, kernel_size=3, padding=1),  \n",
    "            nn.BatchNorm2d(16),\n",
    "            nn.ReLU(),\n",
    "            nn.MaxPool2d(2),  \n",
    "\n",
    "            nn.Conv2d(16, 32, kernel_size=3, padding=1),  \n",
    "            nn.BatchNorm2d(32),\n",
    "            nn.ReLU(),\n",
    "            nn.MaxPool2d(2), \n",
    "\n",
    "            nn.Conv2d(32, 64, kernel_size=3, padding=1), \n",
    "            nn.BatchNorm2d(64),\n",
    "            nn.ReLU(),\n",
    "            nn.MaxPool2d(2),\n",
    "\n",
    "            nn.Conv2d(64, 128, kernel_size=3, padding=1),\n",
    "            nn.BatchNorm2d(128),\n",
    "            nn.ReLU(),\n",
    "            nn.MaxPool2d(2), \n",
    "\n",
    "            nn.Conv2d(128, 256, kernel_size=3, padding=1),\n",
    "            nn.BatchNorm2d(256),\n",
    "            nn.ReLU(),\n",
    "            nn.MaxPool2d(2),  \n",
    "        )\n",
    "\n",
    "        self.classifier = nn.Sequential(\n",
    "            nn.Linear(256 * 7 * 7, 512),\n",
    "            nn.ReLU(),\n",
    "            nn.Dropout(0.5),\n",
    "            nn.Linear(512, output_dim),\n",
    "        )\n",
    "    \n",
    "    def forward(self, x):\n",
    "        x = self.conv_layers(x)               \n",
    "        x = x.view(x.size(0), -1)             \n",
    "        x = self.classifier(x)    \n",
    "        return x"
   ]
  },
  {
   "cell_type": "code",
   "execution_count": 22,
   "id": "c7ee7d02-b3a2-4f0b-9c7d-0e61f17f6e01",
   "metadata": {},
   "outputs": [],
   "source": [
    "super_class_train = pd.read_csv('train_data.csv')"
   ]
  },
  {
   "cell_type": "code",
   "execution_count": 23,
   "id": "467680ee-d0ec-4470-b44a-260f95b478bd",
   "metadata": {},
   "outputs": [],
   "source": [
    "super_class_train = super_class_train[['image', 'superclass_index']]"
   ]
  },
  {
   "cell_type": "code",
   "execution_count": 24,
   "id": "4eee8e29-7b77-4f34-95a6-1a14da958b92",
   "metadata": {},
   "outputs": [],
   "source": [
    "super_class_train['image'] = super_class_train['image'].apply(\n",
    "    lambda x: x if x.startswith('./train_images/train_images/') else f'./train_images/train_images/{x}'\n",
    ")"
   ]
  },
  {
   "cell_type": "code",
   "execution_count": 25,
   "id": "930c8ade-fd1d-4002-a871-43fd13b8ecbf",
   "metadata": {},
   "outputs": [
    {
     "data": {
      "text/html": [
       "<div>\n",
       "<style scoped>\n",
       "    .dataframe tbody tr th:only-of-type {\n",
       "        vertical-align: middle;\n",
       "    }\n",
       "\n",
       "    .dataframe tbody tr th {\n",
       "        vertical-align: top;\n",
       "    }\n",
       "\n",
       "    .dataframe thead th {\n",
       "        text-align: right;\n",
       "    }\n",
       "</style>\n",
       "<table border=\"1\" class=\"dataframe\">\n",
       "  <thead>\n",
       "    <tr style=\"text-align: right;\">\n",
       "      <th></th>\n",
       "      <th>image</th>\n",
       "      <th>superclass_index</th>\n",
       "    </tr>\n",
       "  </thead>\n",
       "  <tbody>\n",
       "    <tr>\n",
       "      <th>0</th>\n",
       "      <td>./train_images/train_images/0.jpg</td>\n",
       "      <td>1</td>\n",
       "    </tr>\n",
       "    <tr>\n",
       "      <th>1</th>\n",
       "      <td>./train_images/train_images/1.jpg</td>\n",
       "      <td>0</td>\n",
       "    </tr>\n",
       "    <tr>\n",
       "      <th>2</th>\n",
       "      <td>./train_images/train_images/2.jpg</td>\n",
       "      <td>1</td>\n",
       "    </tr>\n",
       "    <tr>\n",
       "      <th>3</th>\n",
       "      <td>./train_images/train_images/3.jpg</td>\n",
       "      <td>1</td>\n",
       "    </tr>\n",
       "    <tr>\n",
       "      <th>4</th>\n",
       "      <td>./train_images/train_images/4.jpg</td>\n",
       "      <td>0</td>\n",
       "    </tr>\n",
       "    <tr>\n",
       "      <th>...</th>\n",
       "      <td>...</td>\n",
       "      <td>...</td>\n",
       "    </tr>\n",
       "    <tr>\n",
       "      <th>6283</th>\n",
       "      <td>./train_images/train_images/6283.jpg</td>\n",
       "      <td>2</td>\n",
       "    </tr>\n",
       "    <tr>\n",
       "      <th>6284</th>\n",
       "      <td>./train_images/train_images/6284.jpg</td>\n",
       "      <td>2</td>\n",
       "    </tr>\n",
       "    <tr>\n",
       "      <th>6285</th>\n",
       "      <td>./train_images/train_images/6285.jpg</td>\n",
       "      <td>0</td>\n",
       "    </tr>\n",
       "    <tr>\n",
       "      <th>6286</th>\n",
       "      <td>./train_images/train_images/6286.jpg</td>\n",
       "      <td>0</td>\n",
       "    </tr>\n",
       "    <tr>\n",
       "      <th>6287</th>\n",
       "      <td>./train_images/train_images/6287.jpg</td>\n",
       "      <td>2</td>\n",
       "    </tr>\n",
       "  </tbody>\n",
       "</table>\n",
       "<p>6288 rows × 2 columns</p>\n",
       "</div>"
      ],
      "text/plain": [
       "                                     image  superclass_index\n",
       "0        ./train_images/train_images/0.jpg                 1\n",
       "1        ./train_images/train_images/1.jpg                 0\n",
       "2        ./train_images/train_images/2.jpg                 1\n",
       "3        ./train_images/train_images/3.jpg                 1\n",
       "4        ./train_images/train_images/4.jpg                 0\n",
       "...                                    ...               ...\n",
       "6283  ./train_images/train_images/6283.jpg                 2\n",
       "6284  ./train_images/train_images/6284.jpg                 2\n",
       "6285  ./train_images/train_images/6285.jpg                 0\n",
       "6286  ./train_images/train_images/6286.jpg                 0\n",
       "6287  ./train_images/train_images/6287.jpg                 2\n",
       "\n",
       "[6288 rows x 2 columns]"
      ]
     },
     "execution_count": 25,
     "metadata": {},
     "output_type": "execute_result"
    }
   ],
   "source": [
    "super_class_train"
   ]
  },
  {
   "cell_type": "code",
   "execution_count": 26,
   "id": "45557acb-cde9-46a2-8a33-405f971a639a",
   "metadata": {},
   "outputs": [],
   "source": [
    "import os\n",
    "root_dir = './train_images/fishes/'\n",
    "img_paths = []\n",
    "for root, dirs, files in os.walk(root_dir):\n",
    "    for file in files:\n",
    "        if file == '.DS_Store':\n",
    "            continue\n",
    "        full_path = os.path.join(root, file)\n",
    "        img_paths.append(full_path.replace(\"\\\\\", \"/\"))\n",
    "new_data = pd.DataFrame({\n",
    "    'image': img_paths,\n",
    "    'superclass_index': 3   \n",
    "})"
   ]
  },
  {
   "cell_type": "code",
   "execution_count": 27,
   "id": "8ba7544d-7cb2-4862-850b-19a28d267edb",
   "metadata": {},
   "outputs": [
    {
     "data": {
      "text/html": [
       "<div>\n",
       "<style scoped>\n",
       "    .dataframe tbody tr th:only-of-type {\n",
       "        vertical-align: middle;\n",
       "    }\n",
       "\n",
       "    .dataframe tbody tr th {\n",
       "        vertical-align: top;\n",
       "    }\n",
       "\n",
       "    .dataframe thead th {\n",
       "        text-align: right;\n",
       "    }\n",
       "</style>\n",
       "<table border=\"1\" class=\"dataframe\">\n",
       "  <thead>\n",
       "    <tr style=\"text-align: right;\">\n",
       "      <th></th>\n",
       "      <th>image</th>\n",
       "      <th>superclass_index</th>\n",
       "    </tr>\n",
       "  </thead>\n",
       "  <tbody>\n",
       "    <tr>\n",
       "      <th>0</th>\n",
       "      <td>./train_images/fishes/raw_images/A73EGS-P_1.jpg</td>\n",
       "      <td>3</td>\n",
       "    </tr>\n",
       "    <tr>\n",
       "      <th>1</th>\n",
       "      <td>./train_images/fishes/raw_images/A73EGS-P_2.jpg</td>\n",
       "      <td>3</td>\n",
       "    </tr>\n",
       "    <tr>\n",
       "      <th>2</th>\n",
       "      <td>./train_images/fishes/raw_images/A73EGS-P_3.jpg</td>\n",
       "      <td>3</td>\n",
       "    </tr>\n",
       "    <tr>\n",
       "      <th>3</th>\n",
       "      <td>./train_images/fishes/raw_images/A73EGS-P_4.jpg</td>\n",
       "      <td>3</td>\n",
       "    </tr>\n",
       "    <tr>\n",
       "      <th>4</th>\n",
       "      <td>./train_images/fishes/raw_images/A73EGS-P_5.jpg</td>\n",
       "      <td>3</td>\n",
       "    </tr>\n",
       "    <tr>\n",
       "      <th>...</th>\n",
       "      <td>...</td>\n",
       "      <td>...</td>\n",
       "    </tr>\n",
       "    <tr>\n",
       "      <th>5949</th>\n",
       "      <td>./train_images/fishes/sharks/whitetip/00000142...</td>\n",
       "      <td>3</td>\n",
       "    </tr>\n",
       "    <tr>\n",
       "      <th>5950</th>\n",
       "      <td>./train_images/fishes/sharks/whitetip/00000143...</td>\n",
       "      <td>3</td>\n",
       "    </tr>\n",
       "    <tr>\n",
       "      <th>5951</th>\n",
       "      <td>./train_images/fishes/sharks/whitetip/00000144...</td>\n",
       "      <td>3</td>\n",
       "    </tr>\n",
       "    <tr>\n",
       "      <th>5952</th>\n",
       "      <td>./train_images/fishes/sharks/whitetip/00000148...</td>\n",
       "      <td>3</td>\n",
       "    </tr>\n",
       "    <tr>\n",
       "      <th>5953</th>\n",
       "      <td>./train_images/fishes/sharks/whitetip/00000149...</td>\n",
       "      <td>3</td>\n",
       "    </tr>\n",
       "  </tbody>\n",
       "</table>\n",
       "<p>5954 rows × 2 columns</p>\n",
       "</div>"
      ],
      "text/plain": [
       "                                                  image  superclass_index\n",
       "0       ./train_images/fishes/raw_images/A73EGS-P_1.jpg                 3\n",
       "1       ./train_images/fishes/raw_images/A73EGS-P_2.jpg                 3\n",
       "2       ./train_images/fishes/raw_images/A73EGS-P_3.jpg                 3\n",
       "3       ./train_images/fishes/raw_images/A73EGS-P_4.jpg                 3\n",
       "4       ./train_images/fishes/raw_images/A73EGS-P_5.jpg                 3\n",
       "...                                                 ...               ...\n",
       "5949  ./train_images/fishes/sharks/whitetip/00000142...                 3\n",
       "5950  ./train_images/fishes/sharks/whitetip/00000143...                 3\n",
       "5951  ./train_images/fishes/sharks/whitetip/00000144...                 3\n",
       "5952  ./train_images/fishes/sharks/whitetip/00000148...                 3\n",
       "5953  ./train_images/fishes/sharks/whitetip/00000149...                 3\n",
       "\n",
       "[5954 rows x 2 columns]"
      ]
     },
     "execution_count": 27,
     "metadata": {},
     "output_type": "execute_result"
    }
   ],
   "source": [
    "new_data"
   ]
  },
  {
   "cell_type": "code",
   "execution_count": 28,
   "id": "bc6b0579-3252-424c-b0f9-afcfc7e97446",
   "metadata": {},
   "outputs": [],
   "source": [
    "super_class_train = pd.concat([super_class_train, new_data], ignore_index=True)"
   ]
  },
  {
   "cell_type": "code",
   "execution_count": 29,
   "id": "8e7b10e5-64bb-47e0-910b-13e5dff64e93",
   "metadata": {},
   "outputs": [
    {
     "data": {
      "text/html": [
       "<div>\n",
       "<style scoped>\n",
       "    .dataframe tbody tr th:only-of-type {\n",
       "        vertical-align: middle;\n",
       "    }\n",
       "\n",
       "    .dataframe tbody tr th {\n",
       "        vertical-align: top;\n",
       "    }\n",
       "\n",
       "    .dataframe thead th {\n",
       "        text-align: right;\n",
       "    }\n",
       "</style>\n",
       "<table border=\"1\" class=\"dataframe\">\n",
       "  <thead>\n",
       "    <tr style=\"text-align: right;\">\n",
       "      <th></th>\n",
       "      <th>image</th>\n",
       "      <th>superclass_index</th>\n",
       "    </tr>\n",
       "  </thead>\n",
       "  <tbody>\n",
       "    <tr>\n",
       "      <th>0</th>\n",
       "      <td>./train_images/train_images/0.jpg</td>\n",
       "      <td>1</td>\n",
       "    </tr>\n",
       "    <tr>\n",
       "      <th>1</th>\n",
       "      <td>./train_images/train_images/1.jpg</td>\n",
       "      <td>0</td>\n",
       "    </tr>\n",
       "    <tr>\n",
       "      <th>2</th>\n",
       "      <td>./train_images/train_images/2.jpg</td>\n",
       "      <td>1</td>\n",
       "    </tr>\n",
       "    <tr>\n",
       "      <th>3</th>\n",
       "      <td>./train_images/train_images/3.jpg</td>\n",
       "      <td>1</td>\n",
       "    </tr>\n",
       "    <tr>\n",
       "      <th>4</th>\n",
       "      <td>./train_images/train_images/4.jpg</td>\n",
       "      <td>0</td>\n",
       "    </tr>\n",
       "    <tr>\n",
       "      <th>...</th>\n",
       "      <td>...</td>\n",
       "      <td>...</td>\n",
       "    </tr>\n",
       "    <tr>\n",
       "      <th>12237</th>\n",
       "      <td>./train_images/fishes/sharks/whitetip/00000142...</td>\n",
       "      <td>3</td>\n",
       "    </tr>\n",
       "    <tr>\n",
       "      <th>12238</th>\n",
       "      <td>./train_images/fishes/sharks/whitetip/00000143...</td>\n",
       "      <td>3</td>\n",
       "    </tr>\n",
       "    <tr>\n",
       "      <th>12239</th>\n",
       "      <td>./train_images/fishes/sharks/whitetip/00000144...</td>\n",
       "      <td>3</td>\n",
       "    </tr>\n",
       "    <tr>\n",
       "      <th>12240</th>\n",
       "      <td>./train_images/fishes/sharks/whitetip/00000148...</td>\n",
       "      <td>3</td>\n",
       "    </tr>\n",
       "    <tr>\n",
       "      <th>12241</th>\n",
       "      <td>./train_images/fishes/sharks/whitetip/00000149...</td>\n",
       "      <td>3</td>\n",
       "    </tr>\n",
       "  </tbody>\n",
       "</table>\n",
       "<p>12242 rows × 2 columns</p>\n",
       "</div>"
      ],
      "text/plain": [
       "                                                   image  superclass_index\n",
       "0                      ./train_images/train_images/0.jpg                 1\n",
       "1                      ./train_images/train_images/1.jpg                 0\n",
       "2                      ./train_images/train_images/2.jpg                 1\n",
       "3                      ./train_images/train_images/3.jpg                 1\n",
       "4                      ./train_images/train_images/4.jpg                 0\n",
       "...                                                  ...               ...\n",
       "12237  ./train_images/fishes/sharks/whitetip/00000142...                 3\n",
       "12238  ./train_images/fishes/sharks/whitetip/00000143...                 3\n",
       "12239  ./train_images/fishes/sharks/whitetip/00000144...                 3\n",
       "12240  ./train_images/fishes/sharks/whitetip/00000148...                 3\n",
       "12241  ./train_images/fishes/sharks/whitetip/00000149...                 3\n",
       "\n",
       "[12242 rows x 2 columns]"
      ]
     },
     "execution_count": 29,
     "metadata": {},
     "output_type": "execute_result"
    }
   ],
   "source": [
    "super_class_train"
   ]
  },
  {
   "cell_type": "code",
   "execution_count": 30,
   "id": "ba7d944e-418f-43ae-87cc-a16c51990313",
   "metadata": {},
   "outputs": [],
   "source": [
    "# Novel bird classes\n",
    "\n",
    "import os\n",
    "root_dir = './train_images/Bird_sub_novel/'\n",
    "img_paths = []\n",
    "for root, dirs, files in os.walk(root_dir):\n",
    "    for file in files:\n",
    "        full_path = os.path.join(root, file)\n",
    "        img_paths.append(full_path.replace(\"\\\\\", \"/\"))\n",
    "new_data = pd.DataFrame({\n",
    "    'image': img_paths,\n",
    "    'superclass_index': 0   \n",
    "})"
   ]
  },
  {
   "cell_type": "code",
   "execution_count": 31,
   "id": "94a43216-589e-43ae-baec-61cc28a0a7eb",
   "metadata": {},
   "outputs": [],
   "source": [
    "super_class_train = pd.concat([super_class_train, new_data], ignore_index=True)"
   ]
  },
  {
   "cell_type": "code",
   "execution_count": 32,
   "id": "b0112fb8-da40-4102-91f4-5c199ee1bc2e",
   "metadata": {},
   "outputs": [
    {
     "data": {
      "text/html": [
       "<div>\n",
       "<style scoped>\n",
       "    .dataframe tbody tr th:only-of-type {\n",
       "        vertical-align: middle;\n",
       "    }\n",
       "\n",
       "    .dataframe tbody tr th {\n",
       "        vertical-align: top;\n",
       "    }\n",
       "\n",
       "    .dataframe thead th {\n",
       "        text-align: right;\n",
       "    }\n",
       "</style>\n",
       "<table border=\"1\" class=\"dataframe\">\n",
       "  <thead>\n",
       "    <tr style=\"text-align: right;\">\n",
       "      <th></th>\n",
       "      <th>image</th>\n",
       "      <th>superclass_index</th>\n",
       "    </tr>\n",
       "  </thead>\n",
       "  <tbody>\n",
       "    <tr>\n",
       "      <th>0</th>\n",
       "      <td>./train_images/train_images/0.jpg</td>\n",
       "      <td>1</td>\n",
       "    </tr>\n",
       "    <tr>\n",
       "      <th>1</th>\n",
       "      <td>./train_images/train_images/1.jpg</td>\n",
       "      <td>0</td>\n",
       "    </tr>\n",
       "    <tr>\n",
       "      <th>2</th>\n",
       "      <td>./train_images/train_images/2.jpg</td>\n",
       "      <td>1</td>\n",
       "    </tr>\n",
       "    <tr>\n",
       "      <th>3</th>\n",
       "      <td>./train_images/train_images/3.jpg</td>\n",
       "      <td>1</td>\n",
       "    </tr>\n",
       "    <tr>\n",
       "      <th>4</th>\n",
       "      <td>./train_images/train_images/4.jpg</td>\n",
       "      <td>0</td>\n",
       "    </tr>\n",
       "    <tr>\n",
       "      <th>...</th>\n",
       "      <td>...</td>\n",
       "      <td>...</td>\n",
       "    </tr>\n",
       "    <tr>\n",
       "      <th>13587</th>\n",
       "      <td>./train_images/Bird_sub_novel/Yellow_breasted_...</td>\n",
       "      <td>0</td>\n",
       "    </tr>\n",
       "    <tr>\n",
       "      <th>13588</th>\n",
       "      <td>./train_images/Bird_sub_novel/Yellow_breasted_...</td>\n",
       "      <td>0</td>\n",
       "    </tr>\n",
       "    <tr>\n",
       "      <th>13589</th>\n",
       "      <td>./train_images/Bird_sub_novel/Yellow_breasted_...</td>\n",
       "      <td>0</td>\n",
       "    </tr>\n",
       "    <tr>\n",
       "      <th>13590</th>\n",
       "      <td>./train_images/Bird_sub_novel/Yellow_breasted_...</td>\n",
       "      <td>0</td>\n",
       "    </tr>\n",
       "    <tr>\n",
       "      <th>13591</th>\n",
       "      <td>./train_images/Bird_sub_novel/Yellow_breasted_...</td>\n",
       "      <td>0</td>\n",
       "    </tr>\n",
       "  </tbody>\n",
       "</table>\n",
       "<p>13592 rows × 2 columns</p>\n",
       "</div>"
      ],
      "text/plain": [
       "                                                   image  superclass_index\n",
       "0                      ./train_images/train_images/0.jpg                 1\n",
       "1                      ./train_images/train_images/1.jpg                 0\n",
       "2                      ./train_images/train_images/2.jpg                 1\n",
       "3                      ./train_images/train_images/3.jpg                 1\n",
       "4                      ./train_images/train_images/4.jpg                 0\n",
       "...                                                  ...               ...\n",
       "13587  ./train_images/Bird_sub_novel/Yellow_breasted_...                 0\n",
       "13588  ./train_images/Bird_sub_novel/Yellow_breasted_...                 0\n",
       "13589  ./train_images/Bird_sub_novel/Yellow_breasted_...                 0\n",
       "13590  ./train_images/Bird_sub_novel/Yellow_breasted_...                 0\n",
       "13591  ./train_images/Bird_sub_novel/Yellow_breasted_...                 0\n",
       "\n",
       "[13592 rows x 2 columns]"
      ]
     },
     "execution_count": 32,
     "metadata": {},
     "output_type": "execute_result"
    }
   ],
   "source": [
    "super_class_train"
   ]
  },
  {
   "cell_type": "code",
   "execution_count": 33,
   "id": "a9476be3-4e98-4317-aa72-594dda227b31",
   "metadata": {},
   "outputs": [],
   "source": [
    "# Novel dog classes\n",
    "import os\n",
    "root_dir = './train_images/dog_sub_novel/'\n",
    "img_paths = []\n",
    "for root, dirs, files in os.walk(root_dir):\n",
    "    for file in files:\n",
    "        full_path = os.path.join(root, file)\n",
    "        img_paths.append(full_path.replace(\"\\\\\", \"/\"))\n",
    "new_data = pd.DataFrame({\n",
    "    'image': img_paths,\n",
    "    'superclass_index': 1   \n",
    "})"
   ]
  },
  {
   "cell_type": "code",
   "execution_count": 34,
   "id": "f0034536-43f2-4894-bc8c-4f577369f861",
   "metadata": {},
   "outputs": [],
   "source": [
    "super_class_train = pd.concat([super_class_train, new_data], ignore_index=True)"
   ]
  },
  {
   "cell_type": "code",
   "execution_count": 35,
   "id": "55347aa6-b992-4f10-b59f-46fe74ac1aee",
   "metadata": {},
   "outputs": [
    {
     "data": {
      "text/html": [
       "<div>\n",
       "<style scoped>\n",
       "    .dataframe tbody tr th:only-of-type {\n",
       "        vertical-align: middle;\n",
       "    }\n",
       "\n",
       "    .dataframe tbody tr th {\n",
       "        vertical-align: top;\n",
       "    }\n",
       "\n",
       "    .dataframe thead th {\n",
       "        text-align: right;\n",
       "    }\n",
       "</style>\n",
       "<table border=\"1\" class=\"dataframe\">\n",
       "  <thead>\n",
       "    <tr style=\"text-align: right;\">\n",
       "      <th></th>\n",
       "      <th>image</th>\n",
       "      <th>superclass_index</th>\n",
       "    </tr>\n",
       "  </thead>\n",
       "  <tbody>\n",
       "    <tr>\n",
       "      <th>0</th>\n",
       "      <td>./train_images/train_images/0.jpg</td>\n",
       "      <td>1</td>\n",
       "    </tr>\n",
       "    <tr>\n",
       "      <th>1</th>\n",
       "      <td>./train_images/train_images/1.jpg</td>\n",
       "      <td>0</td>\n",
       "    </tr>\n",
       "    <tr>\n",
       "      <th>2</th>\n",
       "      <td>./train_images/train_images/2.jpg</td>\n",
       "      <td>1</td>\n",
       "    </tr>\n",
       "    <tr>\n",
       "      <th>3</th>\n",
       "      <td>./train_images/train_images/3.jpg</td>\n",
       "      <td>1</td>\n",
       "    </tr>\n",
       "    <tr>\n",
       "      <th>4</th>\n",
       "      <td>./train_images/train_images/4.jpg</td>\n",
       "      <td>0</td>\n",
       "    </tr>\n",
       "    <tr>\n",
       "      <th>...</th>\n",
       "      <td>...</td>\n",
       "      <td>...</td>\n",
       "    </tr>\n",
       "    <tr>\n",
       "      <th>14679</th>\n",
       "      <td>./train_images/dog_sub_novel/Yorkshire_terrier...</td>\n",
       "      <td>1</td>\n",
       "    </tr>\n",
       "    <tr>\n",
       "      <th>14680</th>\n",
       "      <td>./train_images/dog_sub_novel/Yorkshire_terrier...</td>\n",
       "      <td>1</td>\n",
       "    </tr>\n",
       "    <tr>\n",
       "      <th>14681</th>\n",
       "      <td>./train_images/dog_sub_novel/Yorkshire_terrier...</td>\n",
       "      <td>1</td>\n",
       "    </tr>\n",
       "    <tr>\n",
       "      <th>14682</th>\n",
       "      <td>./train_images/dog_sub_novel/Yorkshire_terrier...</td>\n",
       "      <td>1</td>\n",
       "    </tr>\n",
       "    <tr>\n",
       "      <th>14683</th>\n",
       "      <td>./train_images/dog_sub_novel/Yorkshire_terrier...</td>\n",
       "      <td>1</td>\n",
       "    </tr>\n",
       "  </tbody>\n",
       "</table>\n",
       "<p>14684 rows × 2 columns</p>\n",
       "</div>"
      ],
      "text/plain": [
       "                                                   image  superclass_index\n",
       "0                      ./train_images/train_images/0.jpg                 1\n",
       "1                      ./train_images/train_images/1.jpg                 0\n",
       "2                      ./train_images/train_images/2.jpg                 1\n",
       "3                      ./train_images/train_images/3.jpg                 1\n",
       "4                      ./train_images/train_images/4.jpg                 0\n",
       "...                                                  ...               ...\n",
       "14679  ./train_images/dog_sub_novel/Yorkshire_terrier...                 1\n",
       "14680  ./train_images/dog_sub_novel/Yorkshire_terrier...                 1\n",
       "14681  ./train_images/dog_sub_novel/Yorkshire_terrier...                 1\n",
       "14682  ./train_images/dog_sub_novel/Yorkshire_terrier...                 1\n",
       "14683  ./train_images/dog_sub_novel/Yorkshire_terrier...                 1\n",
       "\n",
       "[14684 rows x 2 columns]"
      ]
     },
     "execution_count": 35,
     "metadata": {},
     "output_type": "execute_result"
    }
   ],
   "source": [
    "super_class_train"
   ]
  },
  {
   "cell_type": "code",
   "execution_count": 36,
   "id": "86796eae-a66d-437d-b7aa-c9da996c6782",
   "metadata": {},
   "outputs": [],
   "source": [
    "# Novel dog classes\n",
    "import os\n",
    "\n",
    "root_dir = './train_images/reptile_sub_novel/'\n",
    "img_paths = []\n",
    "\n",
    "for root, dirs, files in os.walk(root_dir):\n",
    "    for file in files:\n",
    "        if len(img_paths) >= 500:\n",
    "            break\n",
    "        full_path = os.path.join(root, file)\n",
    "        img_paths.append(full_path.replace(\"\\\\\", \"/\"))\n",
    "\n",
    "# 构建 DataFrame\n",
    "new_data = pd.DataFrame({\n",
    "    'image': img_paths,\n",
    "    'superclass_index': 2  \n",
    "})"
   ]
  },
  {
   "cell_type": "code",
   "execution_count": 37,
   "id": "29abbed3-92a3-476d-8b35-835179ebbc0f",
   "metadata": {},
   "outputs": [],
   "source": [
    "super_class_train = pd.concat([super_class_train, new_data], ignore_index=True)"
   ]
  },
  {
   "cell_type": "code",
   "execution_count": 38,
   "id": "668875b3-3dbd-4c6a-a8a6-a198eb4fd8e5",
   "metadata": {},
   "outputs": [
    {
     "data": {
      "text/html": [
       "<div>\n",
       "<style scoped>\n",
       "    .dataframe tbody tr th:only-of-type {\n",
       "        vertical-align: middle;\n",
       "    }\n",
       "\n",
       "    .dataframe tbody tr th {\n",
       "        vertical-align: top;\n",
       "    }\n",
       "\n",
       "    .dataframe thead th {\n",
       "        text-align: right;\n",
       "    }\n",
       "</style>\n",
       "<table border=\"1\" class=\"dataframe\">\n",
       "  <thead>\n",
       "    <tr style=\"text-align: right;\">\n",
       "      <th></th>\n",
       "      <th>image</th>\n",
       "      <th>superclass_index</th>\n",
       "    </tr>\n",
       "  </thead>\n",
       "  <tbody>\n",
       "    <tr>\n",
       "      <th>0</th>\n",
       "      <td>./train_images/train_images/0.jpg</td>\n",
       "      <td>1</td>\n",
       "    </tr>\n",
       "    <tr>\n",
       "      <th>1</th>\n",
       "      <td>./train_images/train_images/1.jpg</td>\n",
       "      <td>0</td>\n",
       "    </tr>\n",
       "    <tr>\n",
       "      <th>2</th>\n",
       "      <td>./train_images/train_images/2.jpg</td>\n",
       "      <td>1</td>\n",
       "    </tr>\n",
       "    <tr>\n",
       "      <th>3</th>\n",
       "      <td>./train_images/train_images/3.jpg</td>\n",
       "      <td>1</td>\n",
       "    </tr>\n",
       "    <tr>\n",
       "      <th>4</th>\n",
       "      <td>./train_images/train_images/4.jpg</td>\n",
       "      <td>0</td>\n",
       "    </tr>\n",
       "    <tr>\n",
       "      <th>...</th>\n",
       "      <td>...</td>\n",
       "      <td>...</td>\n",
       "    </tr>\n",
       "    <tr>\n",
       "      <th>15179</th>\n",
       "      <td>./train_images/reptile_sub_novel/cc91f55973.jpg</td>\n",
       "      <td>2</td>\n",
       "    </tr>\n",
       "    <tr>\n",
       "      <th>15180</th>\n",
       "      <td>./train_images/reptile_sub_novel/ccb6e2ba02.jpg</td>\n",
       "      <td>2</td>\n",
       "    </tr>\n",
       "    <tr>\n",
       "      <th>15181</th>\n",
       "      <td>./train_images/reptile_sub_novel/ccc1565517.jpg</td>\n",
       "      <td>2</td>\n",
       "    </tr>\n",
       "    <tr>\n",
       "      <th>15182</th>\n",
       "      <td>./train_images/reptile_sub_novel/ccca09222b.jpg</td>\n",
       "      <td>2</td>\n",
       "    </tr>\n",
       "    <tr>\n",
       "      <th>15183</th>\n",
       "      <td>./train_images/reptile_sub_novel/cccb6fa28a.jpg</td>\n",
       "      <td>2</td>\n",
       "    </tr>\n",
       "  </tbody>\n",
       "</table>\n",
       "<p>15184 rows × 2 columns</p>\n",
       "</div>"
      ],
      "text/plain": [
       "                                                 image  superclass_index\n",
       "0                    ./train_images/train_images/0.jpg                 1\n",
       "1                    ./train_images/train_images/1.jpg                 0\n",
       "2                    ./train_images/train_images/2.jpg                 1\n",
       "3                    ./train_images/train_images/3.jpg                 1\n",
       "4                    ./train_images/train_images/4.jpg                 0\n",
       "...                                                ...               ...\n",
       "15179  ./train_images/reptile_sub_novel/cc91f55973.jpg                 2\n",
       "15180  ./train_images/reptile_sub_novel/ccb6e2ba02.jpg                 2\n",
       "15181  ./train_images/reptile_sub_novel/ccc1565517.jpg                 2\n",
       "15182  ./train_images/reptile_sub_novel/ccca09222b.jpg                 2\n",
       "15183  ./train_images/reptile_sub_novel/cccb6fa28a.jpg                 2\n",
       "\n",
       "[15184 rows x 2 columns]"
      ]
     },
     "execution_count": 38,
     "metadata": {},
     "output_type": "execute_result"
    }
   ],
   "source": [
    "super_class_train"
   ]
  },
  {
   "cell_type": "code",
   "execution_count": 39,
   "id": "6f141673-1544-4834-a38a-ee2f4e5f4cd8",
   "metadata": {},
   "outputs": [],
   "source": [
    "from torch.utils.data import Dataset\n",
    "from torchvision import transforms\n",
    "from PIL import Image\n",
    "\n",
    "class SuperClassDataset(Dataset):\n",
    "    def __init__(self, df, transform=None):\n",
    "        self.df = df.reset_index(drop=True)\n",
    "        self.transform = transform\n",
    "        \n",
    "    def __len__(self):\n",
    "        return len(self.df)\n",
    "\n",
    "    def __getitem__(self, idx):\n",
    "        img_path = self.df.loc[idx, 'image']\n",
    "        label = self.df.loc[idx, 'superclass_index'] \n",
    "\n",
    "        img = Image.open(img_path).convert(\"RGB\")\n",
    "        if self.transform:\n",
    "            img = self.transform(img)\n",
    "\n",
    "        return img, label"
   ]
  },
  {
   "cell_type": "code",
   "execution_count": 41,
   "id": "ec1f72d8-3cfd-4dd6-8e92-606547fe0bf5",
   "metadata": {},
   "outputs": [],
   "source": [
    "transform = transforms.Compose([\n",
    "    transforms.Resize((256, 256)),\n",
    "    transforms.RandomResizedCrop(224, scale=(0.8, 1.0)),\n",
    "    transforms.RandomHorizontalFlip(),\n",
    "    transforms.RandomRotation(15),\n",
    "    transforms.ColorJitter(0.2, 0.2, 0.2, 0.1),\n",
    "    transforms.ToTensor(),\n",
    "    transforms.Normalize(mean=[0.5]*3, std=[0.5]*3)\n",
    "])"
   ]
  },
  {
   "cell_type": "code",
   "execution_count": 42,
   "id": "ff1cd5cd-da4e-4d71-b920-497034c07dbe",
   "metadata": {},
   "outputs": [],
   "source": [
    "from torch.utils.data import random_split, DataLoader\n",
    "\n",
    "dataset = SuperClassDataset(super_class_train, transform=transform)\n",
    "\n",
    "total_size = len(dataset)\n",
    "train_size = int(0.8 * total_size)\n",
    "val_size = total_size - train_size\n",
    "\n",
    "train_dataset, val_dataset = random_split(dataset, [train_size, val_size])\n",
    "\n",
    "train_loader = DataLoader(train_dataset, batch_size=32, shuffle=True)\n",
    "val_loader = DataLoader(val_dataset, batch_size=32, shuffle=False)"
   ]
  },
  {
   "cell_type": "code",
   "execution_count": 43,
   "id": "da8f8015-8f19-4dad-9e90-9d0a1c165ad5",
   "metadata": {},
   "outputs": [],
   "source": [
    "class Trainer():\n",
    "    def __init__(self, model, criterion, optimizer, train_loader, val_loader, test_loader=None, device='cuda'):\n",
    "        self.model = model.to(device)\n",
    "        self.criterion = criterion\n",
    "        self.optimizer = optimizer\n",
    "        self.train_loader = train_loader\n",
    "        self.val_loader = val_loader\n",
    "        self.test_loader = test_loader\n",
    "        self.device = device\n",
    "\n",
    "    def train_epoch(self):\n",
    "        self.model.train()\n",
    "        running_loss = 0.0\n",
    "        correct = 0\n",
    "        total = 0\n",
    "\n",
    "        for inputs, labels in tqdm(self.train_loader, desc=\"Training\", leave=False):\n",
    "            inputs, labels = inputs.to(self.device), labels.to(self.device)\n",
    "\n",
    "            self.optimizer.zero_grad()\n",
    "            outputs = self.model(inputs)\n",
    "            loss = self.criterion(outputs, labels)\n",
    "            loss.backward()\n",
    "            self.optimizer.step()\n",
    "\n",
    "            running_loss += loss.item()\n",
    "            correct += (outputs.argmax(1) == labels).sum().item()\n",
    "            total += labels.size(0)\n",
    "\n",
    "        avg_loss = running_loss / len(self.train_loader)\n",
    "        acc = correct / total * 100\n",
    "        print(f'Training loss: {avg_loss:.4f} | Train Acc: {acc:.2f}% \\n')\n",
    "        return avg_loss, acc\n",
    "\n",
    "    def validate_epoch(self):\n",
    "        self.model.eval()\n",
    "        correct = 0\n",
    "        total = 0\n",
    "        running_loss = 0.0\n",
    "\n",
    "        with torch.no_grad():\n",
    "            for inputs, labels in tqdm(self.val_loader, desc=\"Validating\", leave=False):\n",
    "                inputs, labels = inputs.to(self.device), labels.to(self.device)\n",
    "\n",
    "                outputs = self.model(inputs)\n",
    "                loss = self.criterion(outputs, labels)\n",
    "\n",
    "                _, predicted = torch.max(outputs.data, 1)\n",
    "                correct += (predicted == labels).sum().item()\n",
    "                total += labels.size(0)\n",
    "                running_loss += loss.item()\n",
    "\n",
    "        avg_loss = running_loss / len(self.val_loader)\n",
    "        acc = correct / total * 100\n",
    "        print(f'Validation loss: {avg_loss:.4f} | Val Acc: {acc:.2f}% \\n')\n",
    "        return avg_loss, acc"
   ]
  },
  {
   "cell_type": "code",
   "execution_count": 44,
   "id": "4ab2ffb6-4baa-42f4-9e10-e8cb4f304e36",
   "metadata": {},
   "outputs": [],
   "source": [
    "device = torch.device(\"cuda\" if torch.cuda.is_available() else \"cpu\")\n",
    "model = SuperClassCNNMLP(input_dim=224*224*3, output_dim=4).to(device)\n",
    "\n",
    "criterion = nn.CrossEntropyLoss()\n",
    "\n",
    "optimizer = torch.optim.Adam(model.parameters(), lr=1e-4, weight_decay=1e-4)"
   ]
  },
  {
   "cell_type": "code",
   "execution_count": 45,
   "id": "95d3ea3b-7069-463f-a871-0bfe16f95272",
   "metadata": {},
   "outputs": [],
   "source": [
    "trainer = Trainer(model, criterion, optimizer, train_loader, val_loader, device=device)"
   ]
  },
  {
   "cell_type": "code",
   "execution_count": 46,
   "id": "5f69567f-3226-4b00-b31a-64afab75e221",
   "metadata": {
    "scrolled": true
   },
   "outputs": [
    {
     "name": "stdout",
     "output_type": "stream",
     "text": [
      "\n",
      "Epoch 1/20\n"
     ]
    },
    {
     "name": "stderr",
     "output_type": "stream",
     "text": [
      "Training:  12%|████████▌                                                              | 46/380 [00:15<01:41,  3.30it/s]C:\\Users\\Veronica_clx\\AppData\\Roaming\\Python\\Python310\\site-packages\\PIL\\Image.py:1054: UserWarning: Palette images with Transparency expressed in bytes should be converted to RGBA images\n",
      "  warnings.warn(\n",
      "                                                                                                                       \r"
     ]
    },
    {
     "name": "stdout",
     "output_type": "stream",
     "text": [
      "Training loss: 0.5909 | Train Acc: 77.46% \n",
      "\n"
     ]
    },
    {
     "name": "stderr",
     "output_type": "stream",
     "text": [
      "                                                                                                                       \r"
     ]
    },
    {
     "name": "stdout",
     "output_type": "stream",
     "text": [
      "Validation loss: 0.3572 | Val Acc: 87.22% \n",
      "\n",
      "Save the best model at epoch 1 (val_loss=0.3572)\n",
      "Epoch time: 159.78 seconds\n",
      "\n",
      "Epoch 2/20\n"
     ]
    },
    {
     "name": "stderr",
     "output_type": "stream",
     "text": [
      "                                                                                                                       \r"
     ]
    },
    {
     "name": "stdout",
     "output_type": "stream",
     "text": [
      "Training loss: 0.4058 | Train Acc: 85.03% \n",
      "\n"
     ]
    },
    {
     "name": "stderr",
     "output_type": "stream",
     "text": [
      "                                                                                                                       \r"
     ]
    },
    {
     "name": "stdout",
     "output_type": "stream",
     "text": [
      "Validation loss: 0.3278 | Val Acc: 88.21% \n",
      "\n",
      "Save the best model at epoch 2 (val_loss=0.3278)\n",
      "Epoch time: 156.89 seconds\n",
      "\n",
      "Epoch 3/20\n"
     ]
    },
    {
     "name": "stderr",
     "output_type": "stream",
     "text": [
      "                                                                                                                       \r"
     ]
    },
    {
     "name": "stdout",
     "output_type": "stream",
     "text": [
      "Training loss: 0.3524 | Train Acc: 86.94% \n",
      "\n"
     ]
    },
    {
     "name": "stderr",
     "output_type": "stream",
     "text": [
      "                                                                                                                       \r"
     ]
    },
    {
     "name": "stdout",
     "output_type": "stream",
     "text": [
      "Validation loss: 0.2798 | Val Acc: 89.56% \n",
      "\n",
      "Save the best model at epoch 3 (val_loss=0.2798)\n",
      "Epoch time: 157.59 seconds\n",
      "\n",
      "Epoch 4/20\n"
     ]
    },
    {
     "name": "stderr",
     "output_type": "stream",
     "text": [
      "                                                                                                                       \r"
     ]
    },
    {
     "name": "stdout",
     "output_type": "stream",
     "text": [
      "Training loss: 0.3295 | Train Acc: 87.59% \n",
      "\n"
     ]
    },
    {
     "name": "stderr",
     "output_type": "stream",
     "text": [
      "                                                                                                                       \r"
     ]
    },
    {
     "name": "stdout",
     "output_type": "stream",
     "text": [
      "Validation loss: 0.2506 | Val Acc: 91.01% \n",
      "\n",
      "Save the best model at epoch 4 (val_loss=0.2506)\n",
      "Epoch time: 157.00 seconds\n",
      "\n",
      "Epoch 5/20\n"
     ]
    },
    {
     "name": "stderr",
     "output_type": "stream",
     "text": [
      "                                                                                                                       \r"
     ]
    },
    {
     "name": "stdout",
     "output_type": "stream",
     "text": [
      "Training loss: 0.2919 | Train Acc: 89.31% \n",
      "\n"
     ]
    },
    {
     "name": "stderr",
     "output_type": "stream",
     "text": [
      "                                                                                                                       \r"
     ]
    },
    {
     "name": "stdout",
     "output_type": "stream",
     "text": [
      "Validation loss: 0.2864 | Val Acc: 89.30% \n",
      "\n",
      "Epoch time: 160.19 seconds\n",
      "\n",
      "Epoch 6/20\n"
     ]
    },
    {
     "name": "stderr",
     "output_type": "stream",
     "text": [
      "                                                                                                                       \r"
     ]
    },
    {
     "name": "stdout",
     "output_type": "stream",
     "text": [
      "Training loss: 0.2766 | Train Acc: 89.84% \n",
      "\n"
     ]
    },
    {
     "name": "stderr",
     "output_type": "stream",
     "text": [
      "                                                                                                                       \r"
     ]
    },
    {
     "name": "stdout",
     "output_type": "stream",
     "text": [
      "Validation loss: 0.2605 | Val Acc: 91.27% \n",
      "\n",
      "Epoch time: 157.00 seconds\n",
      "\n",
      "Epoch 7/20\n"
     ]
    },
    {
     "name": "stderr",
     "output_type": "stream",
     "text": [
      "                                                                                                                       \r"
     ]
    },
    {
     "name": "stdout",
     "output_type": "stream",
     "text": [
      "Training loss: 0.2526 | Train Acc: 90.54% \n",
      "\n"
     ]
    },
    {
     "name": "stderr",
     "output_type": "stream",
     "text": [
      "                                                                                                                       \r"
     ]
    },
    {
     "name": "stdout",
     "output_type": "stream",
     "text": [
      "Validation loss: 0.2380 | Val Acc: 91.04% \n",
      "\n",
      "Save the best model at epoch 7 (val_loss=0.2380)\n",
      "Epoch time: 158.40 seconds\n",
      "\n",
      "Epoch 8/20\n"
     ]
    },
    {
     "name": "stderr",
     "output_type": "stream",
     "text": [
      "                                                                                                                       \r"
     ]
    },
    {
     "name": "stdout",
     "output_type": "stream",
     "text": [
      "Training loss: 0.2391 | Train Acc: 91.45% \n",
      "\n"
     ]
    },
    {
     "name": "stderr",
     "output_type": "stream",
     "text": [
      "                                                                                                                       \r"
     ]
    },
    {
     "name": "stdout",
     "output_type": "stream",
     "text": [
      "Validation loss: 0.2174 | Val Acc: 92.46% \n",
      "\n",
      "Save the best model at epoch 8 (val_loss=0.2174)\n",
      "Epoch time: 159.00 seconds\n",
      "\n",
      "Epoch 9/20\n"
     ]
    },
    {
     "name": "stderr",
     "output_type": "stream",
     "text": [
      "                                                                                                                       \r"
     ]
    },
    {
     "name": "stdout",
     "output_type": "stream",
     "text": [
      "Training loss: 0.2257 | Train Acc: 91.73% \n",
      "\n"
     ]
    },
    {
     "name": "stderr",
     "output_type": "stream",
     "text": [
      "                                                                                                                       \r"
     ]
    },
    {
     "name": "stdout",
     "output_type": "stream",
     "text": [
      "Validation loss: 0.2457 | Val Acc: 91.50% \n",
      "\n",
      "Epoch time: 160.24 seconds\n",
      "\n",
      "Epoch 10/20\n"
     ]
    },
    {
     "name": "stderr",
     "output_type": "stream",
     "text": [
      "                                                                                                                       \r"
     ]
    },
    {
     "name": "stdout",
     "output_type": "stream",
     "text": [
      "Training loss: 0.2170 | Train Acc: 92.01% \n",
      "\n"
     ]
    },
    {
     "name": "stderr",
     "output_type": "stream",
     "text": [
      "                                                                                                                       \r"
     ]
    },
    {
     "name": "stdout",
     "output_type": "stream",
     "text": [
      "Validation loss: 0.1970 | Val Acc: 92.99% \n",
      "\n",
      "Save the best model at epoch 10 (val_loss=0.1970)\n",
      "Epoch time: 156.64 seconds\n",
      "\n",
      "Epoch 11/20\n"
     ]
    },
    {
     "name": "stderr",
     "output_type": "stream",
     "text": [
      "                                                                                                                       \r"
     ]
    },
    {
     "name": "stdout",
     "output_type": "stream",
     "text": [
      "Training loss: 0.2090 | Train Acc: 92.80% \n",
      "\n"
     ]
    },
    {
     "name": "stderr",
     "output_type": "stream",
     "text": [
      "                                                                                                                       \r"
     ]
    },
    {
     "name": "stdout",
     "output_type": "stream",
     "text": [
      "Validation loss: 0.1778 | Val Acc: 93.15% \n",
      "\n",
      "Save the best model at epoch 11 (val_loss=0.1778)\n",
      "Epoch time: 156.57 seconds\n",
      "\n",
      "Epoch 12/20\n"
     ]
    },
    {
     "name": "stderr",
     "output_type": "stream",
     "text": [
      "                                                                                                                       \r"
     ]
    },
    {
     "name": "stdout",
     "output_type": "stream",
     "text": [
      "Training loss: 0.1959 | Train Acc: 92.97% \n",
      "\n"
     ]
    },
    {
     "name": "stderr",
     "output_type": "stream",
     "text": [
      "                                                                                                                       \r"
     ]
    },
    {
     "name": "stdout",
     "output_type": "stream",
     "text": [
      "Validation loss: 0.1800 | Val Acc: 93.51% \n",
      "\n",
      "Epoch time: 161.87 seconds\n",
      "\n",
      "Epoch 13/20\n"
     ]
    },
    {
     "name": "stderr",
     "output_type": "stream",
     "text": [
      "                                                                                                                       \r"
     ]
    },
    {
     "name": "stdout",
     "output_type": "stream",
     "text": [
      "Training loss: 0.1947 | Train Acc: 92.88% \n",
      "\n"
     ]
    },
    {
     "name": "stderr",
     "output_type": "stream",
     "text": [
      "                                                                                                                       \r"
     ]
    },
    {
     "name": "stdout",
     "output_type": "stream",
     "text": [
      "Validation loss: 0.1753 | Val Acc: 93.45% \n",
      "\n",
      "Save the best model at epoch 13 (val_loss=0.1753)\n",
      "Epoch time: 159.35 seconds\n",
      "\n",
      "Epoch 14/20\n"
     ]
    },
    {
     "name": "stderr",
     "output_type": "stream",
     "text": [
      "                                                                                                                       \r"
     ]
    },
    {
     "name": "stdout",
     "output_type": "stream",
     "text": [
      "Training loss: 0.1895 | Train Acc: 93.13% \n",
      "\n"
     ]
    },
    {
     "name": "stderr",
     "output_type": "stream",
     "text": [
      "                                                                                                                       \r"
     ]
    },
    {
     "name": "stdout",
     "output_type": "stream",
     "text": [
      "Validation loss: 0.1992 | Val Acc: 92.66% \n",
      "\n",
      "Epoch time: 159.03 seconds\n",
      "\n",
      "Epoch 15/20\n"
     ]
    },
    {
     "name": "stderr",
     "output_type": "stream",
     "text": [
      "                                                                                                                       \r"
     ]
    },
    {
     "name": "stdout",
     "output_type": "stream",
     "text": [
      "Training loss: 0.1883 | Train Acc: 93.41% \n",
      "\n"
     ]
    },
    {
     "name": "stderr",
     "output_type": "stream",
     "text": [
      "                                                                                                                       \r"
     ]
    },
    {
     "name": "stdout",
     "output_type": "stream",
     "text": [
      "Validation loss: 0.1743 | Val Acc: 93.97% \n",
      "\n",
      "Save the best model at epoch 15 (val_loss=0.1743)\n",
      "Epoch time: 163.55 seconds\n",
      "\n",
      "Epoch 16/20\n"
     ]
    },
    {
     "name": "stderr",
     "output_type": "stream",
     "text": [
      "                                                                                                                       \r"
     ]
    },
    {
     "name": "stdout",
     "output_type": "stream",
     "text": [
      "Training loss: 0.1762 | Train Acc: 93.55% \n",
      "\n"
     ]
    },
    {
     "name": "stderr",
     "output_type": "stream",
     "text": [
      "                                                                                                                       \r"
     ]
    },
    {
     "name": "stdout",
     "output_type": "stream",
     "text": [
      "Validation loss: 0.1482 | Val Acc: 94.44% \n",
      "\n",
      "Save the best model at epoch 16 (val_loss=0.1482)\n",
      "Epoch time: 158.58 seconds\n",
      "\n",
      "Epoch 17/20\n"
     ]
    },
    {
     "name": "stderr",
     "output_type": "stream",
     "text": [
      "                                                                                                                       \r"
     ]
    },
    {
     "name": "stdout",
     "output_type": "stream",
     "text": [
      "Training loss: 0.1694 | Train Acc: 93.89% \n",
      "\n"
     ]
    },
    {
     "name": "stderr",
     "output_type": "stream",
     "text": [
      "                                                                                                                       \r"
     ]
    },
    {
     "name": "stdout",
     "output_type": "stream",
     "text": [
      "Validation loss: 0.1397 | Val Acc: 94.96% \n",
      "\n",
      "Save the best model at epoch 17 (val_loss=0.1397)\n",
      "Epoch time: 158.01 seconds\n",
      "\n",
      "Epoch 18/20\n"
     ]
    },
    {
     "name": "stderr",
     "output_type": "stream",
     "text": [
      "                                                                                                                       \r"
     ]
    },
    {
     "name": "stdout",
     "output_type": "stream",
     "text": [
      "Training loss: 0.1648 | Train Acc: 93.89% \n",
      "\n"
     ]
    },
    {
     "name": "stderr",
     "output_type": "stream",
     "text": [
      "                                                                                                                       \r"
     ]
    },
    {
     "name": "stdout",
     "output_type": "stream",
     "text": [
      "Validation loss: 0.1620 | Val Acc: 94.34% \n",
      "\n",
      "Epoch time: 160.06 seconds\n",
      "\n",
      "Epoch 19/20\n"
     ]
    },
    {
     "name": "stderr",
     "output_type": "stream",
     "text": [
      "                                                                                                                       \r"
     ]
    },
    {
     "name": "stdout",
     "output_type": "stream",
     "text": [
      "Training loss: 0.1556 | Train Acc: 94.42% \n",
      "\n"
     ]
    },
    {
     "name": "stderr",
     "output_type": "stream",
     "text": [
      "                                                                                                                       \r"
     ]
    },
    {
     "name": "stdout",
     "output_type": "stream",
     "text": [
      "Validation loss: 0.1377 | Val Acc: 95.03% \n",
      "\n",
      "Save the best model at epoch 19 (val_loss=0.1377)\n",
      "Epoch time: 159.70 seconds\n",
      "\n",
      "Epoch 20/20\n"
     ]
    },
    {
     "name": "stderr",
     "output_type": "stream",
     "text": [
      "                                                                                                                       \r"
     ]
    },
    {
     "name": "stdout",
     "output_type": "stream",
     "text": [
      "Training loss: 0.1542 | Train Acc: 94.35% \n",
      "\n"
     ]
    },
    {
     "name": "stderr",
     "output_type": "stream",
     "text": [
      "                                                                                                                       "
     ]
    },
    {
     "name": "stdout",
     "output_type": "stream",
     "text": [
      "Validation loss: 0.1508 | Val Acc: 94.30% \n",
      "\n",
      "Epoch time: 157.79 seconds\n",
      "Finished Training\n"
     ]
    },
    {
     "name": "stderr",
     "output_type": "stream",
     "text": [
      "\r"
     ]
    }
   ],
   "source": [
    "import time\n",
    "from tqdm import tqdm\n",
    "EPOCHS = 20\n",
    "best_val_loss = float('inf')\n",
    "for epoch in range(EPOCHS):\n",
    "    print(f'\\nEpoch {epoch+1}/{EPOCHS}')\n",
    "    start_time = time.time()\n",
    "\n",
    "    trainer.train_epoch()\n",
    "\n",
    "    val_loss, val_acc = trainer.validate_epoch() \n",
    "\n",
    "    if val_loss < best_val_loss:\n",
    "        best_val_loss = val_loss\n",
    "        torch.save(trainer.model.state_dict(), 'best_superclass_model_fishes_updated.pt')\n",
    "        print(f'Save the best model at epoch {epoch+1} (val_loss={val_loss:.4f})')\n",
    "\n",
    "    end_time = time.time()\n",
    "    duration = end_time - start_time\n",
    "    print(f'Epoch time: {duration:.2f} seconds')\n",
    "\n",
    "print('Finished Training')"
   ]
  },
  {
   "cell_type": "markdown",
   "id": "ce42047e-a497-4d2d-a129-b2f49cde8652",
   "metadata": {},
   "source": [
    "# Bird Subclasses Classificatioin"
   ]
  },
  {
   "cell_type": "code",
   "execution_count": 1,
   "id": "58e948aa-1167-439d-9401-764923898efe",
   "metadata": {},
   "outputs": [],
   "source": [
    "import pandas as pd"
   ]
  },
  {
   "cell_type": "code",
   "execution_count": 70,
   "id": "4dd92de4-dc85-4cdd-85ae-dc04b69fabfe",
   "metadata": {},
   "outputs": [],
   "source": [
    "train_data = pd.read_csv('train_data.csv')"
   ]
  },
  {
   "cell_type": "code",
   "execution_count": 71,
   "id": "0a3c7bc2-9883-4a6a-aea4-b8e743d7ec45",
   "metadata": {},
   "outputs": [
    {
     "data": {
      "text/html": [
       "<div>\n",
       "<style scoped>\n",
       "    .dataframe tbody tr th:only-of-type {\n",
       "        vertical-align: middle;\n",
       "    }\n",
       "\n",
       "    .dataframe tbody tr th {\n",
       "        vertical-align: top;\n",
       "    }\n",
       "\n",
       "    .dataframe thead th {\n",
       "        text-align: right;\n",
       "    }\n",
       "</style>\n",
       "<table border=\"1\" class=\"dataframe\">\n",
       "  <thead>\n",
       "    <tr style=\"text-align: right;\">\n",
       "      <th></th>\n",
       "      <th>image</th>\n",
       "      <th>superclass_index</th>\n",
       "      <th>subclass_index</th>\n",
       "      <th>description</th>\n",
       "    </tr>\n",
       "  </thead>\n",
       "  <tbody>\n",
       "    <tr>\n",
       "      <th>0</th>\n",
       "      <td>0.jpg</td>\n",
       "      <td>1</td>\n",
       "      <td>37</td>\n",
       "      <td>nature photograph of a dog, specifically a Mal...</td>\n",
       "    </tr>\n",
       "    <tr>\n",
       "      <th>1</th>\n",
       "      <td>1.jpg</td>\n",
       "      <td>0</td>\n",
       "      <td>42</td>\n",
       "      <td>nature photograph of a bird, specifically a oy...</td>\n",
       "    </tr>\n",
       "    <tr>\n",
       "      <th>2</th>\n",
       "      <td>2.jpg</td>\n",
       "      <td>1</td>\n",
       "      <td>62</td>\n",
       "      <td>nature photograph of a dog, specifically a Afg...</td>\n",
       "    </tr>\n",
       "    <tr>\n",
       "      <th>3</th>\n",
       "      <td>3.jpg</td>\n",
       "      <td>1</td>\n",
       "      <td>31</td>\n",
       "      <td>nature photograph of a dog, specifically a Shi...</td>\n",
       "    </tr>\n",
       "    <tr>\n",
       "      <th>4</th>\n",
       "      <td>4.jpg</td>\n",
       "      <td>0</td>\n",
       "      <td>4</td>\n",
       "      <td>nature photograph of a bird, specifically a gr...</td>\n",
       "    </tr>\n",
       "    <tr>\n",
       "      <th>...</th>\n",
       "      <td>...</td>\n",
       "      <td>...</td>\n",
       "      <td>...</td>\n",
       "      <td>...</td>\n",
       "    </tr>\n",
       "    <tr>\n",
       "      <th>6283</th>\n",
       "      <td>6283.jpg</td>\n",
       "      <td>2</td>\n",
       "      <td>63</td>\n",
       "      <td>nature photograph of a reptile, specifically a...</td>\n",
       "    </tr>\n",
       "    <tr>\n",
       "      <th>6284</th>\n",
       "      <td>6284.jpg</td>\n",
       "      <td>2</td>\n",
       "      <td>74</td>\n",
       "      <td>nature photograph of a reptile, specifically a...</td>\n",
       "    </tr>\n",
       "    <tr>\n",
       "      <th>6285</th>\n",
       "      <td>6285.jpg</td>\n",
       "      <td>0</td>\n",
       "      <td>86</td>\n",
       "      <td>nature photograph of a bird, specifically a Eu...</td>\n",
       "    </tr>\n",
       "    <tr>\n",
       "      <th>6286</th>\n",
       "      <td>6286.jpg</td>\n",
       "      <td>0</td>\n",
       "      <td>14</td>\n",
       "      <td>nature photograph of a bird, specifically a ju...</td>\n",
       "    </tr>\n",
       "    <tr>\n",
       "      <th>6287</th>\n",
       "      <td>6287.jpg</td>\n",
       "      <td>2</td>\n",
       "      <td>39</td>\n",
       "      <td>nature photograph of a reptile, specifically a...</td>\n",
       "    </tr>\n",
       "  </tbody>\n",
       "</table>\n",
       "<p>6288 rows × 4 columns</p>\n",
       "</div>"
      ],
      "text/plain": [
       "         image  superclass_index  subclass_index  \\\n",
       "0        0.jpg                 1              37   \n",
       "1        1.jpg                 0              42   \n",
       "2        2.jpg                 1              62   \n",
       "3        3.jpg                 1              31   \n",
       "4        4.jpg                 0               4   \n",
       "...        ...               ...             ...   \n",
       "6283  6283.jpg                 2              63   \n",
       "6284  6284.jpg                 2              74   \n",
       "6285  6285.jpg                 0              86   \n",
       "6286  6286.jpg                 0              14   \n",
       "6287  6287.jpg                 2              39   \n",
       "\n",
       "                                            description  \n",
       "0     nature photograph of a dog, specifically a Mal...  \n",
       "1     nature photograph of a bird, specifically a oy...  \n",
       "2     nature photograph of a dog, specifically a Afg...  \n",
       "3     nature photograph of a dog, specifically a Shi...  \n",
       "4     nature photograph of a bird, specifically a gr...  \n",
       "...                                                 ...  \n",
       "6283  nature photograph of a reptile, specifically a...  \n",
       "6284  nature photograph of a reptile, specifically a...  \n",
       "6285  nature photograph of a bird, specifically a Eu...  \n",
       "6286  nature photograph of a bird, specifically a ju...  \n",
       "6287  nature photograph of a reptile, specifically a...  \n",
       "\n",
       "[6288 rows x 4 columns]"
      ]
     },
     "execution_count": 71,
     "metadata": {},
     "output_type": "execute_result"
    }
   ],
   "source": [
    "train_data"
   ]
  },
  {
   "cell_type": "code",
   "execution_count": 72,
   "id": "4b6d46e7-bf0a-4bff-8e25-faab71827f0e",
   "metadata": {},
   "outputs": [],
   "source": [
    "bird_train = train_data[train_data['superclass_index'] == 0]"
   ]
  },
  {
   "cell_type": "code",
   "execution_count": 73,
   "id": "4bcd665f-b3af-4c30-b6aa-ac575eeaac86",
   "metadata": {},
   "outputs": [
    {
     "data": {
      "text/html": [
       "<div>\n",
       "<style scoped>\n",
       "    .dataframe tbody tr th:only-of-type {\n",
       "        vertical-align: middle;\n",
       "    }\n",
       "\n",
       "    .dataframe tbody tr th {\n",
       "        vertical-align: top;\n",
       "    }\n",
       "\n",
       "    .dataframe thead th {\n",
       "        text-align: right;\n",
       "    }\n",
       "</style>\n",
       "<table border=\"1\" class=\"dataframe\">\n",
       "  <thead>\n",
       "    <tr style=\"text-align: right;\">\n",
       "      <th></th>\n",
       "      <th>image</th>\n",
       "      <th>superclass_index</th>\n",
       "      <th>subclass_index</th>\n",
       "      <th>description</th>\n",
       "    </tr>\n",
       "  </thead>\n",
       "  <tbody>\n",
       "    <tr>\n",
       "      <th>1</th>\n",
       "      <td>1.jpg</td>\n",
       "      <td>0</td>\n",
       "      <td>42</td>\n",
       "      <td>nature photograph of a bird, specifically a oy...</td>\n",
       "    </tr>\n",
       "    <tr>\n",
       "      <th>4</th>\n",
       "      <td>4.jpg</td>\n",
       "      <td>0</td>\n",
       "      <td>4</td>\n",
       "      <td>nature photograph of a bird, specifically a gr...</td>\n",
       "    </tr>\n",
       "    <tr>\n",
       "      <th>9</th>\n",
       "      <td>9.jpg</td>\n",
       "      <td>0</td>\n",
       "      <td>41</td>\n",
       "      <td>nature photograph of a bird, specifically a re...</td>\n",
       "    </tr>\n",
       "    <tr>\n",
       "      <th>12</th>\n",
       "      <td>12.jpg</td>\n",
       "      <td>0</td>\n",
       "      <td>20</td>\n",
       "      <td>nature photograph of a bird, specifically a ki...</td>\n",
       "    </tr>\n",
       "    <tr>\n",
       "      <th>13</th>\n",
       "      <td>13.jpg</td>\n",
       "      <td>0</td>\n",
       "      <td>19</td>\n",
       "      <td>nature photograph of a bird, specifically a br...</td>\n",
       "    </tr>\n",
       "    <tr>\n",
       "      <th>...</th>\n",
       "      <td>...</td>\n",
       "      <td>...</td>\n",
       "      <td>...</td>\n",
       "      <td>...</td>\n",
       "    </tr>\n",
       "    <tr>\n",
       "      <th>6277</th>\n",
       "      <td>6277.jpg</td>\n",
       "      <td>0</td>\n",
       "      <td>4</td>\n",
       "      <td>nature photograph of a bird, specifically a gr...</td>\n",
       "    </tr>\n",
       "    <tr>\n",
       "      <th>6279</th>\n",
       "      <td>6279.jpg</td>\n",
       "      <td>0</td>\n",
       "      <td>60</td>\n",
       "      <td>nature photograph of a bird, specifically a go...</td>\n",
       "    </tr>\n",
       "    <tr>\n",
       "      <th>6280</th>\n",
       "      <td>6280.jpg</td>\n",
       "      <td>0</td>\n",
       "      <td>27</td>\n",
       "      <td>nature photograph of a bird, specifically a wa...</td>\n",
       "    </tr>\n",
       "    <tr>\n",
       "      <th>6285</th>\n",
       "      <td>6285.jpg</td>\n",
       "      <td>0</td>\n",
       "      <td>86</td>\n",
       "      <td>nature photograph of a bird, specifically a Eu...</td>\n",
       "    </tr>\n",
       "    <tr>\n",
       "      <th>6286</th>\n",
       "      <td>6286.jpg</td>\n",
       "      <td>0</td>\n",
       "      <td>14</td>\n",
       "      <td>nature photograph of a bird, specifically a ju...</td>\n",
       "    </tr>\n",
       "  </tbody>\n",
       "</table>\n",
       "<p>1850 rows × 4 columns</p>\n",
       "</div>"
      ],
      "text/plain": [
       "         image  superclass_index  subclass_index  \\\n",
       "1        1.jpg                 0              42   \n",
       "4        4.jpg                 0               4   \n",
       "9        9.jpg                 0              41   \n",
       "12      12.jpg                 0              20   \n",
       "13      13.jpg                 0              19   \n",
       "...        ...               ...             ...   \n",
       "6277  6277.jpg                 0               4   \n",
       "6279  6279.jpg                 0              60   \n",
       "6280  6280.jpg                 0              27   \n",
       "6285  6285.jpg                 0              86   \n",
       "6286  6286.jpg                 0              14   \n",
       "\n",
       "                                            description  \n",
       "1     nature photograph of a bird, specifically a oy...  \n",
       "4     nature photograph of a bird, specifically a gr...  \n",
       "9     nature photograph of a bird, specifically a re...  \n",
       "12    nature photograph of a bird, specifically a ki...  \n",
       "13    nature photograph of a bird, specifically a br...  \n",
       "...                                                 ...  \n",
       "6277  nature photograph of a bird, specifically a gr...  \n",
       "6279  nature photograph of a bird, specifically a go...  \n",
       "6280  nature photograph of a bird, specifically a wa...  \n",
       "6285  nature photograph of a bird, specifically a Eu...  \n",
       "6286  nature photograph of a bird, specifically a ju...  \n",
       "\n",
       "[1850 rows x 4 columns]"
      ]
     },
     "execution_count": 73,
     "metadata": {},
     "output_type": "execute_result"
    }
   ],
   "source": [
    "bird_train"
   ]
  },
  {
   "cell_type": "code",
   "execution_count": 74,
   "id": "6f1c0ebb-b637-4a18-9b04-668a059047bf",
   "metadata": {},
   "outputs": [
    {
     "name": "stderr",
     "output_type": "stream",
     "text": [
      "C:\\Users\\Veronica_clx\\AppData\\Local\\Temp\\ipykernel_17296\\2957961756.py:1: SettingWithCopyWarning: \n",
      "A value is trying to be set on a copy of a slice from a DataFrame.\n",
      "Try using .loc[row_indexer,col_indexer] = value instead\n",
      "\n",
      "See the caveats in the documentation: https://pandas.pydata.org/pandas-docs/stable/user_guide/indexing.html#returning-a-view-versus-a-copy\n",
      "  bird_train['image'] = bird_train['image'].apply(\n"
     ]
    }
   ],
   "source": [
    "bird_train['image'] = bird_train['image'].apply(\n",
    "    lambda x: x if x.startswith('./train_images/train_images/') else f'./train_images/train_images/{x}'\n",
    ")"
   ]
  },
  {
   "cell_type": "code",
   "execution_count": 75,
   "id": "e2fa37d5-8f1f-4f64-b631-87cf880ba6ed",
   "metadata": {},
   "outputs": [],
   "source": [
    "# novel:87\n",
    "import os\n",
    "root_dir = './train_images/Bird_sub_novel/'\n",
    "img_paths = []\n",
    "for root, dirs, files in os.walk(root_dir):\n",
    "    for file in files:\n",
    "        full_path = os.path.join(root, file)\n",
    "        img_paths.append(full_path.replace(\"\\\\\", \"/\"))\n",
    "new_data = pd.DataFrame({\n",
    "    'image': img_paths,\n",
    "    'superclass_index': 0,\n",
    "    'subclass_index': 87,\n",
    "})"
   ]
  },
  {
   "cell_type": "code",
   "execution_count": 76,
   "id": "f25f3224-49eb-4c17-8b8a-fec00628a0d3",
   "metadata": {},
   "outputs": [],
   "source": [
    "bird_novel_train = pd.concat([bird_train, new_data], ignore_index=True)"
   ]
  },
  {
   "cell_type": "code",
   "execution_count": 77,
   "id": "082e9234-4056-4b90-a2f0-4945091b154d",
   "metadata": {},
   "outputs": [
    {
     "data": {
      "text/html": [
       "<div>\n",
       "<style scoped>\n",
       "    .dataframe tbody tr th:only-of-type {\n",
       "        vertical-align: middle;\n",
       "    }\n",
       "\n",
       "    .dataframe tbody tr th {\n",
       "        vertical-align: top;\n",
       "    }\n",
       "\n",
       "    .dataframe thead th {\n",
       "        text-align: right;\n",
       "    }\n",
       "</style>\n",
       "<table border=\"1\" class=\"dataframe\">\n",
       "  <thead>\n",
       "    <tr style=\"text-align: right;\">\n",
       "      <th></th>\n",
       "      <th>image</th>\n",
       "      <th>superclass_index</th>\n",
       "      <th>subclass_index</th>\n",
       "      <th>description</th>\n",
       "    </tr>\n",
       "  </thead>\n",
       "  <tbody>\n",
       "    <tr>\n",
       "      <th>0</th>\n",
       "      <td>./train_images/train_images/1.jpg</td>\n",
       "      <td>0</td>\n",
       "      <td>42</td>\n",
       "      <td>nature photograph of a bird, specifically a oy...</td>\n",
       "    </tr>\n",
       "    <tr>\n",
       "      <th>1</th>\n",
       "      <td>./train_images/train_images/4.jpg</td>\n",
       "      <td>0</td>\n",
       "      <td>4</td>\n",
       "      <td>nature photograph of a bird, specifically a gr...</td>\n",
       "    </tr>\n",
       "    <tr>\n",
       "      <th>2</th>\n",
       "      <td>./train_images/train_images/9.jpg</td>\n",
       "      <td>0</td>\n",
       "      <td>41</td>\n",
       "      <td>nature photograph of a bird, specifically a re...</td>\n",
       "    </tr>\n",
       "    <tr>\n",
       "      <th>3</th>\n",
       "      <td>./train_images/train_images/12.jpg</td>\n",
       "      <td>0</td>\n",
       "      <td>20</td>\n",
       "      <td>nature photograph of a bird, specifically a ki...</td>\n",
       "    </tr>\n",
       "    <tr>\n",
       "      <th>4</th>\n",
       "      <td>./train_images/train_images/13.jpg</td>\n",
       "      <td>0</td>\n",
       "      <td>19</td>\n",
       "      <td>nature photograph of a bird, specifically a br...</td>\n",
       "    </tr>\n",
       "    <tr>\n",
       "      <th>...</th>\n",
       "      <td>...</td>\n",
       "      <td>...</td>\n",
       "      <td>...</td>\n",
       "      <td>...</td>\n",
       "    </tr>\n",
       "    <tr>\n",
       "      <th>3195</th>\n",
       "      <td>./train_images/Bird_sub_novel/Yellow_breasted_...</td>\n",
       "      <td>0</td>\n",
       "      <td>87</td>\n",
       "      <td>NaN</td>\n",
       "    </tr>\n",
       "    <tr>\n",
       "      <th>3196</th>\n",
       "      <td>./train_images/Bird_sub_novel/Yellow_breasted_...</td>\n",
       "      <td>0</td>\n",
       "      <td>87</td>\n",
       "      <td>NaN</td>\n",
       "    </tr>\n",
       "    <tr>\n",
       "      <th>3197</th>\n",
       "      <td>./train_images/Bird_sub_novel/Yellow_breasted_...</td>\n",
       "      <td>0</td>\n",
       "      <td>87</td>\n",
       "      <td>NaN</td>\n",
       "    </tr>\n",
       "    <tr>\n",
       "      <th>3198</th>\n",
       "      <td>./train_images/Bird_sub_novel/Yellow_breasted_...</td>\n",
       "      <td>0</td>\n",
       "      <td>87</td>\n",
       "      <td>NaN</td>\n",
       "    </tr>\n",
       "    <tr>\n",
       "      <th>3199</th>\n",
       "      <td>./train_images/Bird_sub_novel/Yellow_breasted_...</td>\n",
       "      <td>0</td>\n",
       "      <td>87</td>\n",
       "      <td>NaN</td>\n",
       "    </tr>\n",
       "  </tbody>\n",
       "</table>\n",
       "<p>3200 rows × 4 columns</p>\n",
       "</div>"
      ],
      "text/plain": [
       "                                                  image  superclass_index  \\\n",
       "0                     ./train_images/train_images/1.jpg                 0   \n",
       "1                     ./train_images/train_images/4.jpg                 0   \n",
       "2                     ./train_images/train_images/9.jpg                 0   \n",
       "3                    ./train_images/train_images/12.jpg                 0   \n",
       "4                    ./train_images/train_images/13.jpg                 0   \n",
       "...                                                 ...               ...   \n",
       "3195  ./train_images/Bird_sub_novel/Yellow_breasted_...                 0   \n",
       "3196  ./train_images/Bird_sub_novel/Yellow_breasted_...                 0   \n",
       "3197  ./train_images/Bird_sub_novel/Yellow_breasted_...                 0   \n",
       "3198  ./train_images/Bird_sub_novel/Yellow_breasted_...                 0   \n",
       "3199  ./train_images/Bird_sub_novel/Yellow_breasted_...                 0   \n",
       "\n",
       "      subclass_index                                        description  \n",
       "0                 42  nature photograph of a bird, specifically a oy...  \n",
       "1                  4  nature photograph of a bird, specifically a gr...  \n",
       "2                 41  nature photograph of a bird, specifically a re...  \n",
       "3                 20  nature photograph of a bird, specifically a ki...  \n",
       "4                 19  nature photograph of a bird, specifically a br...  \n",
       "...              ...                                                ...  \n",
       "3195              87                                                NaN  \n",
       "3196              87                                                NaN  \n",
       "3197              87                                                NaN  \n",
       "3198              87                                                NaN  \n",
       "3199              87                                                NaN  \n",
       "\n",
       "[3200 rows x 4 columns]"
      ]
     },
     "execution_count": 77,
     "metadata": {},
     "output_type": "execute_result"
    }
   ],
   "source": [
    "bird_novel_train"
   ]
  },
  {
   "cell_type": "code",
   "execution_count": 78,
   "id": "7986fa69-f655-4dd4-b28b-dfbce90fa066",
   "metadata": {},
   "outputs": [],
   "source": [
    "bird_subclasses = bird_novel_train['subclass_index'].unique()"
   ]
  },
  {
   "cell_type": "code",
   "execution_count": 79,
   "id": "04478318-b2e1-4e8d-937e-a6b7db4797ee",
   "metadata": {},
   "outputs": [
    {
     "data": {
      "text/plain": [
       "30"
      ]
     },
     "execution_count": 79,
     "metadata": {},
     "output_type": "execute_result"
    }
   ],
   "source": [
    "len(bird_subclasses)"
   ]
  },
  {
   "cell_type": "code",
   "execution_count": 80,
   "id": "787c526a-89b4-40b2-8fa0-f74c40afdef3",
   "metadata": {},
   "outputs": [],
   "source": [
    "label2idx = {orig_label: idx for idx, orig_label in enumerate(bird_subclasses)}\n",
    "\n",
    "bird_novel_train['label'] = bird_novel_train['subclass_index'].map(label2idx)"
   ]
  },
  {
   "cell_type": "code",
   "execution_count": 81,
   "id": "fad8425e-478b-42cc-adf8-ea19f1817728",
   "metadata": {},
   "outputs": [
    {
     "data": {
      "text/plain": [
       "{42: 0,\n",
       " 4: 1,\n",
       " 41: 2,\n",
       " 20: 3,\n",
       " 19: 4,\n",
       " 60: 5,\n",
       " 78: 6,\n",
       " 16: 7,\n",
       " 6: 8,\n",
       " 40: 9,\n",
       " 28: 10,\n",
       " 30: 11,\n",
       " 84: 12,\n",
       " 59: 13,\n",
       " 75: 14,\n",
       " 24: 15,\n",
       " 8: 16,\n",
       " 80: 17,\n",
       " 86: 18,\n",
       " 27: 19,\n",
       " 14: 20,\n",
       " 82: 21,\n",
       " 51: 22,\n",
       " 56: 23,\n",
       " 26: 24,\n",
       " 5: 25,\n",
       " 11: 26,\n",
       " 73: 27,\n",
       " 83: 28,\n",
       " 87: 29}"
      ]
     },
     "execution_count": 81,
     "metadata": {},
     "output_type": "execute_result"
    }
   ],
   "source": [
    "label2idx"
   ]
  },
  {
   "cell_type": "code",
   "execution_count": 14,
   "id": "da106adc-3416-4713-9c21-cb8cee12a586",
   "metadata": {},
   "outputs": [
    {
     "data": {
      "text/html": [
       "<div>\n",
       "<style scoped>\n",
       "    .dataframe tbody tr th:only-of-type {\n",
       "        vertical-align: middle;\n",
       "    }\n",
       "\n",
       "    .dataframe tbody tr th {\n",
       "        vertical-align: top;\n",
       "    }\n",
       "\n",
       "    .dataframe thead th {\n",
       "        text-align: right;\n",
       "    }\n",
       "</style>\n",
       "<table border=\"1\" class=\"dataframe\">\n",
       "  <thead>\n",
       "    <tr style=\"text-align: right;\">\n",
       "      <th></th>\n",
       "      <th>image</th>\n",
       "      <th>superclass_index</th>\n",
       "      <th>subclass_index</th>\n",
       "      <th>description</th>\n",
       "      <th>label</th>\n",
       "    </tr>\n",
       "  </thead>\n",
       "  <tbody>\n",
       "    <tr>\n",
       "      <th>0</th>\n",
       "      <td>./train_images/train_images/1.jpg</td>\n",
       "      <td>0</td>\n",
       "      <td>42</td>\n",
       "      <td>nature photograph of a bird, specifically a oy...</td>\n",
       "      <td>0</td>\n",
       "    </tr>\n",
       "    <tr>\n",
       "      <th>1</th>\n",
       "      <td>./train_images/train_images/4.jpg</td>\n",
       "      <td>0</td>\n",
       "      <td>4</td>\n",
       "      <td>nature photograph of a bird, specifically a gr...</td>\n",
       "      <td>1</td>\n",
       "    </tr>\n",
       "    <tr>\n",
       "      <th>2</th>\n",
       "      <td>./train_images/train_images/9.jpg</td>\n",
       "      <td>0</td>\n",
       "      <td>41</td>\n",
       "      <td>nature photograph of a bird, specifically a re...</td>\n",
       "      <td>2</td>\n",
       "    </tr>\n",
       "    <tr>\n",
       "      <th>3</th>\n",
       "      <td>./train_images/train_images/12.jpg</td>\n",
       "      <td>0</td>\n",
       "      <td>20</td>\n",
       "      <td>nature photograph of a bird, specifically a ki...</td>\n",
       "      <td>3</td>\n",
       "    </tr>\n",
       "    <tr>\n",
       "      <th>4</th>\n",
       "      <td>./train_images/train_images/13.jpg</td>\n",
       "      <td>0</td>\n",
       "      <td>19</td>\n",
       "      <td>nature photograph of a bird, specifically a br...</td>\n",
       "      <td>4</td>\n",
       "    </tr>\n",
       "    <tr>\n",
       "      <th>...</th>\n",
       "      <td>...</td>\n",
       "      <td>...</td>\n",
       "      <td>...</td>\n",
       "      <td>...</td>\n",
       "      <td>...</td>\n",
       "    </tr>\n",
       "    <tr>\n",
       "      <th>3195</th>\n",
       "      <td>./train_images/Bird_sub_novel/Yellow_breasted_...</td>\n",
       "      <td>0</td>\n",
       "      <td>87</td>\n",
       "      <td>NaN</td>\n",
       "      <td>29</td>\n",
       "    </tr>\n",
       "    <tr>\n",
       "      <th>3196</th>\n",
       "      <td>./train_images/Bird_sub_novel/Yellow_breasted_...</td>\n",
       "      <td>0</td>\n",
       "      <td>87</td>\n",
       "      <td>NaN</td>\n",
       "      <td>29</td>\n",
       "    </tr>\n",
       "    <tr>\n",
       "      <th>3197</th>\n",
       "      <td>./train_images/Bird_sub_novel/Yellow_breasted_...</td>\n",
       "      <td>0</td>\n",
       "      <td>87</td>\n",
       "      <td>NaN</td>\n",
       "      <td>29</td>\n",
       "    </tr>\n",
       "    <tr>\n",
       "      <th>3198</th>\n",
       "      <td>./train_images/Bird_sub_novel/Yellow_breasted_...</td>\n",
       "      <td>0</td>\n",
       "      <td>87</td>\n",
       "      <td>NaN</td>\n",
       "      <td>29</td>\n",
       "    </tr>\n",
       "    <tr>\n",
       "      <th>3199</th>\n",
       "      <td>./train_images/Bird_sub_novel/Yellow_breasted_...</td>\n",
       "      <td>0</td>\n",
       "      <td>87</td>\n",
       "      <td>NaN</td>\n",
       "      <td>29</td>\n",
       "    </tr>\n",
       "  </tbody>\n",
       "</table>\n",
       "<p>3200 rows × 5 columns</p>\n",
       "</div>"
      ],
      "text/plain": [
       "                                                  image  superclass_index  \\\n",
       "0                     ./train_images/train_images/1.jpg                 0   \n",
       "1                     ./train_images/train_images/4.jpg                 0   \n",
       "2                     ./train_images/train_images/9.jpg                 0   \n",
       "3                    ./train_images/train_images/12.jpg                 0   \n",
       "4                    ./train_images/train_images/13.jpg                 0   \n",
       "...                                                 ...               ...   \n",
       "3195  ./train_images/Bird_sub_novel/Yellow_breasted_...                 0   \n",
       "3196  ./train_images/Bird_sub_novel/Yellow_breasted_...                 0   \n",
       "3197  ./train_images/Bird_sub_novel/Yellow_breasted_...                 0   \n",
       "3198  ./train_images/Bird_sub_novel/Yellow_breasted_...                 0   \n",
       "3199  ./train_images/Bird_sub_novel/Yellow_breasted_...                 0   \n",
       "\n",
       "      subclass_index                                        description  label  \n",
       "0                 42  nature photograph of a bird, specifically a oy...      0  \n",
       "1                  4  nature photograph of a bird, specifically a gr...      1  \n",
       "2                 41  nature photograph of a bird, specifically a re...      2  \n",
       "3                 20  nature photograph of a bird, specifically a ki...      3  \n",
       "4                 19  nature photograph of a bird, specifically a br...      4  \n",
       "...              ...                                                ...    ...  \n",
       "3195              87                                                NaN     29  \n",
       "3196              87                                                NaN     29  \n",
       "3197              87                                                NaN     29  \n",
       "3198              87                                                NaN     29  \n",
       "3199              87                                                NaN     29  \n",
       "\n",
       "[3200 rows x 5 columns]"
      ]
     },
     "execution_count": 14,
     "metadata": {},
     "output_type": "execute_result"
    }
   ],
   "source": [
    "bird_novel_train"
   ]
  },
  {
   "cell_type": "code",
   "execution_count": 15,
   "id": "9a38de41-a60c-4499-8829-816750953b22",
   "metadata": {},
   "outputs": [],
   "source": [
    "num_classes = len(bird_subclasses)"
   ]
  },
  {
   "cell_type": "code",
   "execution_count": 16,
   "id": "d7493f44-b0d3-4b2a-b014-c04730655a7e",
   "metadata": {},
   "outputs": [
    {
     "data": {
      "text/plain": [
       "30"
      ]
     },
     "execution_count": 16,
     "metadata": {},
     "output_type": "execute_result"
    }
   ],
   "source": [
    "num_classes"
   ]
  },
  {
   "cell_type": "code",
   "execution_count": 17,
   "id": "7cd9f793-ec3b-4c8a-a27a-06804c3795bd",
   "metadata": {},
   "outputs": [],
   "source": [
    "from torch.utils.data import random_split"
   ]
  },
  {
   "cell_type": "code",
   "execution_count": 36,
   "id": "9a9ae3df-b3c0-4fbb-9c21-6d1f258f4acd",
   "metadata": {},
   "outputs": [],
   "source": [
    "from torchvision import datasets, transforms\n",
    "from torch.utils.data import Dataset, DataLoader\n",
    "import torch"
   ]
  },
  {
   "cell_type": "code",
   "execution_count": 19,
   "id": "a6afdb2b-419f-46d0-98fe-3b0a8d421dd1",
   "metadata": {},
   "outputs": [],
   "source": [
    "transform = transforms.Compose([\n",
    "    transforms.Resize((456, 456)),\n",
    "    transforms.ToTensor(),\n",
    "    transforms.Normalize([0.485, 0.456, 0.406],\n",
    "                         [0.229, 0.224, 0.225])\n",
    "])\n",
    "\n",
    "class BirdDataset(Dataset):\n",
    "    def __init__(self, df, transform=None, root_dir=\"\"):\n",
    "        self.df = df.reset_index(drop=True)\n",
    "        self.transform = transform\n",
    "        self.root_dir = root_dir\n",
    "\n",
    "    def __len__(self):\n",
    "        return len(self.df)\n",
    "\n",
    "    def __getitem__(self, idx):\n",
    "        # img_name = self.df.loc[idx, 'image']\n",
    "        img_path = self.df.loc[idx, 'image']\n",
    "        label = self.df.loc[idx, 'label'] \n",
    "\n",
    "        img = Image.open(img_path).convert(\"RGB\")\n",
    "        if self.transform:\n",
    "            img = self.transform(img)\n",
    "\n",
    "        return img, label\n",
    "\n",
    "\n",
    "\n",
    "train_dataset = BirdDataset(df=bird_novel_train, transform=transform, root_dir=root_dir)\n",
    "\n",
    "total_len = len(train_dataset)\n",
    "train_len = int(0.8 * total_len)\n",
    "val_len = total_len - train_len\n",
    "train_dataset, val_dataset = random_split(train_dataset, [train_len, val_len], generator=torch.Generator().manual_seed(42)) "
   ]
  },
  {
   "cell_type": "code",
   "execution_count": 20,
   "id": "8e99737d-fec5-47f6-bddc-c6c2268ac913",
   "metadata": {},
   "outputs": [],
   "source": [
    "import torch\n",
    "import torch.nn as nn\n",
    "from torchvision import models\n",
    "\n",
    "class CustomEfficientNetB5(nn.Module):\n",
    "    def __init__(self, num_classes: int):\n",
    "        super().__init__()\n",
    "\n",
    "        # load pretrained model as backbone\n",
    "        base_model = models.efficientnet_b5(weights=models.EfficientNet_B5_Weights.DEFAULT)\n",
    "        self.backbone = base_model.features  \n",
    "\n",
    "       # feature map to [B, 2048, 1, 1]\n",
    "        self.pool = nn.AdaptiveAvgPool2d(1)\n",
    "\n",
    "        \n",
    "        self.classifier = nn.Sequential(\n",
    "            nn.Linear(2048, 1024),\n",
    "            nn.ReLU(),\n",
    "            nn.BatchNorm1d(1024),\n",
    "            nn.Dropout(0.4),\n",
    "\n",
    "            nn.Linear(1024, 512),\n",
    "            nn.ReLU(),\n",
    "            nn.BatchNorm1d(512),\n",
    "            nn.Dropout(0.3),\n",
    "\n",
    "            nn.Linear(512, 256),\n",
    "            nn.ReLU(),\n",
    "            nn.BatchNorm1d(256),\n",
    "            nn.Dropout(0.2),\n",
    "\n",
    "            nn.Linear(256, num_classes)\n",
    "        )\n",
    "\n",
    "    def forward(self, x):\n",
    "        x = self.backbone(x)          \n",
    "        x = self.pool(x)              \n",
    "        x = torch.flatten(x, 1)       \n",
    "        x = self.classifier(x)        \n",
    "        return x\n"
   ]
  },
  {
   "cell_type": "code",
   "execution_count": 21,
   "id": "e83e695e-f5dd-4790-ab2e-ff8e9dda461f",
   "metadata": {},
   "outputs": [],
   "source": [
    "device = torch.device(\"cuda\" if torch.cuda.is_available() else \"cpu\")\n",
    "model = CustomEfficientNetB5(num_classes=num_classes).to(device)\n",
    "\n",
    "criterion = nn.CrossEntropyLoss()\n",
    "optimizer = torch.optim.Adam(model.parameters(), lr=1e-4)"
   ]
  },
  {
   "cell_type": "code",
   "execution_count": 22,
   "id": "b79dc636-2b2a-4a5f-b43f-8b5344cc368b",
   "metadata": {},
   "outputs": [],
   "source": [
    "train_loader = DataLoader(train_dataset, batch_size=16, shuffle=True)\n",
    "val_loader = DataLoader(val_dataset, batch_size=16)"
   ]
  },
  {
   "cell_type": "code",
   "execution_count": 23,
   "id": "c066c802-6988-450a-8808-d3571489acde",
   "metadata": {},
   "outputs": [],
   "source": [
    "import torch\n",
    "import gc\n",
    "from tqdm import tqdm\n",
    "\n",
    "class Trainer():\n",
    "    def __init__(self, model, criterion, optimizer, train_loader, val_loader, device='cuda'):\n",
    "        self.model = model.to(device)\n",
    "        self.criterion = criterion\n",
    "        self.optimizer = optimizer\n",
    "        self.train_loader = train_loader\n",
    "        self.val_loader = val_loader\n",
    "        self.device = device\n",
    "\n",
    "    def train_epoch(self):\n",
    "        self.model.train()\n",
    "        running_loss = 0.0\n",
    "        correct = 0\n",
    "        total = 0\n",
    "\n",
    "        for inputs, labels in tqdm(self.train_loader, desc=\"Training\", leave=False):\n",
    "            inputs, labels = inputs.to(self.device), labels.to(self.device)\n",
    "\n",
    "            self.optimizer.zero_grad()\n",
    "            outputs = self.model(inputs)\n",
    "            loss = self.criterion(outputs, labels)\n",
    "            loss.backward()\n",
    "            self.optimizer.step()\n",
    "\n",
    "            running_loss += loss.item()\n",
    "            correct += (outputs.argmax(1) == labels).sum().item()\n",
    "            total += labels.size(0)\n",
    "\n",
    "        avg_loss = running_loss / len(self.train_loader)\n",
    "        acc = correct / total * 100\n",
    "        print(f'Training loss: {avg_loss:.4f} | Train Acc: {acc:.2f}% \\n')\n",
    "        return avg_loss, acc\n",
    "\n",
    "    def validate_epoch(self):\n",
    "        self.model.eval()\n",
    "        correct = 0\n",
    "        total = 0\n",
    "        running_loss = 0.0\n",
    "\n",
    "        class29_correct = 0\n",
    "        class29_total = 0\n",
    "\n",
    "        with torch.no_grad():\n",
    "            for inputs, labels in tqdm(self.val_loader, desc=\"Validating\", leave=False):\n",
    "                inputs, labels = inputs.to(self.device), labels.to(self.device)\n",
    "\n",
    "                outputs = self.model(inputs)\n",
    "                loss = self.criterion(outputs, labels)\n",
    "\n",
    "                _, predicted = torch.max(outputs.data, 1)\n",
    "                correct += (predicted == labels).sum().item()\n",
    "                total += labels.size(0)\n",
    "                running_loss += loss.item()\n",
    "\n",
    "                class29_mask = (labels == 29)\n",
    "                class29_total += class29_mask.sum().item()\n",
    "                class29_correct += ((predicted == 29) & class29_mask).sum().item()\n",
    "\n",
    "        avg_loss = running_loss / len(self.val_loader)\n",
    "        acc = correct / total * 100\n",
    "\n",
    "        if class29_total > 0:\n",
    "            class29_acc = class29_correct / class29_total * 100\n",
    "            print(f'Validation loss: {avg_loss:.4f} | Val Acc: {acc:.2f}% | Class29 Acc: {class29_acc:.2f}%\\n')\n",
    "        else:\n",
    "            print(f'Validation loss: {avg_loss:.4f} | Val Acc: {acc:.2f}% | Class29 Acc: N/A (no samples)\\n')\n",
    "\n",
    "        return avg_loss, acc"
   ]
  },
  {
   "cell_type": "code",
   "execution_count": 24,
   "id": "074147ad-c031-4c0d-8830-2ed77e5e8ca1",
   "metadata": {},
   "outputs": [],
   "source": [
    "trainer = Trainer(model, criterion, optimizer, train_loader, val_loader, device=device)"
   ]
  },
  {
   "cell_type": "code",
   "execution_count": 25,
   "id": "37c77ca9-b4b0-4ff1-ac0c-fa102c32fe53",
   "metadata": {},
   "outputs": [],
   "source": [
    "from tqdm import tqdm\n",
    "import torch\n",
    "import torch.nn as nn\n",
    "from torchvision import models\n",
    "import os\n",
    "from PIL import Image\n",
    "import time\n",
    "import gc"
   ]
  },
  {
   "cell_type": "code",
   "execution_count": 26,
   "id": "598158ac-6bb4-4843-9459-909dcb45aa2a",
   "metadata": {
    "scrolled": true
   },
   "outputs": [
    {
     "name": "stdout",
     "output_type": "stream",
     "text": [
      "\n",
      "Epoch 1/10\n"
     ]
    },
    {
     "name": "stderr",
     "output_type": "stream",
     "text": [
      "                                                                                                                       \r"
     ]
    },
    {
     "name": "stdout",
     "output_type": "stream",
     "text": [
      "Training loss: 1.9469 | Train Acc: 52.34% \n",
      "\n"
     ]
    },
    {
     "name": "stderr",
     "output_type": "stream",
     "text": [
      "                                                                                                                       \r"
     ]
    },
    {
     "name": "stdout",
     "output_type": "stream",
     "text": [
      "Validation loss: 1.1679 | Val Acc: 80.00% | Class29 Acc: 100.00%\n",
      "\n",
      "Save the best model at epoch 1 (val_loss=1.1679)\n",
      "Epoch time: 2287.10 seconds\n",
      "\n",
      "Epoch 2/10\n"
     ]
    },
    {
     "name": "stderr",
     "output_type": "stream",
     "text": [
      "                                                                                                                       \r"
     ]
    },
    {
     "name": "stdout",
     "output_type": "stream",
     "text": [
      "Training loss: 0.8049 | Train Acc: 85.35% \n",
      "\n"
     ]
    },
    {
     "name": "stderr",
     "output_type": "stream",
     "text": [
      "                                                                                                                       \r"
     ]
    },
    {
     "name": "stdout",
     "output_type": "stream",
     "text": [
      "Validation loss: 0.4321 | Val Acc: 95.00% | Class29 Acc: 100.00%\n",
      "\n",
      "Save the best model at epoch 2 (val_loss=0.4321)\n",
      "Epoch time: 2622.30 seconds\n",
      "\n",
      "Epoch 3/10\n"
     ]
    },
    {
     "name": "stderr",
     "output_type": "stream",
     "text": [
      "                                                                                                                       \r"
     ]
    },
    {
     "name": "stdout",
     "output_type": "stream",
     "text": [
      "Training loss: 0.4041 | Train Acc: 94.84% \n",
      "\n"
     ]
    },
    {
     "name": "stderr",
     "output_type": "stream",
     "text": [
      "                                                                                                                       \r"
     ]
    },
    {
     "name": "stdout",
     "output_type": "stream",
     "text": [
      "Validation loss: 0.2010 | Val Acc: 98.91% | Class29 Acc: 100.00%\n",
      "\n",
      "Save the best model at epoch 3 (val_loss=0.2010)\n",
      "Epoch time: 2373.37 seconds\n",
      "\n",
      "Epoch 4/10\n"
     ]
    },
    {
     "name": "stderr",
     "output_type": "stream",
     "text": [
      "                                                                                                                       \r"
     ]
    },
    {
     "name": "stdout",
     "output_type": "stream",
     "text": [
      "Training loss: 0.2471 | Train Acc: 97.07% \n",
      "\n"
     ]
    },
    {
     "name": "stderr",
     "output_type": "stream",
     "text": [
      "                                                                                                                       \r"
     ]
    },
    {
     "name": "stdout",
     "output_type": "stream",
     "text": [
      "Validation loss: 0.1235 | Val Acc: 98.59% | Class29 Acc: 100.00%\n",
      "\n",
      "Save the best model at epoch 4 (val_loss=0.1235)\n",
      "Epoch time: 2328.98 seconds\n",
      "\n",
      "Epoch 5/10\n"
     ]
    },
    {
     "name": "stderr",
     "output_type": "stream",
     "text": [
      "                                                                                                                       \r"
     ]
    },
    {
     "name": "stdout",
     "output_type": "stream",
     "text": [
      "Training loss: 0.1562 | Train Acc: 98.48% \n",
      "\n"
     ]
    },
    {
     "name": "stderr",
     "output_type": "stream",
     "text": [
      "                                                                                                                       \r"
     ]
    },
    {
     "name": "stdout",
     "output_type": "stream",
     "text": [
      "Validation loss: 0.0728 | Val Acc: 99.38% | Class29 Acc: 100.00%\n",
      "\n",
      "Save the best model at epoch 5 (val_loss=0.0728)\n",
      "Epoch time: 2328.41 seconds\n",
      "\n",
      "Epoch 6/10\n"
     ]
    },
    {
     "name": "stderr",
     "output_type": "stream",
     "text": [
      "                                                                                                                       \r"
     ]
    },
    {
     "name": "stdout",
     "output_type": "stream",
     "text": [
      "Training loss: 0.1181 | Train Acc: 98.95% \n",
      "\n"
     ]
    },
    {
     "name": "stderr",
     "output_type": "stream",
     "text": [
      "                                                                                                                       \r"
     ]
    },
    {
     "name": "stdout",
     "output_type": "stream",
     "text": [
      "Validation loss: 0.0582 | Val Acc: 99.38% | Class29 Acc: 100.00%\n",
      "\n",
      "Save the best model at epoch 6 (val_loss=0.0582)\n",
      "Epoch time: 2335.99 seconds\n",
      "\n",
      "Epoch 7/10\n"
     ]
    },
    {
     "name": "stderr",
     "output_type": "stream",
     "text": [
      "                                                                                                                       \r"
     ]
    },
    {
     "name": "stdout",
     "output_type": "stream",
     "text": [
      "Training loss: 0.0719 | Train Acc: 99.84% \n",
      "\n"
     ]
    },
    {
     "name": "stderr",
     "output_type": "stream",
     "text": [
      "                                                                                                                       \r"
     ]
    },
    {
     "name": "stdout",
     "output_type": "stream",
     "text": [
      "Validation loss: 0.0466 | Val Acc: 99.38% | Class29 Acc: 100.00%\n",
      "\n",
      "Save the best model at epoch 7 (val_loss=0.0466)\n",
      "Epoch time: 2340.66 seconds\n",
      "\n",
      "Epoch 8/10\n"
     ]
    },
    {
     "name": "stderr",
     "output_type": "stream",
     "text": [
      "                                                                                                                       \r"
     ]
    },
    {
     "name": "stdout",
     "output_type": "stream",
     "text": [
      "Training loss: 0.0547 | Train Acc: 99.80% \n",
      "\n"
     ]
    },
    {
     "name": "stderr",
     "output_type": "stream",
     "text": [
      "                                                                                                                       \r"
     ]
    },
    {
     "name": "stdout",
     "output_type": "stream",
     "text": [
      "Validation loss: 0.0418 | Val Acc: 99.22% | Class29 Acc: 100.00%\n",
      "\n",
      "Save the best model at epoch 8 (val_loss=0.0418)\n",
      "Epoch time: 2329.83 seconds\n",
      "\n",
      "Epoch 9/10\n"
     ]
    },
    {
     "name": "stderr",
     "output_type": "stream",
     "text": [
      "                                                                                                                       \r"
     ]
    },
    {
     "name": "stdout",
     "output_type": "stream",
     "text": [
      "Training loss: 0.0439 | Train Acc: 99.69% \n",
      "\n"
     ]
    },
    {
     "name": "stderr",
     "output_type": "stream",
     "text": [
      "                                                                                                                       \r"
     ]
    },
    {
     "name": "stdout",
     "output_type": "stream",
     "text": [
      "Validation loss: 0.0548 | Val Acc: 98.12% | Class29 Acc: 100.00%\n",
      "\n",
      "Epoch time: 2342.35 seconds\n",
      "\n",
      "Epoch 10/10\n"
     ]
    },
    {
     "name": "stderr",
     "output_type": "stream",
     "text": [
      "                                                                                                                       \r"
     ]
    },
    {
     "name": "stdout",
     "output_type": "stream",
     "text": [
      "Training loss: 0.0429 | Train Acc: 99.65% \n",
      "\n"
     ]
    },
    {
     "name": "stderr",
     "output_type": "stream",
     "text": [
      "                                                                                                                       \r"
     ]
    },
    {
     "name": "stdout",
     "output_type": "stream",
     "text": [
      "Validation loss: 0.0348 | Val Acc: 99.06% | Class29 Acc: 100.00%\n",
      "\n",
      "Save the best model at epoch 10 (val_loss=0.0348)\n",
      "Epoch time: 2357.45 seconds\n",
      "Finished Training\n"
     ]
    }
   ],
   "source": [
    "EPOCHS = 10\n",
    "\n",
    "best_val_loss = float('inf')\n",
    "for epoch in range(EPOCHS):\n",
    "    print(f'\\nEpoch {epoch+1}/{EPOCHS}')\n",
    "    start_time = time.time()\n",
    "\n",
    "    trainer.train_epoch()\n",
    "    val_loss, val_acc = trainer.validate_epoch() \n",
    "\n",
    "    if val_loss < best_val_loss:\n",
    "        best_val_loss = val_loss\n",
    "        torch.save(trainer.model.state_dict(), 'best_bird_subclass_model.pt')\n",
    "        print(f'Save the best model at epoch {epoch+1} (val_loss={val_loss:.4f})')\n",
    "\n",
    "    end_time = time.time()\n",
    "    duration = end_time - start_time\n",
    "    print(f'Epoch time: {duration:.2f} seconds')\n",
    "\n",
    "\n",
    "print('Finished Training')\n"
   ]
  },
  {
   "cell_type": "code",
   "execution_count": 27,
   "id": "98aae476-5bfb-4c3e-84bd-d01e5b32605c",
   "metadata": {},
   "outputs": [
    {
     "data": {
      "image/png": "[encoded data removed]",
      "text/plain": [
       "<Figure size 800x500 with 1 Axes>"
      ]
     },
     "metadata": {},
     "output_type": "display_data"
    },
    {
     "data": {
      "image/png": "[encoded data removed]",
      "text/plain": [
       "<Figure size 800x500 with 1 Axes>"
      ]
     },
     "metadata": {},
     "output_type": "display_data"
    }
   ],
   "source": [
    "import matplotlib.pyplot as plt\n",
    "\n",
    "epochs = list(range(1, 11))\n",
    "train_loss = [1.9469, 0.8049, 0.4041, 0.2471, 0.1562, 0.1181, 0.0719, 0.0547, 0.0439, 0.0429]\n",
    "train_acc =  [52.34, 85.35, 94.84, 97.07, 98.48, 98.95, 99.84, 99.80, 99.69, 99.65]\n",
    "val_loss =   [1.1679, 0.4321, 0.2010, 0.1235, 0.0728, 0.0582, 0.0466, 0.0418, 0.0548, 0.0348]\n",
    "val_acc =    [80.00, 95.00, 98.91, 98.59, 99.38, 99.38, 99.38, 99.22, 98.12, 99.06]\n",
    "\n",
    "\n",
    "plt.figure(figsize=(8, 5))\n",
    "plt.plot(epochs, train_loss, label='Training Loss', marker='o')\n",
    "plt.plot(epochs, val_loss, label='Validation Loss', marker='s')\n",
    "plt.xlabel('Epoch')\n",
    "plt.ylabel('Loss')\n",
    "plt.title('Training vs Validation Loss')\n",
    "plt.legend()\n",
    "plt.grid(True)\n",
    "plt.tight_layout()\n",
    "plt.savefig(\"loss_curve.png\")  \n",
    "\n",
    "plt.figure(figsize=(8, 5))\n",
    "plt.plot(epochs, train_acc, label='Training Accuracy', marker='o')\n",
    "plt.plot(epochs, val_acc, label='Validation Accuracy', marker='s')\n",
    "plt.xlabel('Epoch')\n",
    "plt.ylabel('Accuracy (%)')\n",
    "plt.title('Training vs Validation Accuracy')\n",
    "plt.legend()\n",
    "plt.grid(True)\n",
    "plt.tight_layout()\n",
    "plt.savefig(\"accuracy_curve.png\") "
   ]
  }
 ],
 "metadata": {
  "kernelspec": {
   "display_name": "Python (torch_py310)",
   "language": "python",
   "name": "torch_py310"
  },
  "language_info": {
   "codemirror_mode": {
    "name": "ipython",
    "version": 3
   },
   "file_extension": ".py",
   "mimetype": "text/x-python",
   "name": "python",
   "nbconvert_exporter": "python",
   "pygments_lexer": "ipython3",
   "version": "3.10.16"
  }
 },
 "nbformat": 4,
 "nbformat_minor": 5
}
