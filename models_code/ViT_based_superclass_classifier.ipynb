{
  "nbformat": 4,
  "nbformat_minor": 0,
  "metadata": {
    "colab": {
      "provenance": [],
      "machine_shape": "hm",
      "gpuType": "A100"
    },
    "kernelspec": {
      "name": "python3",
      "display_name": "Python 3"
    },
    "language_info": {
      "name": "python"
    },
    "accelerator": "GPU"
  },
  "cells": [
    {
      "cell_type": "code",
      "execution_count": null,
      "metadata": {
        "id": "I00uoK34rUjz"
      },
      "outputs": [],
      "source": [
        "import os\n",
        "import random\n",
        "import matplotlib.pyplot as plt\n",
        "import numpy as np\n",
        "import pandas as pd\n",
        "\n",
        "import torch\n",
        "import torch.nn as nn\n",
        "import torch.nn.functional as F\n",
        "import torch.optim as optim\n",
        "\n",
        "import torchvision\n",
        "\n",
        "from torch.utils.data import Dataset, DataLoader, BatchSampler, random_split\n",
        "from torchvision import transforms\n",
        "from PIL import Image"
      ]
    },
    {
      "cell_type": "code",
      "source": [
        "from google.colab import drive\n",
        "drive.mount('/content/drive')"
      ],
      "metadata": {
        "colab": {
          "base_uri": "https://localhost:8080/"
        },
        "id": "ZgQkbCCSsBhV",
        "outputId": "34d76e2f-9d15-411a-8d62-1093df97ca5e"
      },
      "execution_count": null,
      "outputs": [
        {
          "output_type": "stream",
          "name": "stdout",
          "text": [
            "Mounted at /content/drive\n"
          ]
        }
      ]
    },
    {
      "cell_type": "code",
      "source": [
        "cd /content/drive/MyDrive/CS4995/"
      ],
      "metadata": {
        "id": "Mhg3r110dpan",
        "colab": {
          "base_uri": "https://localhost:8080/"
        },
        "outputId": "a1b076ca-387f-4174-95cb-e0cb05140990"
      },
      "execution_count": null,
      "outputs": [
        {
          "output_type": "stream",
          "name": "stdout",
          "text": [
            "/content/drive/MyDrive/CS4995\n"
          ]
        }
      ]
    },
    {
      "cell_type": "code",
      "source": [
        "ls"
      ],
      "metadata": {
        "colab": {
          "base_uri": "https://localhost:8080/"
        },
        "id": "XejdjV4wk5QW",
        "outputId": "32c6daae-402b-4c33-faf4-3b16db4aa163"
      },
      "execution_count": null,
      "outputs": [
        {
          "output_type": "stream",
          "name": "stdout",
          "text": [
            "example_test_predictions.csv  superclass_mapping.csv  train_data.csv\n",
            "simple_cnn_demo.ipynb         \u001b[0m\u001b[01;34mtest_images\u001b[0m/            \u001b[01;34mtrain_images\u001b[0m/\n",
            "subclass_mapping.csv          test_images.zip         train_images.zip\n"
          ]
        }
      ]
    },
    {
      "cell_type": "code",
      "source": [
        "super_class_train = pd.read_csv('train_data.csv')\n",
        "# Load dataset\n",
        "super_class_train = pd.read_csv('train_data.csv')\n",
        "super_class_train['image'] = super_class_train['image'].apply(\n",
        "    lambda x: x if x.startswith('./train_images/train_images/') else f'./train_images/train_images/{x}'\n",
        ")"
      ],
      "metadata": {
        "id": "qG-KFyRhdpc8"
      },
      "execution_count": null,
      "outputs": []
    },
    {
      "cell_type": "code",
      "source": [
        "# Add other dataset paths and labels\n",
        "add_dirs = {\n",
        "    './train_images/other_animals/': 3,\n",
        "    './train_images/bird_sub_novel/': 0,\n",
        "    './train_images/dog_sub_novel/': 1,\n",
        "    './train_images/reptile_novel/': 2\n",
        "}\n",
        "for root_dir, label in add_dirs.items():\n",
        "    img_paths = []\n",
        "    for root, dirs, files in os.walk(root_dir):\n",
        "        for file in files:\n",
        "            full_path = os.path.join(root, file)\n",
        "            img_paths.append(full_path.replace(\"\\\\\", \"/\"))\n",
        "    df_new = pd.DataFrame({\n",
        "        'image': img_paths,\n",
        "        'superclass_index': label,\n",
        "        'description': [\"no description\"] * len(img_paths)\n",
        "    })\n",
        "    super_class_train = pd.concat([super_class_train, df_new], ignore_index=True)\n",
        "\n",
        "# Dataset and Dataloaders\n"
      ],
      "metadata": {
        "id": "4wV_EMoalLFP"
      },
      "execution_count": null,
      "outputs": []
    },
    {
      "cell_type": "code",
      "source": [
        "import torch\n",
        "import torch.nn as nn\n",
        "import torch.optim as optim\n",
        "from torch.utils.data import Dataset, DataLoader, random_split\n",
        "from torchvision import transforms\n",
        "from PIL import Image\n",
        "import pandas as pd\n",
        "import os\n",
        "from tqdm import tqdm\n",
        "\n",
        "# ---------------- Dataset ----------------\n",
        "class SuperClassDataset(Dataset):\n",
        "    def __init__(self, df, transform=None):\n",
        "        self.df = df.reset_index(drop=True)\n",
        "        self.transform = transform\n",
        "\n",
        "    def __len__(self):\n",
        "        return len(self.df)\n",
        "\n",
        "    def __getitem__(self, idx):\n",
        "        img_path = self.df.loc[idx, 'image']\n",
        "        label = self.df.loc[idx, 'superclass_index']\n",
        "        img = Image.open(img_path).convert(\"RGB\")\n",
        "        if self.transform:\n",
        "            img = self.transform(img)\n",
        "        return img, label\n",
        "\n",
        "    def set_transform(self, transform):\n",
        "        self.transform = transform\n",
        "\n",
        "# ---------------- Model ----------------\n",
        "class ViTBlock(nn.Module):\n",
        "    def __init__(self, dim, heads=4, mlp_dim=256, dropout=0.1):\n",
        "        super(ViTBlock, self).__init__()\n",
        "        self.norm1 = nn.LayerNorm(dim)\n",
        "        self.attn = nn.MultiheadAttention(embed_dim=dim, num_heads=heads, dropout=dropout, batch_first=True)\n",
        "        self.norm2 = nn.LayerNorm(dim)\n",
        "        self.mlp = nn.Sequential(\n",
        "            nn.Linear(dim, mlp_dim),\n",
        "            nn.ReLU(),\n",
        "            nn.Dropout(dropout),\n",
        "            nn.Linear(mlp_dim, dim),\n",
        "        )\n",
        "\n",
        "    def forward(self, x):\n",
        "        x = self.norm1(x)\n",
        "        attn_output, _ = self.attn(x, x, x)\n",
        "        x = x + attn_output\n",
        "        x = self.norm2(x)\n",
        "        x = x + self.mlp(x)\n",
        "        return x\n",
        "\n",
        "class SuperClassCNNViT(nn.Module):\n",
        "    def __init__(self, output_dim=4):\n",
        "        super(SuperClassCNNViT, self).__init__()\n",
        "        self.conv_layers = nn.Sequential(\n",
        "            nn.Conv2d(3, 16, kernel_size=3, padding=1), nn.BatchNorm2d(16), nn.ReLU(), nn.MaxPool2d(2), nn.Dropout2d(0.1),\n",
        "            nn.Conv2d(16, 32, kernel_size=3, padding=1), nn.BatchNorm2d(32), nn.ReLU(), nn.MaxPool2d(2),\n",
        "            nn.Conv2d(32, 64, kernel_size=3, padding=1), nn.BatchNorm2d(64), nn.ReLU(), nn.MaxPool2d(2),\n",
        "            nn.Conv2d(64, 128, kernel_size=3, padding=1), nn.BatchNorm2d(128), nn.ReLU(), nn.MaxPool2d(2),\n",
        "            nn.Conv2d(128, 256, kernel_size=3, padding=1), nn.BatchNorm2d(256), nn.ReLU(), nn.MaxPool2d(2),\n",
        "        )\n",
        "        self.patch_dim = 256\n",
        "        self.num_patches = 7 * 7\n",
        "        self.vit = nn.Sequential(\n",
        "            ViTBlock(dim=self.patch_dim, heads=4, mlp_dim=512),\n",
        "            ViTBlock(dim=self.patch_dim, heads=4, mlp_dim=512),\n",
        "        )\n",
        "        self.classifier = nn.Sequential(\n",
        "            nn.Linear(self.patch_dim * self.num_patches, 512),\n",
        "            nn.ReLU(),\n",
        "            nn.Dropout(0.5),\n",
        "            nn.Linear(512, output_dim)\n",
        "        )\n",
        "\n",
        "    def forward(self, x):\n",
        "        x = self.conv_layers(x)              # (B, 256, 7, 7)\n",
        "        x = x.flatten(2).transpose(1, 2)     # (B, 49, 256)\n",
        "        x = self.vit(x)                      # (B, 49, 256)\n",
        "        x = x.flatten(1)                     # (B, 49*256)\n",
        "        x = self.classifier(x)               # (B, output_dim)\n",
        "        return x\n",
        "\n",
        "# ---------------- Data Loading ----------------\n",
        "# Load CSV\n",
        "df = pd.read_csv('train_data.csv')\n",
        "df['image'] = df['image'].apply(lambda x: x if x.startswith('./train_images/train_images/') else f'./train_images/train_images/{x}')\n",
        "\n",
        "# Append additional directories\n",
        "extra_dirs = {\n",
        "    './train_images/other_animals/': 3,\n",
        "    './train_images/bird_sub_novel/': 0,\n",
        "    './train_images/dog_sub_novel/': 1,\n",
        "    './train_images/reptile_novel/': 2,\n",
        "}\n",
        "valid_extensions = ('.png', '.jpg', '.jpeg', '.bmp', '.gif', '.tiff')\n",
        "\n",
        "for root_dir, label in extra_dirs.items():\n",
        "    img_paths = []\n",
        "    for root, _, files in os.walk(root_dir):\n",
        "        for file in files:\n",
        "            if file.lower().endswith(valid_extensions):  # Only image files\n",
        "                full_path = os.path.join(root, file).replace(\"\\\\\", \"/\")\n",
        "                img_paths.append(full_path)\n",
        "    df_extra = pd.DataFrame({\n",
        "        'image': img_paths,\n",
        "        'superclass_index': label,\n",
        "        'description': [\"no description\"] * len(img_paths)\n",
        "    })\n",
        "    df = pd.concat([df, df_extra], ignore_index=True)\n",
        "\n",
        "\n",
        "# Transform (same for train & val)\n",
        "transform = transforms.Compose([\n",
        "    transforms.Resize((256, 256)),\n",
        "    transforms.RandomResizedCrop(224, scale=(0.8, 1.0)),\n",
        "    transforms.RandomHorizontalFlip(),\n",
        "    transforms.RandomRotation(15),\n",
        "    transforms.ColorJitter(0.2, 0.2, 0.2, 0.1),\n",
        "    transforms.ToTensor(),\n",
        "    transforms.Normalize(mean=[0.5]*3, std=[0.5]*3),\n",
        "])\n",
        "\n",
        "# Dataset & split\n",
        "dataset = SuperClassDataset(df, transform=transform)\n",
        "train_size = int(0.8 * len(dataset))\n",
        "val_size = len(dataset) - train_size\n",
        "train_dataset, val_dataset = random_split(dataset, [train_size, val_size])\n",
        "\n",
        "# Apply the same transform to both\n",
        "train_dataset.dataset.set_transform(transform)\n",
        "val_dataset.dataset.set_transform(transform)\n",
        "\n",
        "# Loaders\n",
        "train_loader = DataLoader(train_dataset, batch_size=32, shuffle=True, num_workers=4, pin_memory=True)\n",
        "val_loader = DataLoader(val_dataset, batch_size=32, shuffle=False, num_workers=4, pin_memory=True)\n",
        "\n",
        "# ---------------- Trainer ----------------\n",
        "class Trainer:\n",
        "    def __init__(self, model, criterion, optimizer, train_loader, val_loader, device='cuda'):\n",
        "        self.model = model.to(device)\n",
        "        self.criterion = criterion\n",
        "        self.optimizer = optimizer\n",
        "        self.train_loader = train_loader\n",
        "        self.val_loader = val_loader\n",
        "        self.device = device\n",
        "        self.best_acc = 0.0  # Track best validation accuracy\n",
        "\n",
        "    def train_epoch(self):\n",
        "        self.model.train()\n",
        "        total_loss, correct, total = 0.0, 0, 0\n",
        "        for inputs, labels in tqdm(self.train_loader, desc=\"Training\", leave=False):\n",
        "            inputs, labels = inputs.to(self.device), labels.to(self.device)\n",
        "            self.optimizer.zero_grad()\n",
        "            outputs = self.model(inputs)\n",
        "            loss = self.criterion(outputs, labels)\n",
        "            loss.backward()\n",
        "            self.optimizer.step()\n",
        "            total_loss += loss.item()\n",
        "            correct += (outputs.argmax(1) == labels).sum().item()\n",
        "            total += labels.size(0)\n",
        "        print(f\"Training Loss: {total_loss / len(self.train_loader):.4f} | Accuracy: {correct / total * 100:.2f}%\")\n",
        "\n",
        "    def validate_epoch(self):\n",
        "        self.model.eval()\n",
        "        total_loss, correct, total = 0.0, 0, 0\n",
        "        with torch.no_grad():\n",
        "            for inputs, labels in tqdm(self.val_loader, desc=\"Validating\", leave=False):\n",
        "                inputs, labels = inputs.to(self.device), labels.to(self.device)\n",
        "                outputs = self.model(inputs)\n",
        "                loss = self.criterion(outputs, labels)\n",
        "                total_loss += loss.item()\n",
        "                correct += (outputs.argmax(1) == labels).sum().item()\n",
        "                total += labels.size(0)\n",
        "        print(f\"Validation Loss: {total_loss / len(self.val_loader):.4f} | Accuracy: {correct / total * 100:.2f}%\")\n",
        "        if correct / total * 100 > self.best_acc:\n",
        "            self.best_acc = correct / total * 100\n",
        "            torch.save(self.model.state_dict(), 'best_model.pth')\n",
        "            print(\"✅ Best model saved!\")\n",
        "\n",
        "\n",
        "# ---------------- Run Training ----------------\n",
        "device = torch.device(\"cuda\" if torch.cuda.is_available() else \"cpu\")\n",
        "model = SuperClassCNNViT(output_dim=4)\n",
        "criterion = nn.CrossEntropyLoss()\n",
        "optimizer = optim.Adam(model.parameters(), lr=1e-4)\n",
        "\n",
        "trainer = Trainer(model, criterion, optimizer, train_loader, val_loader, device)\n",
        "for epoch in range(20):\n",
        "    print(f\"\\nEpoch {epoch + 1}/10\")\n",
        "    trainer.train_epoch()\n",
        "    trainer.validate_epoch()\n",
        "\n"
      ],
      "metadata": {
        "colab": {
          "base_uri": "https://localhost:8080/"
        },
        "id": "CchKX_hA3LhB",
        "outputId": "dccd4cf9-901c-4bd6-d2e6-6a9ce4e10ab8"
      },
      "execution_count": null,
      "outputs": [
        {
          "output_type": "stream",
          "name": "stdout",
          "text": [
            "\n",
            "Epoch 1/10\n"
          ]
        },
        {
          "output_type": "stream",
          "name": "stderr",
          "text": []
        },
        {
          "output_type": "stream",
          "name": "stdout",
          "text": [
            "Training Loss: 0.8383 | Accuracy: 66.35%\n"
          ]
        },
        {
          "output_type": "stream",
          "name": "stderr",
          "text": []
        },
        {
          "output_type": "stream",
          "name": "stdout",
          "text": [
            "Validation Loss: 0.5843 | Accuracy: 76.97%\n",
            "✅ Best model saved!\n",
            "\n",
            "Epoch 2/10\n"
          ]
        },
        {
          "output_type": "stream",
          "name": "stderr",
          "text": []
        },
        {
          "output_type": "stream",
          "name": "stdout",
          "text": [
            "Training Loss: 0.6119 | Accuracy: 76.41%\n"
          ]
        },
        {
          "output_type": "stream",
          "name": "stderr",
          "text": []
        },
        {
          "output_type": "stream",
          "name": "stdout",
          "text": [
            "Validation Loss: 0.4882 | Accuracy: 81.70%\n",
            "✅ Best model saved!\n",
            "\n",
            "Epoch 3/10\n"
          ]
        },
        {
          "output_type": "stream",
          "name": "stderr",
          "text": []
        },
        {
          "output_type": "stream",
          "name": "stdout",
          "text": [
            "Training Loss: 0.5157 | Accuracy: 80.02%\n"
          ]
        },
        {
          "output_type": "stream",
          "name": "stderr",
          "text": []
        },
        {
          "output_type": "stream",
          "name": "stdout",
          "text": [
            "Validation Loss: 0.4363 | Accuracy: 83.44%\n",
            "✅ Best model saved!\n",
            "\n",
            "Epoch 4/10\n"
          ]
        },
        {
          "output_type": "stream",
          "name": "stderr",
          "text": []
        },
        {
          "output_type": "stream",
          "name": "stdout",
          "text": [
            "Training Loss: 0.4694 | Accuracy: 81.56%\n"
          ]
        },
        {
          "output_type": "stream",
          "name": "stderr",
          "text": []
        },
        {
          "output_type": "stream",
          "name": "stdout",
          "text": [
            "Validation Loss: 0.3744 | Accuracy: 86.47%\n",
            "✅ Best model saved!\n",
            "\n",
            "Epoch 5/10\n"
          ]
        },
        {
          "output_type": "stream",
          "name": "stderr",
          "text": []
        },
        {
          "output_type": "stream",
          "name": "stdout",
          "text": [
            "Training Loss: 0.4303 | Accuracy: 83.58%\n"
          ]
        },
        {
          "output_type": "stream",
          "name": "stderr",
          "text": []
        },
        {
          "output_type": "stream",
          "name": "stdout",
          "text": [
            "Validation Loss: 0.3521 | Accuracy: 86.64%\n",
            "✅ Best model saved!\n",
            "\n",
            "Epoch 6/10\n"
          ]
        },
        {
          "output_type": "stream",
          "name": "stderr",
          "text": []
        },
        {
          "output_type": "stream",
          "name": "stdout",
          "text": [
            "Training Loss: 0.3833 | Accuracy: 85.55%\n"
          ]
        },
        {
          "output_type": "stream",
          "name": "stderr",
          "text": []
        },
        {
          "output_type": "stream",
          "name": "stdout",
          "text": [
            "Validation Loss: 0.3672 | Accuracy: 86.27%\n",
            "\n",
            "Epoch 7/10\n"
          ]
        },
        {
          "output_type": "stream",
          "name": "stderr",
          "text": []
        },
        {
          "output_type": "stream",
          "name": "stdout",
          "text": [
            "Training Loss: 0.3670 | Accuracy: 85.87%\n"
          ]
        },
        {
          "output_type": "stream",
          "name": "stderr",
          "text": []
        },
        {
          "output_type": "stream",
          "name": "stdout",
          "text": [
            "Validation Loss: 0.3320 | Accuracy: 86.89%\n",
            "✅ Best model saved!\n",
            "\n",
            "Epoch 8/10\n"
          ]
        },
        {
          "output_type": "stream",
          "name": "stderr",
          "text": []
        },
        {
          "output_type": "stream",
          "name": "stdout",
          "text": [
            "Training Loss: 0.3403 | Accuracy: 87.04%\n"
          ]
        },
        {
          "output_type": "stream",
          "name": "stderr",
          "text": []
        },
        {
          "output_type": "stream",
          "name": "stdout",
          "text": [
            "Validation Loss: 0.3539 | Accuracy: 86.27%\n",
            "\n",
            "Epoch 9/10\n"
          ]
        },
        {
          "output_type": "stream",
          "name": "stderr",
          "text": []
        },
        {
          "output_type": "stream",
          "name": "stdout",
          "text": [
            "Training Loss: 0.3238 | Accuracy: 87.82%\n"
          ]
        },
        {
          "output_type": "stream",
          "name": "stderr",
          "text": []
        },
        {
          "output_type": "stream",
          "name": "stdout",
          "text": [
            "Validation Loss: 0.3059 | Accuracy: 88.34%\n",
            "✅ Best model saved!\n",
            "\n",
            "Epoch 10/10\n"
          ]
        },
        {
          "output_type": "stream",
          "name": "stderr",
          "text": []
        },
        {
          "output_type": "stream",
          "name": "stdout",
          "text": [
            "Training Loss: 0.3068 | Accuracy: 88.17%\n"
          ]
        },
        {
          "output_type": "stream",
          "name": "stderr",
          "text": []
        },
        {
          "output_type": "stream",
          "name": "stdout",
          "text": [
            "Validation Loss: 0.2965 | Accuracy: 88.51%\n",
            "✅ Best model saved!\n",
            "\n",
            "Epoch 11/10\n"
          ]
        },
        {
          "output_type": "stream",
          "name": "stderr",
          "text": []
        },
        {
          "output_type": "stream",
          "name": "stdout",
          "text": [
            "Training Loss: 0.2897 | Accuracy: 89.42%\n"
          ]
        },
        {
          "output_type": "stream",
          "name": "stderr",
          "text": []
        },
        {
          "output_type": "stream",
          "name": "stdout",
          "text": [
            "Validation Loss: 0.2977 | Accuracy: 88.26%\n",
            "\n",
            "Epoch 12/10\n"
          ]
        },
        {
          "output_type": "stream",
          "name": "stderr",
          "text": []
        },
        {
          "output_type": "stream",
          "name": "stdout",
          "text": [
            "Training Loss: 0.2652 | Accuracy: 90.31%\n"
          ]
        },
        {
          "output_type": "stream",
          "name": "stderr",
          "text": []
        },
        {
          "output_type": "stream",
          "name": "stdout",
          "text": [
            "Validation Loss: 0.2661 | Accuracy: 89.88%\n",
            "✅ Best model saved!\n",
            "\n",
            "Epoch 13/10\n"
          ]
        },
        {
          "output_type": "stream",
          "name": "stderr",
          "text": []
        },
        {
          "output_type": "stream",
          "name": "stdout",
          "text": [
            "Training Loss: 0.2583 | Accuracy: 90.56%\n"
          ]
        },
        {
          "output_type": "stream",
          "name": "stderr",
          "text": []
        },
        {
          "output_type": "stream",
          "name": "stdout",
          "text": [
            "Validation Loss: 0.2813 | Accuracy: 89.42%\n",
            "\n",
            "Epoch 14/10\n"
          ]
        },
        {
          "output_type": "stream",
          "name": "stderr",
          "text": []
        },
        {
          "output_type": "stream",
          "name": "stdout",
          "text": [
            "Training Loss: 0.2379 | Accuracy: 90.86%\n"
          ]
        },
        {
          "output_type": "stream",
          "name": "stderr",
          "text": []
        },
        {
          "output_type": "stream",
          "name": "stdout",
          "text": [
            "Validation Loss: 0.2902 | Accuracy: 89.29%\n",
            "\n",
            "Epoch 15/10\n"
          ]
        },
        {
          "output_type": "stream",
          "name": "stderr",
          "text": []
        },
        {
          "output_type": "stream",
          "name": "stdout",
          "text": [
            "Training Loss: 0.2317 | Accuracy: 91.29%\n"
          ]
        },
        {
          "output_type": "stream",
          "name": "stderr",
          "text": []
        },
        {
          "output_type": "stream",
          "name": "stdout",
          "text": [
            "Validation Loss: 0.2517 | Accuracy: 90.21%\n",
            "✅ Best model saved!\n",
            "\n",
            "Epoch 16/10\n"
          ]
        },
        {
          "output_type": "stream",
          "name": "stderr",
          "text": []
        },
        {
          "output_type": "stream",
          "name": "stdout",
          "text": [
            "Training Loss: 0.2180 | Accuracy: 91.57%\n"
          ]
        },
        {
          "output_type": "stream",
          "name": "stderr",
          "text": []
        },
        {
          "output_type": "stream",
          "name": "stdout",
          "text": [
            "Validation Loss: 0.2575 | Accuracy: 90.62%\n",
            "✅ Best model saved!\n",
            "\n",
            "Epoch 17/10\n"
          ]
        },
        {
          "output_type": "stream",
          "name": "stderr",
          "text": []
        },
        {
          "output_type": "stream",
          "name": "stdout",
          "text": [
            "Training Loss: 0.2014 | Accuracy: 92.37%\n"
          ]
        },
        {
          "output_type": "stream",
          "name": "stderr",
          "text": []
        },
        {
          "output_type": "stream",
          "name": "stdout",
          "text": [
            "Validation Loss: 0.2545 | Accuracy: 90.21%\n",
            "\n",
            "Epoch 18/10\n"
          ]
        },
        {
          "output_type": "stream",
          "name": "stderr",
          "text": []
        },
        {
          "output_type": "stream",
          "name": "stdout",
          "text": [
            "Training Loss: 0.1995 | Accuracy: 92.66%\n"
          ]
        },
        {
          "output_type": "stream",
          "name": "stderr",
          "text": []
        },
        {
          "output_type": "stream",
          "name": "stdout",
          "text": [
            "Validation Loss: 0.2887 | Accuracy: 89.42%\n",
            "\n",
            "Epoch 19/10\n"
          ]
        },
        {
          "output_type": "stream",
          "name": "stderr",
          "text": []
        },
        {
          "output_type": "stream",
          "name": "stdout",
          "text": [
            "Training Loss: 0.1824 | Accuracy: 93.12%\n"
          ]
        },
        {
          "output_type": "stream",
          "name": "stderr",
          "text": []
        },
        {
          "output_type": "stream",
          "name": "stdout",
          "text": [
            "Validation Loss: 0.2503 | Accuracy: 90.54%\n",
            "\n",
            "Epoch 20/10\n"
          ]
        },
        {
          "output_type": "stream",
          "name": "stderr",
          "text": []
        },
        {
          "output_type": "stream",
          "name": "stdout",
          "text": [
            "Training Loss: 0.1736 | Accuracy: 93.33%\n"
          ]
        },
        {
          "output_type": "stream",
          "name": "stderr",
          "text": []
        },
        {
          "output_type": "stream",
          "name": "stdout",
          "text": [
            "Validation Loss: 0.2413 | Accuracy: 91.00%\n",
            "✅ Best model saved!\n"
          ]
        }
      ]
    },
    {
      "cell_type": "code",
      "source": [
        "model.load_state_dict(torch.load(\"best_model.pth\"))"
      ],
      "metadata": {
        "colab": {
          "base_uri": "https://localhost:8080/"
        },
        "id": "FkprboTA4Ghh",
        "outputId": "7ef0e646-7fea-454a-d986-614c881265dc"
      },
      "execution_count": null,
      "outputs": [
        {
          "output_type": "execute_result",
          "data": {
            "text/plain": [
              "<All keys matched successfully>"
            ]
          },
          "metadata": {},
          "execution_count": 18
        }
      ]
    },
    {
      "cell_type": "code",
      "source": [
        "torch.save(model.state_dict(), \"best_superclass_model.pth\")\n",
        "print(\"✅ Model weights loaded and saved as 'reloaded_best_model.pth'\")\n"
      ],
      "metadata": {
        "colab": {
          "base_uri": "https://localhost:8080/"
        },
        "id": "YS2gf2LUC8cR",
        "outputId": "b41f8c62-dc5f-483f-ed1f-12f44a66ebef"
      },
      "execution_count": null,
      "outputs": [
        {
          "output_type": "stream",
          "name": "stdout",
          "text": [
            "✅ Model weights loaded and saved as 'reloaded_best_model.pth'\n"
          ]
        }
      ]
    },
    {
      "cell_type": "code",
      "source": [],
      "metadata": {
        "id": "wvNCRsNWDDTa"
      },
      "execution_count": null,
      "outputs": []
    }
  ]
}