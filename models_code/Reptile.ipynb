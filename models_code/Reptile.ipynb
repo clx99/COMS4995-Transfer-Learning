{
 "cells": [
  {
   "cell_type": "code",
   "execution_count": 1,
   "metadata": {
    "executionInfo": {
     "elapsed": 8999,
     "status": "ok",
     "timestamp": 1746937584147,
     "user": {
      "displayName": "Yixiao Li",
      "userId": "02239315647449383733"
     },
     "user_tz": 240
    },
    "id": "I00uoK34rUjz"
   },
   "outputs": [],
   "source": [
    "import os\n",
    "import random\n",
    "import matplotlib.pyplot as plt\n",
    "import numpy as np\n",
    "import pandas as pd\n",
    "\n",
    "import torch\n",
    "import torch.nn as nn\n",
    "import torch.nn.functional as F\n",
    "import torch.optim as optim\n",
    "\n",
    "import torchvision\n",
    "\n",
    "from torch.utils.data import Dataset, DataLoader, BatchSampler, random_split\n",
    "from torchvision import transforms\n",
    "from PIL import Image"
   ]
  },
  {
   "cell_type": "code",
   "execution_count": 2,
   "metadata": {
    "colab": {
     "base_uri": "https://localhost:8080/"
    },
    "executionInfo": {
     "elapsed": 18736,
     "status": "ok",
     "timestamp": 1746937770533,
     "user": {
      "displayName": "Yixiao Li",
      "userId": "02239315647449383733"
     },
     "user_tz": 240
    },
    "id": "ZgQkbCCSsBhV",
    "outputId": "55429e65-4e10-4321-fd7b-daaf27c77bdf"
   },
   "outputs": [
    {
     "name": "stdout",
     "output_type": "stream",
     "text": [
      "Mounted at /content/drive\n"
     ]
    }
   ],
   "source": [
    "from google.colab import drive\n",
    "drive.mount('/content/drive')"
   ]
  },
  {
   "cell_type": "code",
   "execution_count": 5,
   "metadata": {
    "executionInfo": {
     "elapsed": 25,
     "status": "ok",
     "timestamp": 1746937943139,
     "user": {
      "displayName": "Yixiao Li",
      "userId": "02239315647449383733"
     },
     "user_tz": 240
    },
    "id": "HxfHwZcvsCBw"
   },
   "outputs": [],
   "source": [
    "path = '/content/drive/MyDrive/CS4995/'"
   ]
  },
  {
   "cell_type": "code",
   "execution_count": 6,
   "metadata": {
    "executionInfo": {
     "elapsed": 2853,
     "status": "ok",
     "timestamp": 1746937946588,
     "user": {
      "displayName": "Yixiao Li",
      "userId": "02239315647449383733"
     },
     "user_tz": 240
    },
    "id": "tiUwI3rRsjHo"
   },
   "outputs": [],
   "source": [
    "train_ann_df = pd.read_csv(path + 'train_data.csv')\n",
    "# test_ann_df = pd.read_csv(path + 'test_data.csv')\n",
    "super_map_df = pd.read_csv(path + 'superclass_mapping.csv')\n",
    "sub_map_df = pd.read_csv(path + 'subclass_mapping.csv')"
   ]
  },
  {
   "cell_type": "code",
   "execution_count": 7,
   "metadata": {
    "executionInfo": {
     "elapsed": 12,
     "status": "ok",
     "timestamp": 1746937946602,
     "user": {
      "displayName": "Yixiao Li",
      "userId": "02239315647449383733"
     },
     "user_tz": 240
    },
    "id": "fh9z3eyVtpqj"
   },
   "outputs": [],
   "source": [
    "import zipfile\n",
    "import os\n",
    "\n",
    "# Define paths\n",
    "base_path = '/content/drive/MyDrive/CS4995'\n",
    "train_zip_path = os.path.join(base_path, 'train_images.zip')\n",
    "test_zip_path = os.path.join(base_path, 'test_images.zip')\n",
    "\n",
    "# Define extraction folders\n",
    "train_extract_dir = os.path.join(base_path, 'train_images/train_images')\n",
    "test_extract_dir = os.path.join(base_path, 'test_images/test_images')\n",
    "novel_extract_dir = os.path.join(base_path, 'train_images/reptile_novel')\n",
    "\n",
    "# # Unzip train images"
   ]
  },
  {
   "cell_type": "code",
   "execution_count": 8,
   "metadata": {
    "executionInfo": {
     "elapsed": 5,
     "status": "ok",
     "timestamp": 1746937946621,
     "user": {
      "displayName": "Yixiao Li",
      "userId": "02239315647449383733"
     },
     "user_tz": 240
    },
    "id": "jMXoGyEPs3Wc"
   },
   "outputs": [],
   "source": [
    "train_img_dir = train_extract_dir\n",
    "test_img_dir = test_extract_dir\n",
    "novel_img_dir = novel_extract_dir\n",
    "\n",
    "# image_preprocessing = transforms.Compose([\n",
    "#     transforms.ToTensor(),\n",
    "#     transforms.Normalize(mean=(0), std=(1)),\n",
    "# ])\n",
    "\n",
    "# Filter to only keep rows where superclass is 2\n",
    "train_ann_df_filtered = train_ann_df[train_ann_df['superclass_index'] == 2].reset_index(drop=True)\n",
    "unique_subs = sorted(train_ann_df_filtered['subclass_index'].unique())\n",
    "sub2new = {old: new for new, old in enumerate(unique_subs)}\n",
    "# train_ann_df_filtered['sub_label'] = train_ann_df_filtered['subclass_index'].map(sub2new)\n",
    "train_ann_df_filtered['label'] = train_ann_df_filtered['subclass_index'].map(sub2new)\n",
    "num_subtypes = len(unique_subs)"
   ]
  },
  {
   "cell_type": "code",
   "execution_count": 9,
   "metadata": {
    "colab": {
     "base_uri": "https://localhost:8080/"
    },
    "executionInfo": {
     "elapsed": 13,
     "status": "ok",
     "timestamp": 1746937946647,
     "user": {
      "displayName": "Yixiao Li",
      "userId": "02239315647449383733"
     },
     "user_tz": 240
    },
    "id": "ycs_mO3Wb1Qx",
    "outputId": "38a8b62d-9036-443b-9a18-8a53ada808fc"
   },
   "outputs": [
    {
     "data": {
      "text/plain": [
       "29"
      ]
     },
     "execution_count": 9,
     "metadata": {},
     "output_type": "execute_result"
    }
   ],
   "source": [
    "num_subtypes"
   ]
  },
  {
   "cell_type": "code",
   "execution_count": 10,
   "metadata": {
    "executionInfo": {
     "elapsed": 17,
     "status": "ok",
     "timestamp": 1746937946664,
     "user": {
      "displayName": "Yixiao Li",
      "userId": "02239315647449383733"
     },
     "user_tz": 240
    },
    "id": "ocTDkRCHa2kS"
   },
   "outputs": [],
   "source": [
    "novel_filenames = os.listdir(novel_img_dir)\n",
    "novel_filenames = [f for f in novel_filenames if f.lower().endswith(('.png', '.jpg', '.jpeg'))]\n",
    "\n",
    "# Create the novel DataFrame\n",
    "novel_df = pd.DataFrame({\n",
    "    'image': novel_filenames,\n",
    "    'label': num_subtypes\n",
    "})\n",
    "\n",
    "# Optional: Add superclass_index and subclass_index columns as placeholder (-1 or NaN)\n",
    "novel_df['superclass_index'] = 2\n",
    "novel_df['subclass_index'] = -1\n",
    "novel_df['image'] = \"reptile_novel/\" + novel_df['image']\n",
    "\n",
    "train_ann_df_filtered['image'] = \"train_images/\" + train_ann_df_filtered['image']\n",
    "\n",
    "# Concatenate with the filtered train DataFrame\n",
    "train_ann_df_final = pd.concat([train_ann_df_filtered, novel_df.tail(500)], ignore_index=True)"
   ]
  },
  {
   "cell_type": "code",
   "execution_count": 11,
   "metadata": {
    "colab": {
     "base_uri": "https://localhost:8080/",
     "height": 704
    },
    "executionInfo": {
     "elapsed": 219,
     "status": "ok",
     "timestamp": 1746937946884,
     "user": {
      "displayName": "Yixiao Li",
      "userId": "02239315647449383733"
     },
     "user_tz": 240
    },
    "id": "x8-26SiCmhUl",
    "outputId": "c8af9a2d-2aca-43b8-8c64-c08034f0b53d"
   },
   "outputs": [
    {
     "data": {
      "application/vnd.google.colaboratory.intrinsic+json": {
       "summary": "{\n  \"name\": \"train_ann_df_final\",\n  \"rows\": 2854,\n  \"fields\": [\n    {\n      \"column\": \"image\",\n      \"properties\": {\n        \"dtype\": \"string\",\n        \"num_unique_values\": 2854,\n        \"samples\": [\n          \"train_images/4253.jpg\",\n          \"train_images/4679.jpg\",\n          \"train_images/2041.jpg\"\n        ],\n        \"semantic_type\": \"\",\n        \"description\": \"\"\n      }\n    },\n    {\n      \"column\": \"superclass_index\",\n      \"properties\": {\n        \"dtype\": \"number\",\n        \"std\": 0,\n        \"min\": 2,\n        \"max\": 2,\n        \"num_unique_values\": 1,\n        \"samples\": [\n          2\n        ],\n        \"semantic_type\": \"\",\n        \"description\": \"\"\n      }\n    },\n    {\n      \"column\": \"subclass_index\",\n      \"properties\": {\n        \"dtype\": \"number\",\n        \"std\": 27,\n        \"min\": -1,\n        \"max\": 81,\n        \"num_unique_values\": 30,\n        \"samples\": [\n          39\n        ],\n        \"semantic_type\": \"\",\n        \"description\": \"\"\n      }\n    },\n    {\n      \"column\": \"description\",\n      \"properties\": {\n        \"dtype\": \"category\",\n        \"num_unique_values\": 29,\n        \"samples\": [\n          \"nature photograph of a reptile, specifically a frilled lizard, Chlamydosaurus kingi, centered composition, photorealistic, 8k, the animal is fully visible within frame and not cut off\"\n        ],\n        \"semantic_type\": \"\",\n        \"description\": \"\"\n      }\n    },\n    {\n      \"column\": \"label\",\n      \"properties\": {\n        \"dtype\": \"number\",\n        \"std\": 9,\n        \"min\": 0,\n        \"max\": 29,\n        \"num_unique_values\": 30,\n        \"samples\": [\n          8\n        ],\n        \"semantic_type\": \"\",\n        \"description\": \"\"\n      }\n    }\n  ]\n}",
       "type": "dataframe",
       "variable_name": "train_ann_df_final"
      },
      "text/html": [
       "\n",
       "  <div id=\"df-af9d7517-ff34-4e24-bdd5-9f5352126900\" class=\"colab-df-container\">\n",
       "    <div>\n",
       "<style scoped>\n",
       "    .dataframe tbody tr th:only-of-type {\n",
       "        vertical-align: middle;\n",
       "    }\n",
       "\n",
       "    .dataframe tbody tr th {\n",
       "        vertical-align: top;\n",
       "    }\n",
       "\n",
       "    .dataframe thead th {\n",
       "        text-align: right;\n",
       "    }\n",
       "</style>\n",
       "<table border=\"1\" class=\"dataframe\">\n",
       "  <thead>\n",
       "    <tr style=\"text-align: right;\">\n",
       "      <th></th>\n",
       "      <th>image</th>\n",
       "      <th>superclass_index</th>\n",
       "      <th>subclass_index</th>\n",
       "      <th>description</th>\n",
       "      <th>label</th>\n",
       "    </tr>\n",
       "  </thead>\n",
       "  <tbody>\n",
       "    <tr>\n",
       "      <th>0</th>\n",
       "      <td>train_images/5.jpg</td>\n",
       "      <td>2</td>\n",
       "      <td>61</td>\n",
       "      <td>nature photograph of a reptile, specifically a...</td>\n",
       "      <td>18</td>\n",
       "    </tr>\n",
       "    <tr>\n",
       "      <th>1</th>\n",
       "      <td>train_images/6.jpg</td>\n",
       "      <td>2</td>\n",
       "      <td>57</td>\n",
       "      <td>nature photograph of a reptile, specifically a...</td>\n",
       "      <td>16</td>\n",
       "    </tr>\n",
       "    <tr>\n",
       "      <th>2</th>\n",
       "      <td>train_images/18.jpg</td>\n",
       "      <td>2</td>\n",
       "      <td>3</td>\n",
       "      <td>nature photograph of a reptile, specifically a...</td>\n",
       "      <td>1</td>\n",
       "    </tr>\n",
       "    <tr>\n",
       "      <th>3</th>\n",
       "      <td>train_images/19.jpg</td>\n",
       "      <td>2</td>\n",
       "      <td>50</td>\n",
       "      <td>nature photograph of a reptile, specifically a...</td>\n",
       "      <td>13</td>\n",
       "    </tr>\n",
       "    <tr>\n",
       "      <th>4</th>\n",
       "      <td>train_images/26.jpg</td>\n",
       "      <td>2</td>\n",
       "      <td>47</td>\n",
       "      <td>nature photograph of a reptile, specifically a...</td>\n",
       "      <td>11</td>\n",
       "    </tr>\n",
       "    <tr>\n",
       "      <th>...</th>\n",
       "      <td>...</td>\n",
       "      <td>...</td>\n",
       "      <td>...</td>\n",
       "      <td>...</td>\n",
       "      <td>...</td>\n",
       "    </tr>\n",
       "    <tr>\n",
       "      <th>2849</th>\n",
       "      <td>reptile_novel/c8b118de27.jpg</td>\n",
       "      <td>2</td>\n",
       "      <td>-1</td>\n",
       "      <td>NaN</td>\n",
       "      <td>29</td>\n",
       "    </tr>\n",
       "    <tr>\n",
       "      <th>2850</th>\n",
       "      <td>reptile_novel/da7e4e32dc.jpg</td>\n",
       "      <td>2</td>\n",
       "      <td>-1</td>\n",
       "      <td>NaN</td>\n",
       "      <td>29</td>\n",
       "    </tr>\n",
       "    <tr>\n",
       "      <th>2851</th>\n",
       "      <td>reptile_novel/efbf7fa21a.jpg</td>\n",
       "      <td>2</td>\n",
       "      <td>-1</td>\n",
       "      <td>NaN</td>\n",
       "      <td>29</td>\n",
       "    </tr>\n",
       "    <tr>\n",
       "      <th>2852</th>\n",
       "      <td>reptile_novel/ca2645fc31.jpg</td>\n",
       "      <td>2</td>\n",
       "      <td>-1</td>\n",
       "      <td>NaN</td>\n",
       "      <td>29</td>\n",
       "    </tr>\n",
       "    <tr>\n",
       "      <th>2853</th>\n",
       "      <td>reptile_novel/f22266a328.jpg</td>\n",
       "      <td>2</td>\n",
       "      <td>-1</td>\n",
       "      <td>NaN</td>\n",
       "      <td>29</td>\n",
       "    </tr>\n",
       "  </tbody>\n",
       "</table>\n",
       "<p>2854 rows × 5 columns</p>\n",
       "</div>\n",
       "    <div class=\"colab-df-buttons\">\n",
       "\n",
       "  <div class=\"colab-df-container\">\n",
       "    <button class=\"colab-df-convert\" onclick=\"convertToInteractive('df-af9d7517-ff34-4e24-bdd5-9f5352126900')\"\n",
       "            title=\"Convert this dataframe to an interactive table.\"\n",
       "            style=\"display:none;\">\n",
       "\n",
       "  <svg xmlns=\"http://www.w3.org/2000/svg\" height=\"24px\" viewBox=\"0 -960 960 960\">\n",
       "    <path d=\"M120-120v-720h720v720H120Zm60-500h600v-160H180v160Zm220 220h160v-160H400v160Zm0 220h160v-160H400v160ZM180-400h160v-160H180v160Zm440 0h160v-160H620v160ZM180-180h160v-160H180v160Zm440 0h160v-160H620v160Z\"/>\n",
       "  </svg>\n",
       "    </button>\n",
       "\n",
       "  <style>\n",
       "    .colab-df-container {\n",
       "      display:flex;\n",
       "      gap: 12px;\n",
       "    }\n",
       "\n",
       "    .colab-df-convert {\n",
       "      background-color: #E8F0FE;\n",
       "      border: none;\n",
       "      border-radius: 50%;\n",
       "      cursor: pointer;\n",
       "      display: none;\n",
       "      fill: #1967D2;\n",
       "      height: 32px;\n",
       "      padding: 0 0 0 0;\n",
       "      width: 32px;\n",
       "    }\n",
       "\n",
       "    .colab-df-convert:hover {\n",
       "      background-color: #E2EBFA;\n",
       "      box-shadow: 0px 1px 2px rgba(60, 64, 67, 0.3), 0px 1px 3px 1px rgba(60, 64, 67, 0.15);\n",
       "      fill: #174EA6;\n",
       "    }\n",
       "\n",
       "    .colab-df-buttons div {\n",
       "      margin-bottom: 4px;\n",
       "    }\n",
       "\n",
       "    [theme=dark] .colab-df-convert {\n",
       "      background-color: #3B4455;\n",
       "      fill: #D2E3FC;\n",
       "    }\n",
       "\n",
       "    [theme=dark] .colab-df-convert:hover {\n",
       "      background-color: #434B5C;\n",
       "      box-shadow: 0px 1px 3px 1px rgba(0, 0, 0, 0.15);\n",
       "      filter: drop-shadow(0px 1px 2px rgba(0, 0, 0, 0.3));\n",
       "      fill: #FFFFFF;\n",
       "    }\n",
       "  </style>\n",
       "\n",
       "    <script>\n",
       "      const buttonEl =\n",
       "        document.querySelector('#df-af9d7517-ff34-4e24-bdd5-9f5352126900 button.colab-df-convert');\n",
       "      buttonEl.style.display =\n",
       "        google.colab.kernel.accessAllowed ? 'block' : 'none';\n",
       "\n",
       "      async function convertToInteractive(key) {\n",
       "        const element = document.querySelector('#df-af9d7517-ff34-4e24-bdd5-9f5352126900');\n",
       "        const dataTable =\n",
       "          await google.colab.kernel.invokeFunction('convertToInteractive',\n",
       "                                                    [key], {});\n",
       "        if (!dataTable) return;\n",
       "\n",
       "        const docLinkHtml = 'Like what you see? Visit the ' +\n",
       "          '<a target=\"_blank\" href=https://colab.research.google.com/notebooks/data_table.ipynb>data table notebook</a>'\n",
       "          + ' to learn more about interactive tables.';\n",
       "        element.innerHTML = '';\n",
       "        dataTable['output_type'] = 'display_data';\n",
       "        await google.colab.output.renderOutput(dataTable, element);\n",
       "        const docLink = document.createElement('div');\n",
       "        docLink.innerHTML = docLinkHtml;\n",
       "        element.appendChild(docLink);\n",
       "      }\n",
       "    </script>\n",
       "  </div>\n",
       "\n",
       "\n",
       "    <div id=\"df-f7c81618-64c2-409e-bc98-b3ff4bdfd898\">\n",
       "      <button class=\"colab-df-quickchart\" onclick=\"quickchart('df-f7c81618-64c2-409e-bc98-b3ff4bdfd898')\"\n",
       "                title=\"Suggest charts\"\n",
       "                style=\"display:none;\">\n",
       "\n",
       "<svg xmlns=\"http://www.w3.org/2000/svg\" height=\"24px\"viewBox=\"0 0 24 24\"\n",
       "     width=\"24px\">\n",
       "    <g>\n",
       "        <path d=\"M19 3H5c-1.1 0-2 .9-2 2v14c0 1.1.9 2 2 2h14c1.1 0 2-.9 2-2V5c0-1.1-.9-2-2-2zM9 17H7v-7h2v7zm4 0h-2V7h2v10zm4 0h-2v-4h2v4z\"/>\n",
       "    </g>\n",
       "</svg>\n",
       "      </button>\n",
       "\n",
       "<style>\n",
       "  .colab-df-quickchart {\n",
       "      --bg-color: #E8F0FE;\n",
       "      --fill-color: #1967D2;\n",
       "      --hover-bg-color: #E2EBFA;\n",
       "      --hover-fill-color: #174EA6;\n",
       "      --disabled-fill-color: #AAA;\n",
       "      --disabled-bg-color: #DDD;\n",
       "  }\n",
       "\n",
       "  [theme=dark] .colab-df-quickchart {\n",
       "      --bg-color: #3B4455;\n",
       "      --fill-color: #D2E3FC;\n",
       "      --hover-bg-color: #434B5C;\n",
       "      --hover-fill-color: #FFFFFF;\n",
       "      --disabled-bg-color: #3B4455;\n",
       "      --disabled-fill-color: #666;\n",
       "  }\n",
       "\n",
       "  .colab-df-quickchart {\n",
       "    background-color: var(--bg-color);\n",
       "    border: none;\n",
       "    border-radius: 50%;\n",
       "    cursor: pointer;\n",
       "    display: none;\n",
       "    fill: var(--fill-color);\n",
       "    height: 32px;\n",
       "    padding: 0;\n",
       "    width: 32px;\n",
       "  }\n",
       "\n",
       "  .colab-df-quickchart:hover {\n",
       "    background-color: var(--hover-bg-color);\n",
       "    box-shadow: 0 1px 2px rgba(60, 64, 67, 0.3), 0 1px 3px 1px rgba(60, 64, 67, 0.15);\n",
       "    fill: var(--button-hover-fill-color);\n",
       "  }\n",
       "\n",
       "  .colab-df-quickchart-complete:disabled,\n",
       "  .colab-df-quickchart-complete:disabled:hover {\n",
       "    background-color: var(--disabled-bg-color);\n",
       "    fill: var(--disabled-fill-color);\n",
       "    box-shadow: none;\n",
       "  }\n",
       "\n",
       "  .colab-df-spinner {\n",
       "    border: 2px solid var(--fill-color);\n",
       "    border-color: transparent;\n",
       "    border-bottom-color: var(--fill-color);\n",
       "    animation:\n",
       "      spin 1s steps(1) infinite;\n",
       "  }\n",
       "\n",
       "  @keyframes spin {\n",
       "    0% {\n",
       "      border-color: transparent;\n",
       "      border-bottom-color: var(--fill-color);\n",
       "      border-left-color: var(--fill-color);\n",
       "    }\n",
       "    20% {\n",
       "      border-color: transparent;\n",
       "      border-left-color: var(--fill-color);\n",
       "      border-top-color: var(--fill-color);\n",
       "    }\n",
       "    30% {\n",
       "      border-color: transparent;\n",
       "      border-left-color: var(--fill-color);\n",
       "      border-top-color: var(--fill-color);\n",
       "      border-right-color: var(--fill-color);\n",
       "    }\n",
       "    40% {\n",
       "      border-color: transparent;\n",
       "      border-right-color: var(--fill-color);\n",
       "      border-top-color: var(--fill-color);\n",
       "    }\n",
       "    60% {\n",
       "      border-color: transparent;\n",
       "      border-right-color: var(--fill-color);\n",
       "    }\n",
       "    80% {\n",
       "      border-color: transparent;\n",
       "      border-right-color: var(--fill-color);\n",
       "      border-bottom-color: var(--fill-color);\n",
       "    }\n",
       "    90% {\n",
       "      border-color: transparent;\n",
       "      border-bottom-color: var(--fill-color);\n",
       "    }\n",
       "  }\n",
       "</style>\n",
       "\n",
       "      <script>\n",
       "        async function quickchart(key) {\n",
       "          const quickchartButtonEl =\n",
       "            document.querySelector('#' + key + ' button');\n",
       "          quickchartButtonEl.disabled = true;  // To prevent multiple clicks.\n",
       "          quickchartButtonEl.classList.add('colab-df-spinner');\n",
       "          try {\n",
       "            const charts = await google.colab.kernel.invokeFunction(\n",
       "                'suggestCharts', [key], {});\n",
       "          } catch (error) {\n",
       "            console.error('Error during call to suggestCharts:', error);\n",
       "          }\n",
       "          quickchartButtonEl.classList.remove('colab-df-spinner');\n",
       "          quickchartButtonEl.classList.add('colab-df-quickchart-complete');\n",
       "        }\n",
       "        (() => {\n",
       "          let quickchartButtonEl =\n",
       "            document.querySelector('#df-f7c81618-64c2-409e-bc98-b3ff4bdfd898 button');\n",
       "          quickchartButtonEl.style.display =\n",
       "            google.colab.kernel.accessAllowed ? 'block' : 'none';\n",
       "        })();\n",
       "      </script>\n",
       "    </div>\n",
       "\n",
       "  <div id=\"id_48b84169-df91-4a2e-ac8c-31285630918c\">\n",
       "    <style>\n",
       "      .colab-df-generate {\n",
       "        background-color: #E8F0FE;\n",
       "        border: none;\n",
       "        border-radius: 50%;\n",
       "        cursor: pointer;\n",
       "        display: none;\n",
       "        fill: #1967D2;\n",
       "        height: 32px;\n",
       "        padding: 0 0 0 0;\n",
       "        width: 32px;\n",
       "      }\n",
       "\n",
       "      .colab-df-generate:hover {\n",
       "        background-color: #E2EBFA;\n",
       "        box-shadow: 0px 1px 2px rgba(60, 64, 67, 0.3), 0px 1px 3px 1px rgba(60, 64, 67, 0.15);\n",
       "        fill: #174EA6;\n",
       "      }\n",
       "\n",
       "      [theme=dark] .colab-df-generate {\n",
       "        background-color: #3B4455;\n",
       "        fill: #D2E3FC;\n",
       "      }\n",
       "\n",
       "      [theme=dark] .colab-df-generate:hover {\n",
       "        background-color: #434B5C;\n",
       "        box-shadow: 0px 1px 3px 1px rgba(0, 0, 0, 0.15);\n",
       "        filter: drop-shadow(0px 1px 2px rgba(0, 0, 0, 0.3));\n",
       "        fill: #FFFFFF;\n",
       "      }\n",
       "    </style>\n",
       "    <button class=\"colab-df-generate\" onclick=\"generateWithVariable('train_ann_df_final')\"\n",
       "            title=\"Generate code using this dataframe.\"\n",
       "            style=\"display:none;\">\n",
       "\n",
       "  <svg xmlns=\"http://www.w3.org/2000/svg\" height=\"24px\"viewBox=\"0 0 24 24\"\n",
       "       width=\"24px\">\n",
       "    <path d=\"M7,19H8.4L18.45,9,17,7.55,7,17.6ZM5,21V16.75L18.45,3.32a2,2,0,0,1,2.83,0l1.4,1.43a1.91,1.91,0,0,1,.58,1.4,1.91,1.91,0,0,1-.58,1.4L9.25,21ZM18.45,9,17,7.55Zm-12,3A5.31,5.31,0,0,0,4.9,8.1,5.31,5.31,0,0,0,1,6.5,5.31,5.31,0,0,0,4.9,4.9,5.31,5.31,0,0,0,6.5,1,5.31,5.31,0,0,0,8.1,4.9,5.31,5.31,0,0,0,12,6.5,5.46,5.46,0,0,0,6.5,12Z\"/>\n",
       "  </svg>\n",
       "    </button>\n",
       "    <script>\n",
       "      (() => {\n",
       "      const buttonEl =\n",
       "        document.querySelector('#id_48b84169-df91-4a2e-ac8c-31285630918c button.colab-df-generate');\n",
       "      buttonEl.style.display =\n",
       "        google.colab.kernel.accessAllowed ? 'block' : 'none';\n",
       "\n",
       "      buttonEl.onclick = () => {\n",
       "        google.colab.notebook.generateWithVariable('train_ann_df_final');\n",
       "      }\n",
       "      })();\n",
       "    </script>\n",
       "  </div>\n",
       "\n",
       "    </div>\n",
       "  </div>\n"
      ],
      "text/plain": [
       "                             image  superclass_index  subclass_index  \\\n",
       "0               train_images/5.jpg                 2              61   \n",
       "1               train_images/6.jpg                 2              57   \n",
       "2              train_images/18.jpg                 2               3   \n",
       "3              train_images/19.jpg                 2              50   \n",
       "4              train_images/26.jpg                 2              47   \n",
       "...                            ...               ...             ...   \n",
       "2849  reptile_novel/c8b118de27.jpg                 2              -1   \n",
       "2850  reptile_novel/da7e4e32dc.jpg                 2              -1   \n",
       "2851  reptile_novel/efbf7fa21a.jpg                 2              -1   \n",
       "2852  reptile_novel/ca2645fc31.jpg                 2              -1   \n",
       "2853  reptile_novel/f22266a328.jpg                 2              -1   \n",
       "\n",
       "                                            description  label  \n",
       "0     nature photograph of a reptile, specifically a...     18  \n",
       "1     nature photograph of a reptile, specifically a...     16  \n",
       "2     nature photograph of a reptile, specifically a...      1  \n",
       "3     nature photograph of a reptile, specifically a...     13  \n",
       "4     nature photograph of a reptile, specifically a...     11  \n",
       "...                                                 ...    ...  \n",
       "2849                                                NaN     29  \n",
       "2850                                                NaN     29  \n",
       "2851                                                NaN     29  \n",
       "2852                                                NaN     29  \n",
       "2853                                                NaN     29  \n",
       "\n",
       "[2854 rows x 5 columns]"
      ]
     },
     "execution_count": 11,
     "metadata": {},
     "output_type": "execute_result"
    }
   ],
   "source": [
    "train_ann_df_final"
   ]
  },
  {
   "cell_type": "code",
   "execution_count": 12,
   "metadata": {
    "colab": {
     "base_uri": "https://localhost:8080/"
    },
    "executionInfo": {
     "elapsed": 58,
     "status": "ok",
     "timestamp": 1746937947250,
     "user": {
      "displayName": "Yixiao Li",
      "userId": "02239315647449383733"
     },
     "user_tz": 240
    },
    "id": "WwLZX_HEbvnk",
    "outputId": "94c7c974-cc23-4d33-b792-6243f4e19887"
   },
   "outputs": [
    {
     "name": "stdout",
     "output_type": "stream",
     "text": [
      "[18 16  1 13 11 28 20 14 15 27 24 12  4  0 21 19  6 10  7 26 17 25 23  9\n",
      "  2  3 22  8  5 29]\n"
     ]
    }
   ],
   "source": [
    "print((train_ann_df_final['label'].unique()))"
   ]
  },
  {
   "cell_type": "code",
   "execution_count": 13,
   "metadata": {
    "executionInfo": {
     "elapsed": 2,
     "status": "ok",
     "timestamp": 1746937948887,
     "user": {
      "displayName": "Yixiao Li",
      "userId": "02239315647449383733"
     },
     "user_tz": 240
    },
    "id": "ZOMzrek7fj1y"
   },
   "outputs": [],
   "source": [
    "train_ann_df_filtered = train_ann_df_final"
   ]
  },
  {
   "cell_type": "code",
   "execution_count": 14,
   "metadata": {
    "colab": {
     "base_uri": "https://localhost:8080/",
     "height": 349
    },
    "executionInfo": {
     "elapsed": 2799,
     "status": "error",
     "timestamp": 1746937952109,
     "user": {
      "displayName": "Yixiao Li",
      "userId": "02239315647449383733"
     },
     "user_tz": 240
    },
    "id": "7r4qevUrcaz5",
    "outputId": "ffac4092-dc04-4ea3-c5db-896d773be703"
   },
   "outputs": [
    {
     "name": "stderr",
     "output_type": "stream",
     "text": [
      "  0%|          | 2/2854 [00:02<1:05:30,  1.38s/it]\n"
     ]
    },
    {
     "ename": "KeyboardInterrupt",
     "evalue": "",
     "output_type": "error",
     "traceback": [
      "\u001b[0;31m---------------------------------------------------------------------------\u001b[0m",
      "\u001b[0;31mKeyboardInterrupt\u001b[0m                         Traceback (most recent call last)",
      "\u001b[0;32m<ipython-input-14-85c8aef1741f>\u001b[0m in \u001b[0;36m<cell line: 0>\u001b[0;34m()\u001b[0m\n\u001b[1;32m     19\u001b[0m \u001b[0;32mfor\u001b[0m \u001b[0mimg_name\u001b[0m \u001b[0;32min\u001b[0m \u001b[0mtqdm\u001b[0m\u001b[0;34m(\u001b[0m\u001b[0mtrain_ann_df_filtered\u001b[0m\u001b[0;34m[\u001b[0m\u001b[0;34m'image'\u001b[0m\u001b[0;34m]\u001b[0m\u001b[0;34m)\u001b[0m\u001b[0;34m:\u001b[0m\u001b[0;34m\u001b[0m\u001b[0;34m\u001b[0m\u001b[0m\n\u001b[1;32m     20\u001b[0m     \u001b[0mimg_path\u001b[0m \u001b[0;34m=\u001b[0m \u001b[0mos\u001b[0m\u001b[0;34m.\u001b[0m\u001b[0mpath\u001b[0m\u001b[0;34m.\u001b[0m\u001b[0mjoin\u001b[0m\u001b[0;34m(\u001b[0m\u001b[0mroot_dir\u001b[0m\u001b[0;34m,\u001b[0m \u001b[0mimg_name\u001b[0m\u001b[0;34m)\u001b[0m\u001b[0;34m\u001b[0m\u001b[0;34m\u001b[0m\u001b[0m\n\u001b[0;32m---> 21\u001b[0;31m     \u001b[0mimg\u001b[0m \u001b[0;34m=\u001b[0m \u001b[0mImage\u001b[0m\u001b[0;34m.\u001b[0m\u001b[0mopen\u001b[0m\u001b[0;34m(\u001b[0m\u001b[0mimg_path\u001b[0m\u001b[0;34m)\u001b[0m\u001b[0;34m.\u001b[0m\u001b[0mconvert\u001b[0m\u001b[0;34m(\u001b[0m\u001b[0;34m'RGB'\u001b[0m\u001b[0;34m)\u001b[0m\u001b[0;34m\u001b[0m\u001b[0;34m\u001b[0m\u001b[0m\n\u001b[0m\u001b[1;32m     22\u001b[0m     \u001b[0mtensor\u001b[0m \u001b[0;34m=\u001b[0m \u001b[0mtransform\u001b[0m\u001b[0;34m(\u001b[0m\u001b[0mimg\u001b[0m\u001b[0;34m)\u001b[0m  \u001b[0;31m# Shape: [C, H, W]\u001b[0m\u001b[0;34m\u001b[0m\u001b[0;34m\u001b[0m\u001b[0m\n\u001b[1;32m     23\u001b[0m     \u001b[0mmean\u001b[0m \u001b[0;34m+=\u001b[0m \u001b[0mtensor\u001b[0m\u001b[0;34m.\u001b[0m\u001b[0mmean\u001b[0m\u001b[0;34m(\u001b[0m\u001b[0mdim\u001b[0m\u001b[0;34m=\u001b[0m\u001b[0;34m(\u001b[0m\u001b[0;36m1\u001b[0m\u001b[0;34m,\u001b[0m \u001b[0;36m2\u001b[0m\u001b[0;34m)\u001b[0m\u001b[0;34m)\u001b[0m\u001b[0;34m\u001b[0m\u001b[0;34m\u001b[0m\u001b[0m\n",
      "\u001b[0;32m/usr/local/lib/python3.11/dist-packages/PIL/Image.py\u001b[0m in \u001b[0;36mopen\u001b[0;34m(fp, mode, formats)\u001b[0m\n\u001b[1;32m   3514\u001b[0m         \u001b[0mexclusive_fp\u001b[0m \u001b[0;34m=\u001b[0m \u001b[0;32mTrue\u001b[0m\u001b[0;34m\u001b[0m\u001b[0;34m\u001b[0m\u001b[0m\n\u001b[1;32m   3515\u001b[0m \u001b[0;34m\u001b[0m\u001b[0m\n\u001b[0;32m-> 3516\u001b[0;31m     \u001b[0mprefix\u001b[0m \u001b[0;34m=\u001b[0m \u001b[0mfp\u001b[0m\u001b[0;34m.\u001b[0m\u001b[0mread\u001b[0m\u001b[0;34m(\u001b[0m\u001b[0;36m16\u001b[0m\u001b[0;34m)\u001b[0m\u001b[0;34m\u001b[0m\u001b[0;34m\u001b[0m\u001b[0m\n\u001b[0m\u001b[1;32m   3517\u001b[0m \u001b[0;34m\u001b[0m\u001b[0m\n\u001b[1;32m   3518\u001b[0m     \u001b[0mpreinit\u001b[0m\u001b[0;34m(\u001b[0m\u001b[0;34m)\u001b[0m\u001b[0;34m\u001b[0m\u001b[0;34m\u001b[0m\u001b[0m\n",
      "\u001b[0;31mKeyboardInterrupt\u001b[0m: "
     ]
    }
   ],
   "source": [
    "from torchvision import transforms\n",
    "from PIL import Image\n",
    "from tqdm import tqdm\n",
    "import os\n",
    "import torch\n",
    "\n",
    "# Transformation: resize and convert to tensor (range [0, 1])\n",
    "transform = transforms.Compose([\n",
    "    transforms.Resize((224, 224)),\n",
    "    transforms.ToTensor()\n",
    "])\n",
    "\n",
    "# Accumulators\n",
    "mean = torch.zeros(3)\n",
    "std = torch.zeros(3)\n",
    "total = 0\n",
    "\n",
    "root_dir = base_path + '/train_images/'\n",
    "for img_name in tqdm(train_ann_df_filtered['image']):\n",
    "    img_path = os.path.join(root_dir, img_name)\n",
    "    img = Image.open(img_path).convert('RGB')\n",
    "    tensor = transform(img)  # Shape: [C, H, W]\n",
    "    mean += tensor.mean(dim=(1, 2))\n",
    "    std += tensor.std(dim=(1, 2))\n",
    "    total += 1\n",
    "\n",
    "# Average over all images\n",
    "mean /= total\n",
    "std /= total\n",
    "\n",
    "print(\"Mean:\", mean)\n",
    "print(\"Std:\", std)\n"
   ]
  },
  {
   "cell_type": "code",
   "execution_count": 15,
   "metadata": {
    "executionInfo": {
     "elapsed": 5,
     "status": "ok",
     "timestamp": 1746937953913,
     "user": {
      "displayName": "Yixiao Li",
      "userId": "02239315647449383733"
     },
     "user_tz": 240
    },
    "id": "Ura0J2wxcySN"
   },
   "outputs": [],
   "source": [
    "from torch.utils.data import random_split"
   ]
  },
  {
   "cell_type": "code",
   "execution_count": 16,
   "metadata": {
    "executionInfo": {
     "elapsed": 12,
     "status": "ok",
     "timestamp": 1746937954109,
     "user": {
      "displayName": "Yixiao Li",
      "userId": "02239315647449383733"
     },
     "user_tz": 240
    },
    "id": "Y4NoaD-ycyU0"
   },
   "outputs": [],
   "source": [
    "from torchvision import datasets, transforms\n",
    "from torch.utils.data import Dataset, DataLoader\n",
    "import torch"
   ]
  },
  {
   "cell_type": "code",
   "execution_count": 17,
   "metadata": {
    "executionInfo": {
     "elapsed": 2,
     "status": "ok",
     "timestamp": 1746937954275,
     "user": {
      "displayName": "Yixiao Li",
      "userId": "02239315647449383733"
     },
     "user_tz": 240
    },
    "id": "VoDxuczRcyaC"
   },
   "outputs": [],
   "source": [
    "transform = transforms.Compose([\n",
    "    transforms.Resize((456, 456)),\n",
    "    # add\n",
    "    # transforms.RandomHorizontalFlip(),\n",
    "    # transforms.RandomRotation(15),\n",
    "    # transforms.ColorJitter(brightness=0.2, contrast=0.2, saturation=0.2),\n",
    "    # add\n",
    "    transforms.ToTensor(),\n",
    "    transforms.Normalize([0.4411, 0.4063, 0.3336],\n",
    "                         [0.1785, 0.1688, 0.1633])\n",
    "])\n",
    "root_dir = base_path + '/train_images/'\n",
    "\n",
    "class Reptile(Dataset):\n",
    "    def __init__(self, df, transform=None, root_dir=\"\"):\n",
    "        self.df = df.reset_index(drop=True)\n",
    "        self.transform = transform\n",
    "        self.root_dir = root_dir\n",
    "\n",
    "    def __len__(self):\n",
    "        return len(self.df)\n",
    "\n",
    "    def __getitem__(self, idx):\n",
    "        img_name = self.df.loc[idx, 'image']\n",
    "        img_path = os.path.join(self.root_dir, img_name)\n",
    "        label = self.df.loc[idx, 'label']\n",
    "\n",
    "        img = Image.open(img_path).convert(\"RGB\")\n",
    "        if self.transform:\n",
    "            img = self.transform(img)\n",
    "\n",
    "        return img, label\n",
    "\n",
    "\n",
    "\n",
    "train_dataset = Reptile(df=train_ann_df_filtered, transform=transform, root_dir=root_dir)\n",
    "\n",
    "total_len = len(train_dataset)\n",
    "train_len = int(0.8 * total_len)\n",
    "val_len = total_len - train_len\n",
    "train_dataset, val_dataset = random_split(train_dataset, [train_len, val_len], generator=torch.Generator().manual_seed(42))"
   ]
  },
  {
   "cell_type": "code",
   "execution_count": 18,
   "metadata": {
    "colab": {
     "base_uri": "https://localhost:8080/"
    },
    "executionInfo": {
     "elapsed": 7,
     "status": "ok",
     "timestamp": 1746937955942,
     "user": {
      "displayName": "Yixiao Li",
      "userId": "02239315647449383733"
     },
     "user_tz": 240
    },
    "id": "03mhlFxchemi",
    "outputId": "843fc10a-39ce-44ef-853b-4cb09f06be7b"
   },
   "outputs": [
    {
     "name": "stdout",
     "output_type": "stream",
     "text": [
      "2854\n"
     ]
    }
   ],
   "source": [
    "print(total_len)"
   ]
  },
  {
   "cell_type": "code",
   "execution_count": 19,
   "metadata": {
    "colab": {
     "base_uri": "https://localhost:8080/"
    },
    "executionInfo": {
     "elapsed": 11,
     "status": "ok",
     "timestamp": 1746937957008,
     "user": {
      "displayName": "Yixiao Li",
      "userId": "02239315647449383733"
     },
     "user_tz": 240
    },
    "id": "Jyr5sqtjlbU9",
    "outputId": "910ee618-d40c-4ead-9c55-de058f7d28f9"
   },
   "outputs": [
    {
     "data": {
      "text/plain": [
       "<torch.utils.data.dataset.Subset at 0x7d02363a8d10>"
      ]
     },
     "execution_count": 19,
     "metadata": {},
     "output_type": "execute_result"
    }
   ],
   "source": [
    "val_dataset"
   ]
  },
  {
   "cell_type": "code",
   "execution_count": 20,
   "metadata": {
    "executionInfo": {
     "elapsed": 14,
     "status": "ok",
     "timestamp": 1746937957679,
     "user": {
      "displayName": "Yixiao Li",
      "userId": "02239315647449383733"
     },
     "user_tz": 240
    },
    "id": "VR-0D_Q_cyco"
   },
   "outputs": [],
   "source": [
    "import torch\n",
    "import torch.nn as nn\n",
    "import torch.nn.functional as F\n",
    "from torchvision import models\n",
    "\n",
    "from torchvision.models import mobilenet_v2, MobileNet_V2_Weights\n",
    "\n",
    "class TransferModel(nn.Module):\n",
    "    def __init__(self, num_classes, include_none_class: bool = True):\n",
    "        super().__init__()\n",
    "        # Load pretrained MobileNetV2 and freeze its feature extractor\n",
    "        base = mobilenet_v2(weights=MobileNet_V2_Weights.IMAGENET1K_V1)\n",
    "        for p in base.features.parameters():\n",
    "            p.requires_grad = False\n",
    "\n",
    "        self.features    = base.features\n",
    "        self.global_pool = nn.AdaptiveAvgPool2d((1, 1))\n",
    "\n",
    "        # Decide how many outputs we need\n",
    "        out_features = num_classes + 1 if include_none_class else num_classes\n",
    "\n",
    "        # Build the classifier head\n",
    "        self.classifier = nn.Sequential(\n",
    "            nn.Flatten(),\n",
    "            nn.Linear(1280, 512),\n",
    "            nn.BatchNorm1d(512),\n",
    "            nn.ReLU(inplace=True),\n",
    "            nn.Dropout(0.3),\n",
    "            nn.Linear(512, 256),\n",
    "            nn.BatchNorm1d(256),\n",
    "            nn.ReLU(inplace=True),\n",
    "            nn.Dropout(0.2),\n",
    "            nn.Linear(256, out_features)  # No Softmax\n",
    "        )\n",
    "\n",
    "        # (Optional) store a label index for the \"none\" class\n",
    "        if include_none_class:\n",
    "            self.none_class_index = out_features - 1\n",
    "\n",
    "    def forward(self, x):\n",
    "        x = self.features(x)\n",
    "        x = self.global_pool(x)\n",
    "        probs = self.classifier(x)\n",
    "        return probs"
   ]
  },
  {
   "cell_type": "code",
   "execution_count": 21,
   "metadata": {
    "executionInfo": {
     "elapsed": 13,
     "status": "ok",
     "timestamp": 1746937958427,
     "user": {
      "displayName": "Yixiao Li",
      "userId": "02239315647449383733"
     },
     "user_tz": 240
    },
    "id": "G9RWPiuCcyff"
   },
   "outputs": [],
   "source": [
    "train_loader = DataLoader(train_dataset, batch_size=16, shuffle=True, num_workers=8, pin_memory=True)\n",
    "val_loader = DataLoader(val_dataset, batch_size=16, num_workers=8, pin_memory=True)"
   ]
  },
  {
   "cell_type": "code",
   "execution_count": 22,
   "metadata": {
    "colab": {
     "base_uri": "https://localhost:8080/"
    },
    "executionInfo": {
     "elapsed": 8,
     "status": "ok",
     "timestamp": 1746937959616,
     "user": {
      "displayName": "Yixiao Li",
      "userId": "02239315647449383733"
     },
     "user_tz": 240
    },
    "id": "rqNBI128mhow",
    "outputId": "d82dcabb-d829-4f91-beab-89186ba2bb95"
   },
   "outputs": [
    {
     "data": {
      "text/plain": [
       "29"
      ]
     },
     "execution_count": 22,
     "metadata": {},
     "output_type": "execute_result"
    }
   ],
   "source": [
    "num_subtypes"
   ]
  },
  {
   "cell_type": "code",
   "execution_count": 23,
   "metadata": {
    "executionInfo": {
     "elapsed": 21,
     "status": "ok",
     "timestamp": 1746937960493,
     "user": {
      "displayName": "Yixiao Li",
      "userId": "02239315647449383733"
     },
     "user_tz": 240
    },
    "id": "CKJrBIU8cyiW"
   },
   "outputs": [],
   "source": [
    "import torch\n",
    "import gc\n",
    "from tqdm import tqdm\n",
    "\n",
    "class Trainer():\n",
    "    def __init__(self, model, criterion, optimizer, train_loader, val_loader, test_loader=None, device='cuda'):\n",
    "        self.model = model.to(device)\n",
    "        self.criterion = criterion\n",
    "        self.optimizer = optimizer\n",
    "        self.train_loader = train_loader\n",
    "        self.val_loader = val_loader\n",
    "        self.test_loader = test_loader\n",
    "        self.device = device\n",
    "        self.best_val_acc = 0\n",
    "\n",
    "    def train_epoch(self):\n",
    "        self.model.train()\n",
    "        running_loss = 0.0\n",
    "        correct = 0\n",
    "        total = 0\n",
    "\n",
    "        for inputs, labels in tqdm(self.train_loader, desc=\"Training\", leave=False):\n",
    "            inputs, labels = inputs.to(self.device), labels.to(self.device)\n",
    "\n",
    "            self.optimizer.zero_grad()\n",
    "            outputs = self.model(inputs)\n",
    "            loss = self.criterion(outputs, labels)\n",
    "            loss.backward()\n",
    "            self.optimizer.step()\n",
    "\n",
    "            running_loss += loss.item()\n",
    "            correct += (outputs.argmax(1) == labels).sum().item()\n",
    "            total += labels.size(0)\n",
    "\n",
    "        avg_loss = running_loss / len(self.train_loader)\n",
    "        acc = correct / total * 100\n",
    "        print(f'Training loss: {avg_loss:.4f} | Train Acc: {acc:.2f}% \\n')\n",
    "\n",
    "    def validate_epoch(self):\n",
    "        self.model.eval()\n",
    "        correct_seen = 0\n",
    "        total_seen = 0\n",
    "        correct_unseen = 0\n",
    "        total_unseen = 0\n",
    "        running_loss = 0.0\n",
    "\n",
    "        with torch.no_grad():\n",
    "            for inputs, labels in tqdm(self.val_loader, desc=\"Validating\", leave=False):\n",
    "                inputs, labels = inputs.to(self.device), labels.to(self.device)\n",
    "\n",
    "                # Get model predictions\n",
    "                outputs = self.model(inputs)\n",
    "                loss = self.criterion(outputs, labels)\n",
    "\n",
    "                _, predicted = torch.max(outputs.data, 1)\n",
    "\n",
    "                # Separate accuracy calculations for seen (labels 0-28) and unseen (label 29)\n",
    "                seen_mask = labels != 29\n",
    "                unseen_mask = labels == 29\n",
    "\n",
    "                # Accuracy for seen labels\n",
    "                correct_seen += ((predicted == labels) & seen_mask).sum().item()\n",
    "                total_seen += seen_mask.sum().item()\n",
    "\n",
    "                # Accuracy for unseen labels\n",
    "                correct_unseen += ((predicted == labels) & unseen_mask).sum().item()\n",
    "                total_unseen += unseen_mask.sum().item()\n",
    "                # if unseen_mask.sum().item() > 0:\n",
    "                #     print(unseen_mask, predicted, labels)\n",
    "\n",
    "                running_loss += loss.item()\n",
    "\n",
    "                # Optionally clear memory\n",
    "                # del inputs, labels, outputs, loss\n",
    "                # torch.cuda.empty_cache()\n",
    "                # gc.collect()\n",
    "\n",
    "        # Calculate average loss and accuracies\n",
    "        avg_loss = running_loss / len(self.val_loader)\n",
    "        acc_seen = correct_seen / total_seen * 100 if total_seen > 0 else 0\n",
    "        acc_unseen = correct_unseen / total_unseen * 100 if total_unseen > 0 else 0\n",
    "        # print(correct_unseen)\n",
    "\n",
    "        # Save the best model weights if accuracy improves\n",
    "        if acc_seen > self.best_val_acc:\n",
    "            self.best_val_acc = acc_seen\n",
    "            torch.save(self.model.state_dict(), \"best_model_weights.pth\")\n",
    "\n",
    "        # Print the results\n",
    "        print(f'Validation loss: {avg_loss:.4f}')\n",
    "        print(f'Seen Class Accuracy (0-28): {acc_seen:.2f}%')\n",
    "        print(f'Unseen Class Accuracy (29): {acc_unseen:.2f}%')\n",
    "        print(f'Overall Val Accuracy: {(correct_seen + correct_unseen) / (total_seen + total_unseen) * 100:.2f}%\\n')\n",
    "\n"
   ]
  },
  {
   "cell_type": "code",
   "execution_count": 24,
   "metadata": {
    "colab": {
     "base_uri": "https://localhost:8080/"
    },
    "executionInfo": {
     "elapsed": 376,
     "status": "ok",
     "timestamp": 1746937961463,
     "user": {
      "displayName": "Yixiao Li",
      "userId": "02239315647449383733"
     },
     "user_tz": 240
    },
    "id": "1lLL2GxFfkrL",
    "outputId": "1cd4435f-c367-413b-e59c-e442d2c1de8b"
   },
   "outputs": [
    {
     "name": "stderr",
     "output_type": "stream",
     "text": [
      "Downloading: \"https://download.pytorch.org/models/mobilenet_v2-b0353104.pth\" to /root/.cache/torch/hub/checkpoints/mobilenet_v2-b0353104.pth\n",
      "100%|██████████| 13.6M/13.6M [00:00<00:00, 223MB/s]\n"
     ]
    }
   ],
   "source": [
    "device = torch.device('cuda' if torch.cuda.is_available() else 'cpu')\n",
    "model = TransferModel(num_classes=num_subtypes, include_none_class = True).to(device)\n",
    "\n",
    "# # --- 5) loss & optimizer ---\n",
    "criterion = nn.CrossEntropyLoss()\n",
    "optimizer = optim.Adam(model.classifier.parameters(), lr=1e-3)\n",
    "# criterion = nn.BCELoss()\n",
    "# optimizer = optim.Adam(model.classifier.parameters(), lr=1e-4)"
   ]
  },
  {
   "cell_type": "code",
   "execution_count": 25,
   "metadata": {
    "executionInfo": {
     "elapsed": 3,
     "status": "ok",
     "timestamp": 1746937961663,
     "user": {
      "displayName": "Yixiao Li",
      "userId": "02239315647449383733"
     },
     "user_tz": 240
    },
    "id": "ca3YFTO4dpL9"
   },
   "outputs": [],
   "source": [
    "trainer = Trainer(model, criterion, optimizer, train_loader, val_loader, device=device)"
   ]
  },
  {
   "cell_type": "code",
   "execution_count": 26,
   "metadata": {
    "colab": {
     "base_uri": "https://localhost:8080/"
    },
    "executionInfo": {
     "elapsed": 411197,
     "status": "ok",
     "timestamp": 1746938373695,
     "user": {
      "displayName": "Yixiao Li",
      "userId": "02239315647449383733"
     },
     "user_tz": 240
    },
    "id": "TXWbwwXRdpPv",
    "outputId": "05682706-3f28-4723-cd63-44acd8e96b40"
   },
   "outputs": [
    {
     "name": "stdout",
     "output_type": "stream",
     "text": [
      "\n",
      "Epoch 1/20\n"
     ]
    },
    {
     "name": "stderr",
     "output_type": "stream",
     "text": []
    },
    {
     "name": "stdout",
     "output_type": "stream",
     "text": [
      "Training loss: 1.6663 | Train Acc: 55.45% \n",
      "\n"
     ]
    },
    {
     "name": "stderr",
     "output_type": "stream",
     "text": []
    },
    {
     "name": "stdout",
     "output_type": "stream",
     "text": [
      "Validation loss: 0.9287\n",
      "Seen Class Accuracy (0-28): 71.34%\n",
      "Unseen Class Accuracy (29): 99.07%\n",
      "Overall Val Accuracy: 76.53%\n",
      "\n",
      "Epoch time: 285.55 seconds\n",
      "\n",
      "Epoch 2/20\n"
     ]
    },
    {
     "name": "stderr",
     "output_type": "stream",
     "text": []
    },
    {
     "name": "stdout",
     "output_type": "stream",
     "text": [
      "Training loss: 0.7795 | Train Acc: 79.11% \n",
      "\n"
     ]
    },
    {
     "name": "stderr",
     "output_type": "stream",
     "text": []
    },
    {
     "name": "stdout",
     "output_type": "stream",
     "text": [
      "Validation loss: 0.6019\n",
      "Seen Class Accuracy (0-28): 79.96%\n",
      "Unseen Class Accuracy (29): 99.07%\n",
      "Overall Val Accuracy: 83.54%\n",
      "\n",
      "Epoch time: 6.78 seconds\n",
      "\n",
      "Epoch 3/20\n"
     ]
    },
    {
     "name": "stderr",
     "output_type": "stream",
     "text": []
    },
    {
     "name": "stdout",
     "output_type": "stream",
     "text": [
      "Training loss: 0.5962 | Train Acc: 82.48% \n",
      "\n"
     ]
    },
    {
     "name": "stderr",
     "output_type": "stream",
     "text": []
    },
    {
     "name": "stdout",
     "output_type": "stream",
     "text": [
      "Validation loss: 0.5277\n",
      "Seen Class Accuracy (0-28): 82.97%\n",
      "Unseen Class Accuracy (29): 99.07%\n",
      "Overall Val Accuracy: 85.99%\n",
      "\n",
      "Epoch time: 6.54 seconds\n",
      "\n",
      "Epoch 4/20\n"
     ]
    },
    {
     "name": "stderr",
     "output_type": "stream",
     "text": []
    },
    {
     "name": "stdout",
     "output_type": "stream",
     "text": [
      "Training loss: 0.4914 | Train Acc: 84.45% \n",
      "\n"
     ]
    },
    {
     "name": "stderr",
     "output_type": "stream",
     "text": []
    },
    {
     "name": "stdout",
     "output_type": "stream",
     "text": [
      "Validation loss: 0.5565\n",
      "Seen Class Accuracy (0-28): 79.74%\n",
      "Unseen Class Accuracy (29): 100.00%\n",
      "Overall Val Accuracy: 83.54%\n",
      "\n",
      "Epoch time: 6.74 seconds\n",
      "\n",
      "Epoch 5/20\n"
     ]
    },
    {
     "name": "stderr",
     "output_type": "stream",
     "text": []
    },
    {
     "name": "stdout",
     "output_type": "stream",
     "text": [
      "Training loss: 0.4109 | Train Acc: 86.68% \n",
      "\n"
     ]
    },
    {
     "name": "stderr",
     "output_type": "stream",
     "text": []
    },
    {
     "name": "stdout",
     "output_type": "stream",
     "text": [
      "Validation loss: 0.5785\n",
      "Seen Class Accuracy (0-28): 77.16%\n",
      "Unseen Class Accuracy (29): 99.07%\n",
      "Overall Val Accuracy: 81.26%\n",
      "\n",
      "Epoch time: 6.61 seconds\n",
      "\n",
      "Epoch 6/20\n"
     ]
    },
    {
     "name": "stderr",
     "output_type": "stream",
     "text": []
    },
    {
     "name": "stdout",
     "output_type": "stream",
     "text": [
      "Training loss: 0.3775 | Train Acc: 88.30% \n",
      "\n"
     ]
    },
    {
     "name": "stderr",
     "output_type": "stream",
     "text": []
    },
    {
     "name": "stdout",
     "output_type": "stream",
     "text": [
      "Validation loss: 0.6143\n",
      "Seen Class Accuracy (0-28): 76.72%\n",
      "Unseen Class Accuracy (29): 99.07%\n",
      "Overall Val Accuracy: 80.91%\n",
      "\n",
      "Epoch time: 6.70 seconds\n",
      "\n",
      "Epoch 7/20\n"
     ]
    },
    {
     "name": "stderr",
     "output_type": "stream",
     "text": []
    },
    {
     "name": "stdout",
     "output_type": "stream",
     "text": [
      "Training loss: 0.3281 | Train Acc: 89.53% \n",
      "\n"
     ]
    },
    {
     "name": "stderr",
     "output_type": "stream",
     "text": []
    },
    {
     "name": "stdout",
     "output_type": "stream",
     "text": [
      "Validation loss: 0.5221\n",
      "Seen Class Accuracy (0-28): 79.96%\n",
      "Unseen Class Accuracy (29): 99.07%\n",
      "Overall Val Accuracy: 83.54%\n",
      "\n",
      "Epoch time: 6.47 seconds\n",
      "\n",
      "Epoch 8/20\n"
     ]
    },
    {
     "name": "stderr",
     "output_type": "stream",
     "text": []
    },
    {
     "name": "stdout",
     "output_type": "stream",
     "text": [
      "Training loss: 0.2935 | Train Acc: 90.89% \n",
      "\n"
     ]
    },
    {
     "name": "stderr",
     "output_type": "stream",
     "text": []
    },
    {
     "name": "stdout",
     "output_type": "stream",
     "text": [
      "Validation loss: 0.4642\n",
      "Seen Class Accuracy (0-28): 81.25%\n",
      "Unseen Class Accuracy (29): 99.07%\n",
      "Overall Val Accuracy: 84.59%\n",
      "\n",
      "Epoch time: 6.65 seconds\n",
      "\n",
      "Epoch 9/20\n"
     ]
    },
    {
     "name": "stderr",
     "output_type": "stream",
     "text": []
    },
    {
     "name": "stdout",
     "output_type": "stream",
     "text": [
      "Training loss: 0.2590 | Train Acc: 91.94% \n",
      "\n"
     ]
    },
    {
     "name": "stderr",
     "output_type": "stream",
     "text": []
    },
    {
     "name": "stdout",
     "output_type": "stream",
     "text": [
      "Validation loss: 0.6267\n",
      "Seen Class Accuracy (0-28): 76.51%\n",
      "Unseen Class Accuracy (29): 99.07%\n",
      "Overall Val Accuracy: 80.74%\n",
      "\n",
      "Epoch time: 6.49 seconds\n",
      "\n",
      "Epoch 10/20\n"
     ]
    },
    {
     "name": "stderr",
     "output_type": "stream",
     "text": []
    },
    {
     "name": "stdout",
     "output_type": "stream",
     "text": [
      "Training loss: 0.2461 | Train Acc: 92.25% \n",
      "\n"
     ]
    },
    {
     "name": "stderr",
     "output_type": "stream",
     "text": []
    },
    {
     "name": "stdout",
     "output_type": "stream",
     "text": [
      "Validation loss: 0.5547\n",
      "Seen Class Accuracy (0-28): 80.17%\n",
      "Unseen Class Accuracy (29): 99.07%\n",
      "Overall Val Accuracy: 83.71%\n",
      "\n",
      "Epoch time: 6.68 seconds\n",
      "\n",
      "Epoch 11/20\n"
     ]
    },
    {
     "name": "stderr",
     "output_type": "stream",
     "text": []
    },
    {
     "name": "stdout",
     "output_type": "stream",
     "text": [
      "Training loss: 0.2289 | Train Acc: 92.33% \n",
      "\n"
     ]
    },
    {
     "name": "stderr",
     "output_type": "stream",
     "text": []
    },
    {
     "name": "stdout",
     "output_type": "stream",
     "text": [
      "Validation loss: 0.6010\n",
      "Seen Class Accuracy (0-28): 78.45%\n",
      "Unseen Class Accuracy (29): 99.07%\n",
      "Overall Val Accuracy: 82.31%\n",
      "\n",
      "Epoch time: 6.48 seconds\n",
      "\n",
      "Epoch 12/20\n"
     ]
    },
    {
     "name": "stderr",
     "output_type": "stream",
     "text": []
    },
    {
     "name": "stdout",
     "output_type": "stream",
     "text": [
      "Training loss: 0.2026 | Train Acc: 93.96% \n",
      "\n"
     ]
    },
    {
     "name": "stderr",
     "output_type": "stream",
     "text": []
    },
    {
     "name": "stdout",
     "output_type": "stream",
     "text": [
      "Validation loss: 0.5654\n",
      "Seen Class Accuracy (0-28): 80.17%\n",
      "Unseen Class Accuracy (29): 99.07%\n",
      "Overall Val Accuracy: 83.71%\n",
      "\n",
      "Epoch time: 6.66 seconds\n",
      "\n",
      "Epoch 13/20\n"
     ]
    },
    {
     "name": "stderr",
     "output_type": "stream",
     "text": []
    },
    {
     "name": "stdout",
     "output_type": "stream",
     "text": [
      "Training loss: 0.2077 | Train Acc: 93.60% \n",
      "\n"
     ]
    },
    {
     "name": "stderr",
     "output_type": "stream",
     "text": []
    },
    {
     "name": "stdout",
     "output_type": "stream",
     "text": [
      "Validation loss: 0.5255\n",
      "Seen Class Accuracy (0-28): 82.76%\n",
      "Unseen Class Accuracy (29): 99.07%\n",
      "Overall Val Accuracy: 85.81%\n",
      "\n",
      "Epoch time: 6.50 seconds\n",
      "\n",
      "Epoch 14/20\n"
     ]
    },
    {
     "name": "stderr",
     "output_type": "stream",
     "text": []
    },
    {
     "name": "stdout",
     "output_type": "stream",
     "text": [
      "Training loss: 0.2096 | Train Acc: 93.08% \n",
      "\n"
     ]
    },
    {
     "name": "stderr",
     "output_type": "stream",
     "text": []
    },
    {
     "name": "stdout",
     "output_type": "stream",
     "text": [
      "Validation loss: 0.6038\n",
      "Seen Class Accuracy (0-28): 78.66%\n",
      "Unseen Class Accuracy (29): 99.07%\n",
      "Overall Val Accuracy: 82.49%\n",
      "\n",
      "Epoch time: 6.57 seconds\n",
      "\n",
      "Epoch 15/20\n"
     ]
    },
    {
     "name": "stderr",
     "output_type": "stream",
     "text": []
    },
    {
     "name": "stdout",
     "output_type": "stream",
     "text": [
      "Training loss: 0.2030 | Train Acc: 92.99% \n",
      "\n"
     ]
    },
    {
     "name": "stderr",
     "output_type": "stream",
     "text": []
    },
    {
     "name": "stdout",
     "output_type": "stream",
     "text": [
      "Validation loss: 0.5062\n",
      "Seen Class Accuracy (0-28): 80.17%\n",
      "Unseen Class Accuracy (29): 99.07%\n",
      "Overall Val Accuracy: 83.71%\n",
      "\n",
      "Epoch time: 6.63 seconds\n",
      "\n",
      "Epoch 16/20\n"
     ]
    },
    {
     "name": "stderr",
     "output_type": "stream",
     "text": []
    },
    {
     "name": "stdout",
     "output_type": "stream",
     "text": [
      "Training loss: 0.1670 | Train Acc: 94.92% \n",
      "\n"
     ]
    },
    {
     "name": "stderr",
     "output_type": "stream",
     "text": []
    },
    {
     "name": "stdout",
     "output_type": "stream",
     "text": [
      "Validation loss: 0.5034\n",
      "Seen Class Accuracy (0-28): 81.25%\n",
      "Unseen Class Accuracy (29): 99.07%\n",
      "Overall Val Accuracy: 84.59%\n",
      "\n",
      "Epoch time: 6.60 seconds\n",
      "\n",
      "Epoch 17/20\n"
     ]
    },
    {
     "name": "stderr",
     "output_type": "stream",
     "text": []
    },
    {
     "name": "stdout",
     "output_type": "stream",
     "text": [
      "Training loss: 0.1730 | Train Acc: 94.35% \n",
      "\n"
     ]
    },
    {
     "name": "stderr",
     "output_type": "stream",
     "text": []
    },
    {
     "name": "stdout",
     "output_type": "stream",
     "text": [
      "Validation loss: 0.4503\n",
      "Seen Class Accuracy (0-28): 82.97%\n",
      "Unseen Class Accuracy (29): 99.07%\n",
      "Overall Val Accuracy: 85.99%\n",
      "\n",
      "Epoch time: 6.55 seconds\n",
      "\n",
      "Epoch 18/20\n"
     ]
    },
    {
     "name": "stderr",
     "output_type": "stream",
     "text": []
    },
    {
     "name": "stdout",
     "output_type": "stream",
     "text": [
      "Training loss: 0.1754 | Train Acc: 94.35% \n",
      "\n"
     ]
    },
    {
     "name": "stderr",
     "output_type": "stream",
     "text": []
    },
    {
     "name": "stdout",
     "output_type": "stream",
     "text": [
      "Validation loss: 0.4769\n",
      "Seen Class Accuracy (0-28): 83.41%\n",
      "Unseen Class Accuracy (29): 99.07%\n",
      "Overall Val Accuracy: 86.34%\n",
      "\n",
      "Epoch time: 6.75 seconds\n",
      "\n",
      "Epoch 19/20\n"
     ]
    },
    {
     "name": "stderr",
     "output_type": "stream",
     "text": []
    },
    {
     "name": "stdout",
     "output_type": "stream",
     "text": [
      "Training loss: 0.1745 | Train Acc: 94.48% \n",
      "\n"
     ]
    },
    {
     "name": "stderr",
     "output_type": "stream",
     "text": []
    },
    {
     "name": "stdout",
     "output_type": "stream",
     "text": [
      "Validation loss: 0.6018\n",
      "Seen Class Accuracy (0-28): 79.31%\n",
      "Unseen Class Accuracy (29): 99.07%\n",
      "Overall Val Accuracy: 83.01%\n",
      "\n",
      "Epoch time: 6.52 seconds\n",
      "\n",
      "Epoch 20/20\n"
     ]
    },
    {
     "name": "stderr",
     "output_type": "stream",
     "text": []
    },
    {
     "name": "stdout",
     "output_type": "stream",
     "text": [
      "Training loss: 0.1768 | Train Acc: 94.22% \n",
      "\n"
     ]
    },
    {
     "name": "stderr",
     "output_type": "stream",
     "text": [
      "                                                           "
     ]
    },
    {
     "name": "stdout",
     "output_type": "stream",
     "text": [
      "Validation loss: 0.6168\n",
      "Seen Class Accuracy (0-28): 78.45%\n",
      "Unseen Class Accuracy (29): 99.07%\n",
      "Overall Val Accuracy: 82.31%\n",
      "\n",
      "Epoch time: 6.72 seconds\n",
      "Finished Training\n"
     ]
    },
    {
     "name": "stderr",
     "output_type": "stream",
     "text": [
      "\r"
     ]
    }
   ],
   "source": [
    "from tqdm import tqdm\n",
    "import torch\n",
    "import torch.nn as nn\n",
    "from torchvision import models\n",
    "import os\n",
    "from PIL import Image\n",
    "import time\n",
    "import gc\n",
    "EPOCHS = 20\n",
    "\n",
    "for epoch in range(EPOCHS):\n",
    "    print(f'\\nEpoch {epoch+1}/{EPOCHS}')\n",
    "    start_time = time.time()\n",
    "\n",
    "    trainer.train_epoch()\n",
    "    trainer.validate_epoch()\n",
    "\n",
    "    # torch.cuda.empty_cache()\n",
    "    # gc.collect()\n",
    "\n",
    "    end_time = time.time()\n",
    "    duration = end_time - start_time\n",
    "    print(f'Epoch time: {duration:.2f} seconds')\n",
    "\n",
    "print('Finished Training')"
   ]
  },
  {
   "cell_type": "code",
   "execution_count": null,
   "metadata": {
    "colab": {
     "base_uri": "https://localhost:8080/"
    },
    "id": "l7VwMGW9dpSj",
    "outputId": "631a6b2a-c2ba-4760-8387-18bbce0de65b"
   },
   "outputs": [
    {
     "name": "stderr",
     "output_type": "stream",
     "text": [
      "<ipython-input-51-16cfff57a904>:1: FutureWarning: You are using `torch.load` with `weights_only=False` (the current default value), which uses the default pickle module implicitly. It is possible to construct malicious pickle data which will execute arbitrary code during unpickling (See https://github.com/pytorch/pytorch/blob/main/SECURITY.md#untrusted-models for more details). In a future release, the default value for `weights_only` will be flipped to `True`. This limits the functions that could be executed during unpickling. Arbitrary objects will no longer be allowed to be loaded via this mode unless they are explicitly allowlisted by the user via `torch.serialization.add_safe_globals`. We recommend you start setting `weights_only=True` for any use case where you don't have full control of the loaded file. Please open an issue on GitHub for any issues related to this experimental feature.\n",
      "  model.load_state_dict(torch.load(\"best_model_weights.pth\"))\n"
     ]
    },
    {
     "data": {
      "text/plain": [
       "<All keys matched successfully>"
      ]
     },
     "execution_count": 51,
     "metadata": {},
     "output_type": "execute_result"
    }
   ],
   "source": [
    "model.load_state_dict(torch.load(\"best_model_weights.pth\"))\n",
    "# model.eval()  # Set to evaluation mode"
   ]
  },
  {
   "cell_type": "code",
   "execution_count": 27,
   "metadata": {
    "executionInfo": {
     "elapsed": 55,
     "status": "ok",
     "timestamp": 1746938457563,
     "user": {
      "displayName": "Yixiao Li",
      "userId": "02239315647449383733"
     },
     "user_tz": 240
    },
    "id": "TP1vU1mdpWa0"
   },
   "outputs": [],
   "source": [
    "torch.save(model, \"best_model.pt\")\n"
   ]
  },
  {
   "cell_type": "code",
   "execution_count": 28,
   "metadata": {
    "colab": {
     "base_uri": "https://localhost:8080/"
    },
    "executionInfo": {
     "elapsed": 93,
     "status": "ok",
     "timestamp": 1746938476340,
     "user": {
      "displayName": "Yixiao Li",
      "userId": "02239315647449383733"
     },
     "user_tz": 240
    },
    "id": "ZmGcbevWdpVJ",
    "outputId": "43cf99ad-8671-4982-d1ba-7dc0d677b973"
   },
   "outputs": [
    {
     "name": "stdout",
     "output_type": "stream",
     "text": [
      "best_model.pt  best_model_weights.pth  \u001b[0m\u001b[01;34mdrive\u001b[0m/  \u001b[01;34msample_data\u001b[0m/\n"
     ]
    }
   ],
   "source": [
    "ls"
   ]
  },
  {
   "cell_type": "code",
   "execution_count": 3,
   "metadata": {
    "colab": {
     "base_uri": "https://localhost:8080/"
    },
    "executionInfo": {
     "elapsed": 39,
     "status": "ok",
     "timestamp": 1746937876453,
     "user": {
      "displayName": "Yixiao Li",
      "userId": "02239315647449383733"
     },
     "user_tz": 240
    },
    "id": "O64k51QldpYA",
    "outputId": "0ee61231-92ec-4b89-e32b-4aa0434ae7f8"
   },
   "outputs": [
    {
     "name": "stdout",
     "output_type": "stream",
     "text": [
      "/content\n"
     ]
    }
   ],
   "source": [
    "import os\n",
    "print(os.getcwd())\n"
   ]
  },
  {
   "cell_type": "code",
   "execution_count": 4,
   "metadata": {
    "colab": {
     "base_uri": "https://localhost:8080/"
    },
    "executionInfo": {
     "elapsed": 14,
     "status": "ok",
     "timestamp": 1746937883541,
     "user": {
      "displayName": "Yixiao Li",
      "userId": "02239315647449383733"
     },
     "user_tz": 240
    },
    "id": "Mhg3r110dpan",
    "outputId": "88edd81b-db9d-44c8-d655-cb55d6a117e6"
   },
   "outputs": [
    {
     "name": "stdout",
     "output_type": "stream",
     "text": [
      "['.config', 'drive', 'sample_data']\n"
     ]
    }
   ],
   "source": [
    "import os\n",
    "print(os.listdir(os.getcwd()))\n"
   ]
  },
  {
   "cell_type": "code",
   "execution_count": null,
   "metadata": {
    "id": "qG-KFyRhdpc8"
   },
   "outputs": [],
   "source": []
  }
 ],
 "metadata": {
  "colab": {
   "machine_shape": "hm",
   "provenance": []
  },
  "kernelspec": {
   "display_name": "Python 3 (ipykernel)",
   "language": "python",
   "name": "python3"
  },
  "language_info": {
   "codemirror_mode": {
    "name": "ipython",
    "version": 3
   },
   "file_extension": ".py",
   "mimetype": "text/x-python",
   "name": "python",
   "nbconvert_exporter": "python",
   "pygments_lexer": "ipython3",
   "version": "3.12.7"
  }
 },
 "nbformat": 4,
 "nbformat_minor": 4
}
